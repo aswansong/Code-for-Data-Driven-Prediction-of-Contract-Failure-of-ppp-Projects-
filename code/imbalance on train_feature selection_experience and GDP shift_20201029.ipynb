{
 "cells": [
  {
   "cell_type": "code",
   "execution_count": 25,
   "metadata": {},
   "outputs": [],
   "source": [
    "import pandas as pd\n",
    "import numpy as np\n",
    "import seaborn as sns\n",
    "\n",
    "from sklearn.preprocessing import LabelEncoder\n",
    "from sklearn.preprocessing import OrdinalEncoder\n",
    "from sklearn.preprocessing import StandardScaler\n",
    "from sklearn.preprocessing import RobustScaler\n",
    "from sklearn.utils import resample\n",
    "from sklearn.model_selection import train_test_split\n",
    "from sklearn.model_selection import RandomizedSearchCV\n",
    "from sklearn.model_selection import GridSearchCV\n",
    "from sklearn.model_selection import cross_validate, cross_val_predict\n",
    "from sklearn.ensemble import RandomForestClassifier\n",
    "\n",
    "from sklearn.metrics import confusion_matrix, roc_curve, f1_score\n",
    "from sklearn.calibration import CalibratedClassifierCV\n",
    "from sklearn import metrics\n",
    "import matplotlib.pyplot as plt\n",
    "from collections import defaultdict\n",
    "import collections\n",
    "\n",
    "from imblearn.over_sampling import SMOTE, ADASYN\n",
    "from imblearn.under_sampling import RandomUnderSampler\n",
    "from sklearn import svm\n",
    "import lightgbm as lgb\n",
    "import xgboost as xgb\n",
    "import re\n",
    "import warnings\n",
    "warnings.filterwarnings(\"ignore\")"
   ]
  },
  {
   "cell_type": "code",
   "execution_count": 3,
   "metadata": {},
   "outputs": [],
   "source": [
    "#1.PPI database\n",
    "PPP_data = pd.read_csv(r\"C:\\PPP\\Thesis\\Paper3\\Database\\PPP_Projects_Total.csv\")\n",
    "#add experience\n",
    "country_experience = PPP_data.groupby(['countrycode', 'IY']).size().reset_index().sort_values(['countrycode', 'IY'])\n",
    "country_experience.columns = ['countrycode', 'IY', 'experience']\n",
    "unique_country = country_experience.countrycode.unique()\n",
    "years = np.arange(1990, 2020)\n",
    "\n",
    "for country in unique_country:\n",
    "    for year in years:\n",
    "        if year not in country_experience.loc[country_experience.countrycode==country, 'IY'].values:\n",
    "            country_experience = country_experience.append({'countrycode': country, 'IY': year, 'experience': 0}, ignore_index=True)"
   ]
  },
  {
   "cell_type": "code",
   "execution_count": 4,
   "metadata": {},
   "outputs": [],
   "source": [
    "country_experience = country_experience.sort_values(by=['countrycode', 'IY']).set_index(np.arange(country_experience.shape[0]))\n",
    "country_experience['cum_experience'] = country_experience.groupby('countrycode')['experience'].cumsum()\n",
    "country_experience.drop(columns=['experience'], inplace=True)\n",
    "\n",
    "country_experience['shifted_country_experience_1'] = country_experience.groupby('countrycode')['cum_experience'].shift(1).fillna(method='bfill')\n",
    "country_experience.drop(columns=['cum_experience'], inplace=True)"
   ]
  },
  {
   "cell_type": "markdown",
   "metadata": {},
   "source": [
    "country_sector_experience = PPP_data.groupby(['countrycode', 'IY', 'sector']).size().reset_index().sort_values(['countrycode', 'IY'])\n",
    "country_sector_experience.columns = ['countrycode', 'IY', 'sector', 'sector_experience']\n",
    "unique_sector_country = country_sector_experience.countrycode.unique()\n",
    "unique_sector = country_sector_experience.sector.unique()\n",
    "years = np.arange(1990, 2020)\n",
    "\n",
    "for country in unique_sector_country:\n",
    "    for year in years:\n",
    "        if year not in country_sector_experience.loc[country_sector_experience.countrycode==country, 'IY'].values:\n",
    "            for sectors in unique_sector:\n",
    "                country_sector_experience = country_sector_experience.append({'countrycode': country, \n",
    "                                                                              'IY': year, \n",
    "                                                                              'sector': sectors, \n",
    "                                                                              'sector_experience': 0}, ignore_index=True)\n",
    "        else:\n",
    "            for sectors in unique_sector:\n",
    "                if sectors not in country_sector_experience.loc[(country_sector_experience.countrycode==country) & (country_sector_experience.IY==year),\n",
    "                                                                'sector'].values:\n",
    "                    country_sector_experience = country_sector_experience.append({'countrycode': country, \n",
    "                                                                                  'IY': year, \n",
    "                                                                                  'sector': sectors, \n",
    "                                                                                  'sector_experience': 0}, ignore_index=True)"
   ]
  },
  {
   "cell_type": "markdown",
   "metadata": {},
   "source": [
    "country_sector_experience = country_sector_experience.sort_values(by=['countrycode', 'IY']).set_index(np.arange(country_sector_experience.shape[0]))\n",
    "country_sector_experience['cum_sector_experience'] = country_sector_experience.groupby(['countrycode', 'sector'])['sector_experience'].cumsum()\n",
    "country_sector_experience.drop(columns=['sector_experience'], inplace=True)\n",
    "\n",
    "country_sector_experience['shifted_sector_experience_1'] = country_sector_experience.groupby(['countrycode', 'sector'])['cum_sector_experience'].shift(1).fillna(method='bfill')\n",
    "country_sector_experience.drop(columns=['cum_sector_experience'], inplace=True)"
   ]
  },
  {
   "cell_type": "code",
   "execution_count": 5,
   "metadata": {},
   "outputs": [],
   "source": [
    "PPP_data = PPP_data.merge(country_experience,\n",
    "                          left_on=['countrycode', 'IY'],\n",
    "                          right_on=['countrycode', 'IY'],\n",
    "                          how='left')"
   ]
  },
  {
   "cell_type": "code",
   "execution_count": 6,
   "metadata": {},
   "outputs": [],
   "source": [
    "PPP_data.loc[:, 'PCO'] = PPP_data['PCO'].str.replace('\\n', '') \n",
    "PPP_data.loc[~PPP_data.PCO.isnull() & (PPP_data.PCO != ''), \n",
    "             'sponsor_number'] = PPP_data[~PPP_data.PCO.isnull() & (PPP_data.PCO != '')].PCO.str.split('/').map(lambda x: x[2])\n",
    "PPP_data.sponsor_number = PPP_data.sponsor_number.replace('', np.nan)\n",
    "\n",
    "PPP_data.loc[~PPP_data.PCO.isnull() & (PPP_data.PCO != ''), \n",
    "             'foreign_country'] = PPP_data[~PPP_data.PCO.isnull() & (PPP_data.PCO != '')].PCO.str.split('/').map(lambda x: x[1])\n",
    "\n",
    "PPP_data.foreign_country = PPP_data.foreign_country.replace('N', 'No')\n",
    "PPP_data.loc[(PPP_data.foreign_country!='No') & (~PPP_data.foreign_country.isnull()), 'foreign_country'] = 'Yes'"
   ]
  },
  {
   "cell_type": "markdown",
   "metadata": {},
   "source": [
    "PPP_data = PPP_data.merge(country_sector_experience,\n",
    "                          left_on=['countrycode', 'IY', 'sector'],\n",
    "                          right_on=['countrycode', 'IY', 'sector'],\n",
    "                          how='left')"
   ]
  },
  {
   "cell_type": "code",
   "execution_count": 7,
   "metadata": {},
   "outputs": [],
   "source": [
    "#2.GDP per capita\n",
    "GDP_per_capita = pd.read_csv(r\"C:\\PPP\\Thesis\\Paper3\\Database\\GDP per Capita.csv\")\n",
    "#3.Tax as GDP\n",
    "tax_as_GDP = pd.read_csv(r\"C:\\PPP\\Thesis\\Paper3\\Database\\Tax as GDP.csv\")\n",
    "#4.GDP deflator(inflation rate)\n",
    "GDP_deflator = pd.read_csv(r\"C:\\PPP\\Thesis\\Paper3\\Database\\GDP deflator.csv\")\n",
    "#5.life expectnacy\n",
    "life_expectnacy = pd.read_csv(r\"C:\\PPP\\Thesis\\Paper3\\Database\\Life expectnacy.csv\")\n",
    "#6.real effective change\n",
    "real_effective_change = pd.read_csv(r\"C:\\PPP\\Thesis\\Paper3\\Database\\Real effect change.csv\")\n",
    "#7.electric consumption\n",
    "electric_consumption = pd.read_csv(r\"C:\\PPP\\Thesis\\Paper3\\Database\\Electric consumption.csv\")\n",
    "#8.domestic credit to private\n",
    "domestic_credit_to_private = pd.read_csv(r\"C:\\PPP\\Thesis\\Paper3\\Database\\Domestic credit to private.csv\")\n",
    "#9.Import as GDP\n",
    "imports_as_GDP = pd.read_csv(r\"C:\\PPP\\Thesis\\Paper3\\Database\\Imports as GDP.csv\")\n",
    "#10.Export as GDP\n",
    "exports_as_GDP = pd.read_csv(r\"C:\\PPP\\Thesis\\Paper3\\Database\\Exports as GDP.csv\")\n",
    "#11.Control of corruption\n",
    "control_of_corruption = pd.read_csv(r\"C:\\PPP\\Thesis\\Paper3\\Database\\Control of corruption.csv\", encoding='cp1252')\n",
    "#12.Government of effectiveness\n",
    "government_effectiveness = pd.read_csv(r\"C:\\PPP\\Thesis\\Paper3\\Database\\Government effectiveness.csv\", encoding='cp1252')\n",
    "#13.Political stability\n",
    "political_stability = pd.read_csv(r\"C:\\PPP\\Thesis\\Paper3\\Database\\Political Stability and Absence of Violence.csv\", encoding='cp1252')\n",
    "#14.regulatory quality\n",
    "regulatory_quality = pd.read_csv(r\"C:\\PPP\\Thesis\\Paper3\\Database\\Regulatory quality.csv\", encoding='cp1252')\n",
    "#15.Rule of law\n",
    "rule_of_law = pd.read_csv(r\"C:\\PPP\\Thesis\\Paper3\\Database\\Rule of law.csv\", encoding='cp1252')\n",
    "#16.voice and accountability\n",
    "voice_and_accountability = pd.read_csv(r\"C:\\PPP\\Thesis\\Paper3\\Database\\Voice and accountability.csv\", encoding='cp1252')\n",
    "\n",
    "dataset = [GDP_per_capita, \n",
    "           tax_as_GDP, \n",
    "           GDP_deflator, \n",
    "           life_expectnacy, \n",
    "           real_effective_change,\n",
    "           electric_consumption,\n",
    "           domestic_credit_to_private, \n",
    "           imports_as_GDP, \n",
    "           exports_as_GDP, \n",
    "           control_of_corruption,\n",
    "           government_effectiveness, \n",
    "           political_stability, \n",
    "           regulatory_quality, \n",
    "           rule_of_law, \n",
    "           voice_and_accountability]\n",
    "\n",
    "dataset_name = ['GDP_per_capita', \n",
    "                'tax_as_GDP', \n",
    "                'GDP_deflator', \n",
    "                'life_expectnacy', \n",
    "                'real_effective_change',\n",
    "                'electric_consumption', \n",
    "                'domestic_credit_to_private', \n",
    "                'imports_as_GDP', \n",
    "                'exports_as_GDP', \n",
    "                'control_of_corruption',\n",
    "                'government_effectiveness',\n",
    "                'political_stability', \n",
    "                'regulatory_quality', \n",
    "                'rule_of_law', \n",
    "                'voice_and_accountability']\n",
    "\n",
    "def process_data(original_data):\n",
    "    new_data = original_data.copy()\n",
    "    new_data.replace('..', np.nan, inplace=True)\n",
    "    new_data.drop(columns=['Series Name', 'Series Code', 'Country Name'], inplace=True)\n",
    "    new_data.set_index('Country Code', inplace=True)\n",
    "    new_data.dropna(how='all', inplace=True)\n",
    "    new_data.columns = [name.split(' ')[0] for name in list(new_data.columns)]\n",
    "    new_data = new_data.fillna(axis=1, method='bfill')\n",
    "    new_data = new_data.fillna(axis=1, method='ffill')\n",
    "    return new_data\n",
    "\n",
    "for i in np.arange(len(dataset)):\n",
    "    dataset[i] = process_data(dataset[i])\n",
    "\n",
    "def meltdata(raw_data, column_name):\n",
    "    new_data = pd.melt(raw_data.reset_index(), \n",
    "                       id_vars=['Country Code'], \n",
    "                       var_name=['Year'],\n",
    "                       value_vars=raw_data.columns,\n",
    "                       value_name=column_name)   \n",
    "    new_data.Year = new_data.Year.astype('int64', copy=False)\n",
    "    return new_data\n",
    "\n",
    "for i,name in zip(np.arange(len(dataset)), dataset_name):\n",
    "    dataset[i] = meltdata(dataset[i], name).copy()\n",
    "    dataset[i].rename(columns={'Country Code': 'countrycode', \n",
    "                               'Year': 'IY'}, \n",
    "                      inplace=True)\n",
    "    dataset[i][name] = dataset[i].groupby('countrycode')[name].shift(1).fillna(method='bfill')\n",
    "\n",
    "for data in dataset:\n",
    "    PPP_data= PPP_data.merge(data, \n",
    "                             left_on=['countrycode', 'IY'], \n",
    "                             right_on=['countrycode', 'IY'], \n",
    "                             how='left')"
   ]
  },
  {
   "cell_type": "code",
   "execution_count": 8,
   "metadata": {},
   "outputs": [],
   "source": [
    "#copy data out.\n",
    "data = PPP_data.copy()\n",
    "data.drop(columns=['country',\n",
    "                   'regionname',                   \n",
    "                   'region',\n",
    "                   'adminregionname',\n",
    "                   'Description',\n",
    "                   'FCY',\n",
    "                   'bid_crit',\n",
    "                   'incomelevelname',\n",
    "                   'lendingtypename',\n",
    "                   'TIGS',\n",
    "                   'PCO',\n",
    "                   'shareborder',\n",
    "                   'GDP',\n",
    "                   'population',\n",
    "                   'investment_real',\n",
    "                   'realphysicalassets',\n",
    "                   'income'], inplace=True)\n",
    "\n",
    "data.replace('..', np.nan, inplace=True)\n",
    "\n",
    "data.replace({'status_n': {'Cancelled': 'fail', \n",
    "                           'Distressed': 'fail', \n",
    "                           'Active': 'success',\n",
    "                           'Concluded': 'success'}}, inplace=True)\n",
    "\n",
    "float_value = ['GDP_per_capita', \n",
    "               'tax_as_GDP', \n",
    "               'GDP_deflator', \n",
    "               'life_expectnacy', \n",
    "               'real_effective_change',\n",
    "               'electric_consumption', \n",
    "               'domestic_credit_to_private', \n",
    "               'imports_as_GDP', \n",
    "               'exports_as_GDP', \n",
    "               'control_of_corruption',\n",
    "               'government_effectiveness', \n",
    "               'political_stability', \n",
    "               'regulatory_quality', \n",
    "               'rule_of_law', \n",
    "               'voice_and_accountability',\n",
    "               'shifted_country_experience_1',\n",
    "               'period',\n",
    "               'CPI2019',\n",
    "               'bordercountries', \n",
    "               'private', \n",
    "               'physical', \n",
    "               'period',\n",
    "               'investment', \n",
    "               'pcapacity',\n",
    "               'sponsor_number',\n",
    "               'IY']\n",
    "nominal_value = ['IDA', \n",
    "                 'Region',\n",
    "                 'type', \n",
    "                 'stype', \n",
    "                 'sector'\n",
    "                 'ssector',\n",
    "                 'Segment', \n",
    "                 'UP', \n",
    "                 'PublicDisclosure', \n",
    "                 'PRS', \n",
    "                 'Renewables', \n",
    "                 'MLS', \n",
    "                 'GGC',\n",
    "                 'BS',\n",
    "                 'lendingtype'\n",
    "                 'adminregion',\n",
    "                 'foreign_country']\n",
    "ordinal_value = ['incomelevel']\n",
    "\n",
    "for float_column in float_value:\n",
    "    data[float_column] = data[float_column].astype(float)"
   ]
  },
  {
   "cell_type": "code",
   "execution_count": 9,
   "metadata": {},
   "outputs": [],
   "source": [
    "# BS (Bilateral Support) replace with NO and Yes, \n",
    "data.loc[(data.BS!='No') & (~data.BS.isnull()), 'BS'] = 'Yes'\n",
    "#private convert to categorical data.\n",
    "#physical, investment, pcapacity will be converted to np.log\n",
    "to_log = ['physical', 'investment', 'pcapacity']\n",
    "for column in to_log:\n",
    "    data[column] = np.log(data[column] + 0.01)"
   ]
  },
  {
   "cell_type": "code",
   "execution_count": 10,
   "metadata": {},
   "outputs": [],
   "source": [
    "#split the data\n",
    "X = data[data.columns[data.columns!='status_n']]\n",
    "y = data['status_n']\n",
    "#income value is ordinal value\n",
    "mapper = {'LIC': 1, \n",
    "          'HIC': 4, \n",
    "          'LMC': 2, \n",
    "          'UMC': 3}\n",
    "X.loc[:, 'incomelevel'] = X.incomelevel.map(mapper)\n",
    "\n",
    "predicted_status = {'success': 0, \n",
    "                    'fail': 1}\n",
    "y = y.map(predicted_status)\n",
    "X_train, X_test, y_train, y_test = train_test_split(X, y, test_size=0.25, random_state=123, stratify=y, shuffle=True)"
   ]
  },
  {
   "cell_type": "code",
   "execution_count": 11,
   "metadata": {},
   "outputs": [],
   "source": [
    "def fillna_nominal(train_dataset, test_dataset, group_list, column):\n",
    "    train = train_dataset.copy()\n",
    "    test = test_dataset.copy()\n",
    "    mode_in_train = train.groupby(group_list)[column].agg(pd.Series.mode).to_frame().reset_index()\n",
    "    # if no mode for current group, then fill with the mode in current column.\n",
    "    for index, row in mode_in_train.iterrows():\n",
    "        if type(row[column]) == np.ndarray:\n",
    "            mode_in_train.loc[index, column] = train[column].mode()[0]\n",
    "    for i, rows in mode_in_train.iterrows():\n",
    "        train_index = (train[group_list[0]] == rows[group_list[0]])\n",
    "        test_index = (test[group_list[0]] == rows[group_list[0]])\n",
    "        for t in np.arange(len(group_list)):\n",
    "            train_index = train_index & (train[group_list[t]] == rows[group_list[t]])\n",
    "            test_index = test_index & (test[group_list[t]] == rows[group_list[t]])\n",
    "        train.loc[train_index, column] = train.loc[train_index, column].fillna(rows[column])\n",
    "        test.loc[test_index, column] = test.loc[test_index, column].fillna(rows[column])\n",
    "        \n",
    "    train.loc[:, column] = train[column].fillna(train[column].mode()[0])\n",
    "    test.loc[:, column] = test[column].fillna(train[column].mode()[0])       \n",
    "    return train, test\n",
    "def fillna_numerical(train_dataset, test_dataset, group_list, column):\n",
    "    train = train_dataset.copy()\n",
    "    test = test_dataset.copy()\n",
    "    mean_in_train = train.groupby(group_list)[column].mean().to_frame().reset_index()\n",
    "    for i, rows in mean_in_train.iterrows():\n",
    "        train_index = (train[group_list[0]] == rows[group_list[0]])\n",
    "        test_index = (test[group_list[0]] == rows[group_list[0]])\n",
    "        for t in np.arange(len(group_list)):\n",
    "            train_index = train_index & (train[group_list[t]] == rows[group_list[t]])\n",
    "            test_index = test_index & (test[group_list[t]] == rows[group_list[t]])\n",
    "        train.loc[train_index, column] = train.loc[train_index, column].fillna(rows[column])\n",
    "        test.loc[test_index, column] = test.loc[test_index, column].fillna(rows[column])\n",
    "        \n",
    "    train.loc[:, column] = train[column].fillna(train[column].mean())\n",
    "    test.loc[:, column] = test[column].fillna(train[column].mean())\n",
    "    return train, test   "
   ]
  },
  {
   "cell_type": "code",
   "execution_count": 271,
   "metadata": {},
   "outputs": [
    {
     "name": "stdout",
     "output_type": "stream",
     "text": [
      "<class 'pandas.core.frame.DataFrame'>\n",
      "Int64Index: 5322 entries, 851 to 4383\n",
      "Data columns (total 44 columns):\n",
      "IY                              5322 non-null float64\n",
      "Region                          5322 non-null object\n",
      "IDA                             5322 non-null object\n",
      "type                            5322 non-null object\n",
      "stype                           5322 non-null object\n",
      "sector                          5322 non-null object\n",
      "ssector                         5322 non-null object\n",
      "Segment                         5322 non-null object\n",
      "period                          3858 non-null float64\n",
      "GGC                             4272 non-null object\n",
      "private                         5121 non-null float64\n",
      "physical                        5087 non-null float64\n",
      "investment                      4932 non-null float64\n",
      "pcapacity                       4566 non-null float64\n",
      "PRS                             5318 non-null object\n",
      "BS                              5127 non-null object\n",
      "UP                              5322 non-null object\n",
      "PublicDisclosure                5322 non-null object\n",
      "bordercountries                 5322 non-null float64\n",
      "countrycode                     5322 non-null object\n",
      "adminregion                     5157 non-null object\n",
      "incomelevel                     5318 non-null float64\n",
      "lendingtype                     5318 non-null object\n",
      "CPI2019                         5322 non-null float64\n",
      "Renewables                      5322 non-null object\n",
      "MLS                             5322 non-null object\n",
      "shifted_country_experience_1    5322 non-null float64\n",
      "sponsor_number                  3698 non-null float64\n",
      "foreign_country                 3699 non-null object\n",
      "GDP_per_capita                  5322 non-null float64\n",
      "tax_as_GDP                      5013 non-null float64\n",
      "GDP_deflator                    5322 non-null float64\n",
      "life_expectnacy                 5322 non-null float64\n",
      "real_effective_change           3264 non-null float64\n",
      "electric_consumption            5210 non-null float64\n",
      "domestic_credit_to_private      5318 non-null float64\n",
      "imports_as_GDP                  5315 non-null float64\n",
      "exports_as_GDP                  5315 non-null float64\n",
      "control_of_corruption           5322 non-null float64\n",
      "government_effectiveness        5322 non-null float64\n",
      "political_stability             5322 non-null float64\n",
      "regulatory_quality              5322 non-null float64\n",
      "rule_of_law                     5203 non-null float64\n",
      "voice_and_accountability        5322 non-null float64\n",
      "dtypes: float64(26), object(18)\n",
      "memory usage: 1.8+ MB\n"
     ]
    }
   ],
   "source": [
    "X_train.info()"
   ]
  },
  {
   "cell_type": "code",
   "execution_count": 12,
   "metadata": {},
   "outputs": [],
   "source": [
    "missing_categorical = {'lendingtype': ['countrycode', 'ssector'],\n",
    "                       'GGC': ['countrycode', 'ssector'],\n",
    "                       'PRS': ['countrycode', 'ssector'],\n",
    "                       'BS': ['countrycode', 'ssector'],\n",
    "                       'adminregion': ['Region'],\n",
    "                       'incomelevel': ['Region'],\n",
    "                       'foreign_country': ['countrycode', 'ssector']}\n",
    "\n",
    "for column, group_list in missing_categorical.items():\n",
    "    if (X_train[column].isnull().sum() != 0) | (X_test[column].isnull().sum() != 0):\n",
    "        X_train, X_test = fillna_nominal(X_train, X_test, group_list, column)\n",
    "\n",
    "missing_numerical = {'period': ['stype', 'sector', 'Region', 'countrycode'],\n",
    "                     'pcapacity': ['stype', 'sector', 'Region', 'countrycode'],\n",
    "                     'private': ['stype', 'ssector', 'countrycode'],\n",
    "                     'physical': ['stype', 'ssector', 'countrycode'],\n",
    "                     'investment': ['stype', 'ssector', 'countrycode'],\n",
    "                     'tax_as_GDP': ['Region'],\n",
    "                     'real_effective_change': ['Region'],\n",
    "                     'domestic_credit_to_private': ['Region'],\n",
    "                     'rule_of_law': ['Region'],\n",
    "                     'imports_as_GDP': ['Region'],\n",
    "                     'exports_as_GDP': ['Region'],\n",
    "                     'electric_consumption': ['Region'],\n",
    "                     'sponsor_number': ['countrycode', 'ssector']}\n",
    "\n",
    "for column, group_list in missing_numerical.items():\n",
    "    if (X_train[column].isnull().sum() != 0) | (X_test[column].isnull().sum() != 0):\n",
    "        X_train, X_test = fillna_numerical(X_train, X_test, group_list, column)"
   ]
  },
  {
   "cell_type": "code",
   "execution_count": 13,
   "metadata": {},
   "outputs": [],
   "source": [
    "X_train.drop(columns=['countrycode'], inplace=True)\n",
    "X_test.drop(columns=['countrycode'], inplace=True)\n",
    "\n",
    "X_train = X_train.reset_index(drop=True)\n",
    "y_train = y_train.reset_index(drop=True)\n",
    "X_test = X_test.reset_index(drop=True)\n",
    "y_test = y_test.reset_index(drop=True)"
   ]
  },
  {
   "cell_type": "code",
   "execution_count": 14,
   "metadata": {},
   "outputs": [],
   "source": [
    "#to make sure the train and test dataset have the same shape\n",
    "train_objs_num = len(X_train)\n",
    "combine_dataset = pd.concat(objs=[X_train, X_test], axis=0)\n",
    "dataset_preprocessed = pd.get_dummies(combine_dataset, columns=X_train.columns[X_train.dtypes == object], drop_first=True)\n",
    "X_train = dataset_preprocessed[:train_objs_num]\n",
    "X_test = dataset_preprocessed[train_objs_num:]\n",
    "#scaling data\n",
    "scaler = RobustScaler()\n",
    "numeric_column = X_train.columns[X_train.dtypes == 'float64']\n",
    "X_train[numeric_column] = scaler.fit_transform(X_train[numeric_column])\n",
    "X_test[numeric_column] = scaler.transform(X_test[numeric_column])"
   ]
  },
  {
   "cell_type": "code",
   "execution_count": 15,
   "metadata": {},
   "outputs": [],
   "source": [
    "X_bal, y_bal = SMOTE(sampling_strategy='minority',random_state=0).fit_resample(\n",
    "    X_train,\n",
    "    y_train)\n",
    "\n",
    "X_bal = pd.DataFrame(X_bal, columns=X_train.columns)\n",
    "y_bal = pd.DataFrame(y_bal, columns=['status_n'])\n",
    "# ###########\n",
    "balanced = X_bal.join(y_bal)\n",
    "bal_corr = balanced.corr()"
   ]
  },
  {
   "cell_type": "code",
   "execution_count": 16,
   "metadata": {},
   "outputs": [],
   "source": [
    "data_dict = {}\n",
    "for threshold in [0]:\n",
    "    for out in [6]:\n",
    "        no_outliers = pd.DataFrame(balanced.copy())\n",
    "        cols = bal_corr.status_n.index[:-1]\n",
    "        for col in cols:\n",
    "            correlation = bal_corr.loc['status_n', col]\n",
    "            if np.abs(correlation) > threshold:\n",
    "                nonfrauds = no_outliers.loc[no_outliers.status_n==0, col]\n",
    "                frauds = no_outliers.loc[no_outliers.status_n==1, col]\n",
    "        \n",
    "                all_values = no_outliers.loc[:,col]\n",
    "                q25, q75 = np.percentile(all_values, 25), np.percentile(all_values, 75)\n",
    "                iqr = q75 - q25\n",
    "                cutoff = iqr * out\n",
    "                lower, upper = q25 - cutoff, q75 + cutoff\n",
    "                if correlation > 0: \n",
    "                    no_outliers.drop(index=nonfrauds[nonfrauds>upper].index,inplace=True)\n",
    "                    no_outliers.drop(index=frauds[frauds<lower].index,inplace=True)\n",
    "                elif correlation < 0: \n",
    "                    no_outliers.drop(index=nonfrauds[nonfrauds<lower].index,inplace=True)\n",
    "                    no_outliers.drop(index=frauds[frauds>upper].index,inplace=True)        \n",
    "        for i in [0.02]:\n",
    "            data_list = []\n",
    "            key =(threshold, out, i)\n",
    "            feat_sel =pd.DataFrame(no_outliers.copy())\n",
    "            new_corr = feat_sel.corr()\n",
    "            for col in new_corr.status_n.index[:-1]:\n",
    "                if np.abs(new_corr.loc['status_n', col]) < i:\n",
    "                    feat_sel.drop(columns=col, inplace=True)\n",
    "\n",
    "            X_final_train = feat_sel.drop('status_n', 1)\n",
    "            y_final_train = feat_sel.status_n\n",
    "\n",
    "            X_final_test = X_test[X_final_train.columns]\n",
    "            y_final_test = y_test\n",
    "            data_list.append([X_final_train, y_final_train, X_final_test, y_final_test])\n",
    "            data_dict[key] = data_list"
   ]
  },
  {
   "cell_type": "code",
   "execution_count": 355,
   "metadata": {},
   "outputs": [
    {
     "data": {
      "text/plain": [
       "120"
      ]
     },
     "execution_count": 355,
     "metadata": {},
     "output_type": "execute_result"
    }
   ],
   "source": [
    "len(data_dict)"
   ]
  },
  {
   "cell_type": "code",
   "execution_count": 313,
   "metadata": {},
   "outputs": [
    {
     "data": {
      "text/plain": [
       "(10230, 63)"
      ]
     },
     "execution_count": 313,
     "metadata": {},
     "output_type": "execute_result"
    }
   ],
   "source": [
    "X_final_train.shape"
   ]
  },
  {
   "cell_type": "code",
   "execution_count": 84,
   "metadata": {},
   "outputs": [],
   "source": [
    "X_final_train, y_final_train = SMOTE(sampling_strategy='minority',random_state=0).fit_resample(\n",
    "    X_final_train,\n",
    "    y_final_train)"
   ]
  },
  {
   "cell_type": "code",
   "execution_count": 85,
   "metadata": {},
   "outputs": [
    {
     "data": {
      "text/plain": [
       "(8302, 47)"
      ]
     },
     "execution_count": 85,
     "metadata": {},
     "output_type": "execute_result"
    }
   ],
   "source": [
    "X_final_train.shape"
   ]
  },
  {
   "cell_type": "code",
   "execution_count": 26,
   "metadata": {},
   "outputs": [],
   "source": [
    "def plot_roc(y_true, y_pred):\n",
    "    fpr, tpr, thresholds = metrics.roc_curve(y_true, y_pred)\n",
    "    roc_auc = metrics.auc(fpr, tpr)\n",
    "    plt.title('Receiver Operating Characteristic')\n",
    "    plt.plot(fpr, tpr, 'k', label = 'AUC = %0.2f' % roc_auc)\n",
    "    plt.legend(loc = 'lower right')\n",
    "    plt.plot([0, 1], [0, 1],'r--')\n",
    "    plt.axis('square')\n",
    "    plt.grid(True)\n",
    "    plt.xlim([0, 1])\n",
    "    plt.ylim([0, 1])\n",
    "    plt.ylabel('True Positive Rate')\n",
    "    plt.xlabel('False Positive Rate')\n",
    "\n",
    "def plot_recall_precision(y_true, y_pred):\n",
    "    precision, recall, thresholds = metrics.precision_recall_curve(y_true, y_pred)\n",
    "    plt.title('Recall-Precision')\n",
    "    plt.plot(recall, precision, 'k')\n",
    "    no_skill = y_true.sum()/len(y_true)\n",
    "    plt.plot([0, 1], [no_skill, no_skill], linestyle='--')\n",
    "    plt.legend(loc = 'lower right')\n",
    "    plt.axis('square')\n",
    "    plt.grid(True)\n",
    "    plt.xlim([0, 1])\n",
    "    plt.ylim([0, 1])\n",
    "    plt.ylabel('Precision')\n",
    "    plt.xlabel('Recall')\n",
    "\n",
    "def plot_cm(labels, predictions, p=0.1):\n",
    "    cm = confusion_matrix(labels, predictions > p)\n",
    "    plt.figure(figsize=(5,5))\n",
    "    sns.heatmap(cm, annot=True, fmt=\"d\")\n",
    "    plt.title('Confusion matrix @{:.2f}'.format(p))\n",
    "    plt.ylabel('Actual label')\n",
    "    plt.xlabel('Predicted label')\n",
    "\n",
    "def plot_threshold_graph(y_true, y_pred):\n",
    "    precision, recall, thresholds = metrics.precision_recall_curve(y_true, y_pred)\n",
    "    precision = precision[:-1]\n",
    "    recall = recall[:-1]\n",
    "    f1_score = 2*precision*recall/(recall + precision)\n",
    "    plt.figure(figsize=(8,5))\n",
    "    plt.plot(thresholds, precision, 'k')\n",
    "    plt.plot(thresholds, recall,'r')\n",
    "    plt.plot(thresholds, f1_score, 'y')"
   ]
  },
  {
   "cell_type": "code",
   "execution_count": 18,
   "metadata": {},
   "outputs": [
    {
     "name": "stderr",
     "output_type": "stream",
     "text": [
      "[Parallel(n_jobs=-1)]: Using backend LokyBackend with 8 concurrent workers.\n",
      "[Parallel(n_jobs=-1)]: Done  20 out of  20 | elapsed:   18.0s finished\n"
     ]
    }
   ],
   "source": [
    "#clf and upsample\n",
    "clf = RandomForestClassifier(random_state=1)\n",
    "param_grid = {'n_estimators': [int(x) for x in np.linspace(700, 2000, 25)],\n",
    "              'max_features': ['auto', 'sqrt'], \n",
    "              'max_depth': [int(x) for x in np.linspace(10, 80, 30)],\n",
    "              'min_samples_split': [int(x) for x in np.linspace(2, 30, 20)],\n",
    "              'min_samples_leaf': [int(x) for x in np.linspace(2, 30, 20)],\n",
    "              'bootstrap': [True, False]}\n",
    "clf_random_grid = RandomizedSearchCV(clf,\n",
    "                                     param_grid, \n",
    "                                     refit=True, \n",
    "                                     verbose=-1, \n",
    "                                     cv=2,\n",
    "                                     n_jobs=-1,\n",
    "                                     random_state=123)\n",
    "random_forest_result = []\n",
    "for k,v in data_dict.items():\n",
    "    clf_random_grid.fit(v[0][0], v[0][1])\n",
    "    pred_clf_upsample = cross_val_predict(clf_random_grid.best_estimator_,\n",
    "                                          v[0][2],\n",
    "                                          v[0][3],                                      \n",
    "                                          method='predict_proba',\n",
    "                                          cv=5)\n",
    "    random_forest_result.append(pred_clf_upsample)"
   ]
  },
  {
   "cell_type": "code",
   "execution_count": 20,
   "metadata": {},
   "outputs": [],
   "source": [
    "result_2 = random_forest_result.copy()"
   ]
  },
  {
   "cell_type": "code",
   "execution_count": 21,
   "metadata": {},
   "outputs": [
    {
     "data": {
      "text/plain": [
       "1"
      ]
     },
     "execution_count": 21,
     "metadata": {},
     "output_type": "execute_result"
    }
   ],
   "source": [
    "len(result_2)"
   ]
  },
  {
   "cell_type": "code",
   "execution_count": 302,
   "metadata": {},
   "outputs": [
    {
     "data": {
      "text/plain": [
       "{'n_estimators': 1551,\n",
       " 'min_samples_split': 19,\n",
       " 'min_samples_leaf': 7,\n",
       " 'max_features': 'sqrt',\n",
       " 'max_depth': 46,\n",
       " 'bootstrap': False}"
      ]
     },
     "execution_count": 302,
     "metadata": {},
     "output_type": "execute_result"
    }
   ],
   "source": [
    "clf_random_grid.best_params_"
   ]
  },
  {
   "cell_type": "code",
   "execution_count": 22,
   "metadata": {},
   "outputs": [
    {
     "ename": "NameError",
     "evalue": "name 'result' is not defined",
     "output_type": "error",
     "traceback": [
      "\u001b[1;31m---------------------------------------------------------------------------\u001b[0m",
      "\u001b[1;31mNameError\u001b[0m                                 Traceback (most recent call last)",
      "\u001b[1;32m<ipython-input-22-d75057ca6200>\u001b[0m in \u001b[0;36m<module>\u001b[1;34m\u001b[0m\n\u001b[1;32m----> 1\u001b[1;33m \u001b[0mplot_threshold_graph\u001b[0m\u001b[1;33m(\u001b[0m\u001b[0my_test\u001b[0m\u001b[1;33m,\u001b[0m \u001b[0mresult\u001b[0m\u001b[1;33m[\u001b[0m\u001b[1;36m0\u001b[0m\u001b[1;33m]\u001b[0m\u001b[1;33m[\u001b[0m\u001b[1;33m:\u001b[0m\u001b[1;33m,\u001b[0m\u001b[1;36m1\u001b[0m\u001b[1;33m]\u001b[0m\u001b[1;33m)\u001b[0m\u001b[1;33m\u001b[0m\u001b[1;33m\u001b[0m\u001b[0m\n\u001b[0m",
      "\u001b[1;31mNameError\u001b[0m: name 'result' is not defined"
     ]
    }
   ],
   "source": [
    "plot_threshold_graph(y_test, result[0][:,1])"
   ]
  },
  {
   "cell_type": "code",
   "execution_count": 23,
   "metadata": {},
   "outputs": [
    {
     "data": {
      "image/png": "[encoded data removed]",
      "text/plain": [
       "<Figure size 432x288 with 1 Axes>"
      ]
     },
     "metadata": {
      "needs_background": "light"
     },
     "output_type": "display_data"
    }
   ],
   "source": [
    "for i in result_2:\n",
    "    plot_roc(y_test, i[:,1])"
   ]
  },
  {
   "cell_type": "code",
   "execution_count": 24,
   "metadata": {},
   "outputs": [
    {
     "name": "stderr",
     "output_type": "stream",
     "text": [
      "No handles with labels found to put in legend.\n"
     ]
    },
    {
     "data": {
      "image/png": "[encoded data removed]",
      "text/plain": [
       "<Figure size 432x288 with 1 Axes>"
      ]
     },
     "metadata": {
      "needs_background": "light"
     },
     "output_type": "display_data"
    }
   ],
   "source": [
    "for i in result_2:\n",
    "    plot_recall_precision(y_test, i[:,1])"
   ]
  },
  {
   "cell_type": "code",
   "execution_count": 30,
   "metadata": {},
   "outputs": [
    {
     "data": {
      "text/plain": [
       "array([[1538,  167],\n",
       "       [  24,   45]], dtype=int64)"
      ]
     },
     "execution_count": 30,
     "metadata": {},
     "output_type": "execute_result"
    }
   ],
   "source": [
    "confusion_matrix(y_test, result_2[0][:, 1] > 0.103)"
   ]
  },
  {
   "cell_type": "code",
   "execution_count": null,
   "metadata": {},
   "outputs": [],
   "source": []
  },
  {
   "cell_type": "code",
   "execution_count": 320,
   "metadata": {},
   "outputs": [
    {
     "data": {
      "image/png": "[encoded data removed]",
      "text/plain": [
       "<Figure size 360x360 with 2 Axes>"
      ]
     },
     "metadata": {
      "needs_background": "light"
     },
     "output_type": "display_data"
    }
   ],
   "source": [
    "plot_cm(y_test, pred_clf_upsample[:, 1])"
   ]
  },
  {
   "cell_type": "code",
   "execution_count": 286,
   "metadata": {},
   "outputs": [],
   "source": [
    "#feature importance\n",
    "fi = pd.DataFrame({'feature': list(X_bal.columns),\n",
    "                   'importance': clf_random_grid.best_estimator_.feature_importances_}).\\\n",
    "                    sort_values('importance', ascending = False)"
   ]
  },
  {
   "cell_type": "code",
   "execution_count": 288,
   "metadata": {},
   "outputs": [
    {
     "data": {
      "text/html": [
       "<div>\n",
       "<style scoped>\n",
       "    .dataframe tbody tr th:only-of-type {\n",
       "        vertical-align: middle;\n",
       "    }\n",
       "\n",
       "    .dataframe tbody tr th {\n",
       "        vertical-align: top;\n",
       "    }\n",
       "\n",
       "    .dataframe thead th {\n",
       "        text-align: right;\n",
       "    }\n",
       "</style>\n",
       "<table border=\"1\" class=\"dataframe\">\n",
       "  <thead>\n",
       "    <tr style=\"text-align: right;\">\n",
       "      <th></th>\n",
       "      <th>feature</th>\n",
       "      <th>importance</th>\n",
       "    </tr>\n",
       "  </thead>\n",
       "  <tbody>\n",
       "    <tr>\n",
       "      <td>8</td>\n",
       "      <td>CPI2019</td>\n",
       "      <td>0.100444</td>\n",
       "    </tr>\n",
       "    <tr>\n",
       "      <td>0</td>\n",
       "      <td>IY</td>\n",
       "      <td>0.090410</td>\n",
       "    </tr>\n",
       "    <tr>\n",
       "      <td>94</td>\n",
       "      <td>PRS_Purchase Agreements (private &amp; public)</td>\n",
       "      <td>0.054230</td>\n",
       "    </tr>\n",
       "    <tr>\n",
       "      <td>33</td>\n",
       "      <td>type_Greenfield project</td>\n",
       "      <td>0.040714</td>\n",
       "    </tr>\n",
       "    <tr>\n",
       "      <td>9</td>\n",
       "      <td>shifted_country_experience_1</td>\n",
       "      <td>0.037596</td>\n",
       "    </tr>\n",
       "    <tr>\n",
       "      <td>14</td>\n",
       "      <td>life_expectnacy</td>\n",
       "      <td>0.036318</td>\n",
       "    </tr>\n",
       "    <tr>\n",
       "      <td>108</td>\n",
       "      <td>Renewables_Renewables</td>\n",
       "      <td>0.034191</td>\n",
       "    </tr>\n",
       "    <tr>\n",
       "      <td>16</td>\n",
       "      <td>electric_consumption</td>\n",
       "      <td>0.031265</td>\n",
       "    </tr>\n",
       "    <tr>\n",
       "      <td>10</td>\n",
       "      <td>sponsor_number</td>\n",
       "      <td>0.028707</td>\n",
       "    </tr>\n",
       "    <tr>\n",
       "      <td>25</td>\n",
       "      <td>voice_and_accountability</td>\n",
       "      <td>0.025197</td>\n",
       "    </tr>\n",
       "    <tr>\n",
       "      <td>17</td>\n",
       "      <td>domestic_credit_to_private</td>\n",
       "      <td>0.023937</td>\n",
       "    </tr>\n",
       "    <tr>\n",
       "      <td>11</td>\n",
       "      <td>GDP_per_capita</td>\n",
       "      <td>0.022216</td>\n",
       "    </tr>\n",
       "    <tr>\n",
       "      <td>19</td>\n",
       "      <td>exports_as_GDP</td>\n",
       "      <td>0.022059</td>\n",
       "    </tr>\n",
       "    <tr>\n",
       "      <td>66</td>\n",
       "      <td>Segment_Electricity generation</td>\n",
       "      <td>0.020965</td>\n",
       "    </tr>\n",
       "    <tr>\n",
       "      <td>92</td>\n",
       "      <td>GGC_State/Provincial</td>\n",
       "      <td>0.019720</td>\n",
       "    </tr>\n",
       "    <tr>\n",
       "      <td>13</td>\n",
       "      <td>GDP_deflator</td>\n",
       "      <td>0.019312</td>\n",
       "    </tr>\n",
       "    <tr>\n",
       "      <td>36</td>\n",
       "      <td>stype_Build, own, and operate</td>\n",
       "      <td>0.018977</td>\n",
       "    </tr>\n",
       "    <tr>\n",
       "      <td>49</td>\n",
       "      <td>ssector_Electricity</td>\n",
       "      <td>0.018800</td>\n",
       "    </tr>\n",
       "    <tr>\n",
       "      <td>5</td>\n",
       "      <td>pcapacity</td>\n",
       "      <td>0.017561</td>\n",
       "    </tr>\n",
       "    <tr>\n",
       "      <td>18</td>\n",
       "      <td>imports_as_GDP</td>\n",
       "      <td>0.015612</td>\n",
       "    </tr>\n",
       "    <tr>\n",
       "      <td>20</td>\n",
       "      <td>control_of_corruption</td>\n",
       "      <td>0.015611</td>\n",
       "    </tr>\n",
       "    <tr>\n",
       "      <td>35</td>\n",
       "      <td>stype_Build, operate, and transfer</td>\n",
       "      <td>0.015556</td>\n",
       "    </tr>\n",
       "    <tr>\n",
       "      <td>3</td>\n",
       "      <td>physical</td>\n",
       "      <td>0.015412</td>\n",
       "    </tr>\n",
       "    <tr>\n",
       "      <td>23</td>\n",
       "      <td>regulatory_quality</td>\n",
       "      <td>0.015138</td>\n",
       "    </tr>\n",
       "    <tr>\n",
       "      <td>4</td>\n",
       "      <td>investment</td>\n",
       "      <td>0.014860</td>\n",
       "    </tr>\n",
       "    <tr>\n",
       "      <td>21</td>\n",
       "      <td>government_effectiveness</td>\n",
       "      <td>0.014855</td>\n",
       "    </tr>\n",
       "    <tr>\n",
       "      <td>22</td>\n",
       "      <td>political_stability</td>\n",
       "      <td>0.014662</td>\n",
       "    </tr>\n",
       "    <tr>\n",
       "      <td>24</td>\n",
       "      <td>rule_of_law</td>\n",
       "      <td>0.014039</td>\n",
       "    </tr>\n",
       "    <tr>\n",
       "      <td>1</td>\n",
       "      <td>period</td>\n",
       "      <td>0.013083</td>\n",
       "    </tr>\n",
       "    <tr>\n",
       "      <td>15</td>\n",
       "      <td>real_effective_change</td>\n",
       "      <td>0.012893</td>\n",
       "    </tr>\n",
       "    <tr>\n",
       "      <td>53</td>\n",
       "      <td>ssector_Seaports</td>\n",
       "      <td>0.012337</td>\n",
       "    </tr>\n",
       "    <tr>\n",
       "      <td>12</td>\n",
       "      <td>tax_as_GDP</td>\n",
       "      <td>0.012134</td>\n",
       "    </tr>\n",
       "    <tr>\n",
       "      <td>76</td>\n",
       "      <td>Segment_Highway</td>\n",
       "      <td>0.009806</td>\n",
       "    </tr>\n",
       "    <tr>\n",
       "      <td>93</td>\n",
       "      <td>PRS_Other</td>\n",
       "      <td>0.009504</td>\n",
       "    </tr>\n",
       "    <tr>\n",
       "      <td>46</td>\n",
       "      <td>sector_Transport</td>\n",
       "      <td>0.008986</td>\n",
       "    </tr>\n",
       "    <tr>\n",
       "      <td>7</td>\n",
       "      <td>incomelevel</td>\n",
       "      <td>0.008234</td>\n",
       "    </tr>\n",
       "    <tr>\n",
       "      <td>91</td>\n",
       "      <td>GGC_Local</td>\n",
       "      <td>0.008183</td>\n",
       "    </tr>\n",
       "    <tr>\n",
       "      <td>42</td>\n",
       "      <td>stype_Rehabilitate, operate, and transfer</td>\n",
       "      <td>0.007411</td>\n",
       "    </tr>\n",
       "    <tr>\n",
       "      <td>37</td>\n",
       "      <td>stype_Build, rehabilitate, operate, and transfer</td>\n",
       "      <td>0.007272</td>\n",
       "    </tr>\n",
       "    <tr>\n",
       "      <td>85</td>\n",
       "      <td>Segment_Runway and terminal</td>\n",
       "      <td>0.006864</td>\n",
       "    </tr>\n",
       "    <tr>\n",
       "      <td>58</td>\n",
       "      <td>ssector_Water Utility</td>\n",
       "      <td>0.006826</td>\n",
       "    </tr>\n",
       "    <tr>\n",
       "      <td>55</td>\n",
       "      <td>ssector_Toll Roads</td>\n",
       "      <td>0.006805</td>\n",
       "    </tr>\n",
       "    <tr>\n",
       "      <td>2</td>\n",
       "      <td>private</td>\n",
       "      <td>0.005277</td>\n",
       "    </tr>\n",
       "    <tr>\n",
       "      <td>96</td>\n",
       "      <td>PRS_User fees</td>\n",
       "      <td>0.004719</td>\n",
       "    </tr>\n",
       "    <tr>\n",
       "      <td>103</td>\n",
       "      <td>adminregion_SAS</td>\n",
       "      <td>0.004652</td>\n",
       "    </tr>\n",
       "    <tr>\n",
       "      <td>30</td>\n",
       "      <td>Region_SAR</td>\n",
       "      <td>0.004324</td>\n",
       "    </tr>\n",
       "    <tr>\n",
       "      <td>110</td>\n",
       "      <td>foreign_country_Yes</td>\n",
       "      <td>0.003795</td>\n",
       "    </tr>\n",
       "    <tr>\n",
       "      <td>51</td>\n",
       "      <td>ssector_Natural Gas</td>\n",
       "      <td>0.003075</td>\n",
       "    </tr>\n",
       "    <tr>\n",
       "      <td>47</td>\n",
       "      <td>sector_Water and sewerage</td>\n",
       "      <td>0.003073</td>\n",
       "    </tr>\n",
       "    <tr>\n",
       "      <td>34</td>\n",
       "      <td>type_Management and lease contract</td>\n",
       "      <td>0.003046</td>\n",
       "    </tr>\n",
       "  </tbody>\n",
       "</table>\n",
       "</div>"
      ],
      "text/plain": [
       "                                              feature  importance\n",
       "8                                             CPI2019    0.100444\n",
       "0                                                  IY    0.090410\n",
       "94         PRS_Purchase Agreements (private & public)    0.054230\n",
       "33                            type_Greenfield project    0.040714\n",
       "9                        shifted_country_experience_1    0.037596\n",
       "14                                    life_expectnacy    0.036318\n",
       "108                             Renewables_Renewables    0.034191\n",
       "16                               electric_consumption    0.031265\n",
       "10                                     sponsor_number    0.028707\n",
       "25                           voice_and_accountability    0.025197\n",
       "17                         domestic_credit_to_private    0.023937\n",
       "11                                     GDP_per_capita    0.022216\n",
       "19                                     exports_as_GDP    0.022059\n",
       "66                     Segment_Electricity generation    0.020965\n",
       "92                               GGC_State/Provincial    0.019720\n",
       "13                                       GDP_deflator    0.019312\n",
       "36                      stype_Build, own, and operate    0.018977\n",
       "49                                ssector_Electricity    0.018800\n",
       "5                                           pcapacity    0.017561\n",
       "18                                     imports_as_GDP    0.015612\n",
       "20                              control_of_corruption    0.015611\n",
       "35                 stype_Build, operate, and transfer    0.015556\n",
       "3                                            physical    0.015412\n",
       "23                                 regulatory_quality    0.015138\n",
       "4                                          investment    0.014860\n",
       "21                           government_effectiveness    0.014855\n",
       "22                                political_stability    0.014662\n",
       "24                                        rule_of_law    0.014039\n",
       "1                                              period    0.013083\n",
       "15                              real_effective_change    0.012893\n",
       "53                                   ssector_Seaports    0.012337\n",
       "12                                         tax_as_GDP    0.012134\n",
       "76                                    Segment_Highway    0.009806\n",
       "93                                          PRS_Other    0.009504\n",
       "46                                   sector_Transport    0.008986\n",
       "7                                         incomelevel    0.008234\n",
       "91                                          GGC_Local    0.008183\n",
       "42          stype_Rehabilitate, operate, and transfer    0.007411\n",
       "37   stype_Build, rehabilitate, operate, and transfer    0.007272\n",
       "85                        Segment_Runway and terminal    0.006864\n",
       "58                              ssector_Water Utility    0.006826\n",
       "55                                 ssector_Toll Roads    0.006805\n",
       "2                                             private    0.005277\n",
       "96                                      PRS_User fees    0.004719\n",
       "103                                   adminregion_SAS    0.004652\n",
       "30                                         Region_SAR    0.004324\n",
       "110                               foreign_country_Yes    0.003795\n",
       "51                                ssector_Natural Gas    0.003075\n",
       "47                          sector_Water and sewerage    0.003073\n",
       "34                 type_Management and lease contract    0.003046"
      ]
     },
     "execution_count": 288,
     "metadata": {},
     "output_type": "execute_result"
    }
   ],
   "source": [
    "fi.head(50)"
   ]
  },
  {
   "cell_type": "code",
   "execution_count": 289,
   "metadata": {},
   "outputs": [
    {
     "name": "stderr",
     "output_type": "stream",
     "text": [
      "[Parallel(n_jobs=-1)]: Using backend LokyBackend with 8 concurrent workers.\n",
      "[Parallel(n_jobs=-1)]: Done  20 out of  20 | elapsed:   41.1s finished\n"
     ]
    },
    {
     "data": {
      "text/plain": [
       "RandomizedSearchCV(cv=2, estimator=LGBMClassifier(random_state=1), n_jobs=-1,\n",
       "                   param_distributions={'boosting_type': ['gbdt'],\n",
       "                                        'colsample_bytree': [0.1,\n",
       "                                                             0.1310344827586207,\n",
       "                                                             0.16206896551724137,\n",
       "                                                             0.19310344827586207,\n",
       "                                                             0.22413793103448276,\n",
       "                                                             0.25517241379310346,\n",
       "                                                             0.28620689655172415,\n",
       "                                                             0.3172413793103448,\n",
       "                                                             0.34827586206896555,\n",
       "                                                             0.3793103448275862,\n",
       "                                                             0.41034482758620694,\n",
       "                                                             0.441379...\n",
       "                                                      0.4724137931034482,\n",
       "                                                      0.503448275862069,\n",
       "                                                      0.5344827586206896,\n",
       "                                                      0.5655172413793104,\n",
       "                                                      0.596551724137931,\n",
       "                                                      0.6275862068965516,\n",
       "                                                      0.6586206896551724,\n",
       "                                                      0.689655172413793,\n",
       "                                                      0.7206896551724138,\n",
       "                                                      0.7517241379310344,\n",
       "                                                      0.7827586206896552,\n",
       "                                                      0.8137931034482758,\n",
       "                                                      0.8448275862068965,\n",
       "                                                      0.8758620689655172,\n",
       "                                                      0.9068965517241379,\n",
       "                                                      0.9379310344827586,\n",
       "                                                      0.9689655172413792,\n",
       "                                                      1.0]},\n",
       "                   random_state=123, verbose=-1)"
      ]
     },
     "execution_count": 289,
     "metadata": {},
     "output_type": "execute_result"
    }
   ],
   "source": [
    "X_train_lgb = X_bal.rename(columns = lambda x:re.sub('[^A-Za-z0-9_]+', '', x))\n",
    "X_test_lgb = X_test.rename(columns = lambda x:re.sub('[^A-Za-z0-9_]+', '', x))\n",
    "y_train_lgb = y_bal.copy()\n",
    "y_test_lgb = y_test.copy()\n",
    "clf_lgb = lgb.LGBMClassifier(random_state=1)\n",
    "\n",
    "param_grid = {'learning_rate': [x for x in np.linspace(0.005, 0.01, 3)],\n",
    "              'n_estimators': [int(x) for x in np.linspace(700, 2000, 30)],\n",
    "              'num_leaves': [int(x) for x in np.linspace(10, 40, 30)],\n",
    "              'boosting_type' : ['gbdt'],\n",
    "              'objective' : ['binary'],\n",
    "              'random_state' : [501], \n",
    "              'colsample_bytree' : [x for x in np.linspace(0.1, 1.0, 30)],\n",
    "              'subsample' : [x for x in np.linspace(0.1, 1.0, 30)]}\n",
    "lgb_random_grid = RandomizedSearchCV(clf_lgb,                                     \n",
    "                                     param_grid, \n",
    "                                     refit=True, \n",
    "                                     verbose=-1, \n",
    "                                     cv=2,\n",
    "                                     n_jobs=-1,\n",
    "                                     random_state=123)\n",
    "lgb_random_grid.fit(X_train_lgb, y_train_lgb)"
   ]
  },
  {
   "cell_type": "code",
   "execution_count": 290,
   "metadata": {},
   "outputs": [
    {
     "data": {
      "text/plain": [
       "{'subsample': 0.41034482758620694,\n",
       " 'random_state': 501,\n",
       " 'objective': 'binary',\n",
       " 'num_leaves': 38,\n",
       " 'n_estimators': 2000,\n",
       " 'learning_rate': 0.0075,\n",
       " 'colsample_bytree': 0.5655172413793104,\n",
       " 'boosting_type': 'gbdt'}"
      ]
     },
     "execution_count": 290,
     "metadata": {},
     "output_type": "execute_result"
    }
   ],
   "source": [
    "lgb_random_grid.best_params_"
   ]
  },
  {
   "cell_type": "code",
   "execution_count": 291,
   "metadata": {},
   "outputs": [],
   "source": [
    "pred_lgb_upsample = cross_val_predict(lgb_random_grid.best_estimator_,\n",
    "                                      X_test_lgb,\n",
    "                                      y_test_lgb,\n",
    "                                      method='predict_proba',\n",
    "                                      cv=5)"
   ]
  },
  {
   "cell_type": "code",
   "execution_count": 292,
   "metadata": {},
   "outputs": [
    {
     "data": {
      "image/png": "[encoded data removed]",
      "text/plain": [
       "<Figure size 432x288 with 1 Axes>"
      ]
     },
     "metadata": {
      "needs_background": "light"
     },
     "output_type": "display_data"
    }
   ],
   "source": [
    "plot_roc(y_test, pred_lgb_upsample[:,1])"
   ]
  },
  {
   "cell_type": "code",
   "execution_count": 293,
   "metadata": {},
   "outputs": [
    {
     "data": {
      "image/png": "[encoded data removed]",
      "text/plain": [
       "<Figure size 576x360 with 1 Axes>"
      ]
     },
     "metadata": {
      "needs_background": "light"
     },
     "output_type": "display_data"
    }
   ],
   "source": [
    "plot_threshold_graph(y_test, pred_lgb_upsample[:,1])"
   ]
  },
  {
   "cell_type": "code",
   "execution_count": 294,
   "metadata": {},
   "outputs": [
    {
     "name": "stderr",
     "output_type": "stream",
     "text": [
      "No handles with labels found to put in legend.\n"
     ]
    },
    {
     "data": {
      "image/png": "[encoded data removed]",
      "text/plain": [
       "<Figure size 432x288 with 1 Axes>"
      ]
     },
     "metadata": {
      "needs_background": "light"
     },
     "output_type": "display_data"
    }
   ],
   "source": [
    "plot_recall_precision(y_test_lgb, pred_lgb_upsample[:,1])"
   ]
  },
  {
   "cell_type": "code",
   "execution_count": 297,
   "metadata": {},
   "outputs": [
    {
     "data": {
      "text/plain": [
       "array([[1641,   64],\n",
       "       [  47,   22]], dtype=int64)"
      ]
     },
     "execution_count": 297,
     "metadata": {},
     "output_type": "execute_result"
    }
   ],
   "source": [
    "confusion_matrix(y_test, pred_lgb_upsample[:, 1] > 0.01)"
   ]
  },
  {
   "cell_type": "code",
   "execution_count": 127,
   "metadata": {},
   "outputs": [
    {
     "data": {
      "image/png": "[encoded data removed]",
      "text/plain": [
       "<Figure size 360x360 with 2 Axes>"
      ]
     },
     "metadata": {
      "needs_background": "light"
     },
     "output_type": "display_data"
    }
   ],
   "source": [
    "plot_cm(y_test_lgb, pred_lgb_upsample[:, 1])"
   ]
  },
  {
   "cell_type": "code",
   "execution_count": null,
   "metadata": {},
   "outputs": [],
   "source": [
    "\n",
    "    "
   ]
  },
  {
   "cell_type": "code",
   "execution_count": null,
   "metadata": {},
   "outputs": [],
   "source": []
  }
 ],
 "metadata": {
  "kernelspec": {
   "display_name": "Python 3",
   "language": "python",
   "name": "python3"
  },
  "language_info": {
   "codemirror_mode": {
    "name": "ipython",
    "version": 3
   },
   "file_extension": ".py",
   "mimetype": "text/x-python",
   "name": "python",
   "nbconvert_exporter": "python",
   "pygments_lexer": "ipython3",
   "version": "3.7.4"
  }
 },
 "nbformat": 4,
 "nbformat_minor": 2
}
