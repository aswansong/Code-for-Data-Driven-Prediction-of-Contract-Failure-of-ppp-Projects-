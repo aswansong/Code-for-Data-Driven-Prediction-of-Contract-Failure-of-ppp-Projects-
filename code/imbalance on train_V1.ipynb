{
 "cells": [
  {
   "cell_type": "code",
   "execution_count": 1,
   "metadata": {},
   "outputs": [],
   "source": [
    "import pandas as pd\n",
    "import numpy as np\n",
    "from sklearn.model_selection import train_test_split\n",
    "from sklearn.preprocessing import LabelEncoder\n",
    "from sklearn.preprocessing import OrdinalEncoder\n",
    "from sklearn.utils import resample\n",
    "from sklearn.model_selection import RandomizedSearchCV\n",
    "from sklearn.model_selection import GridSearchCV\n",
    "from sklearn.ensemble import RandomForestClassifier\n",
    "from sklearn.model_selection import cross_validate, cross_val_predict\n",
    "from sklearn.metrics import confusion_matrix, roc_curve\n",
    "from sklearn.calibration import CalibratedClassifierCV\n",
    "from sklearn import metrics\n",
    "import matplotlib.pyplot as plt"
   ]
  },
  {
   "cell_type": "code",
   "execution_count": 2,
   "metadata": {},
   "outputs": [],
   "source": [
    "#1.PPI database\n",
    "PPP_data = pd.read_csv(r\"C:\\PPP\\Thesis\\Paper3\\Database\\PPP_Projects_Total.csv\")\n",
    "#2.GDP per capita\n",
    "GDP_per_capita = pd.read_csv(r\"C:\\PPP\\Thesis\\Paper3\\Database\\GDP per Capita.csv\")\n",
    "#3.Tax as GDP\n",
    "tax_as_GDP = pd.read_csv(r\"C:\\PPP\\Thesis\\Paper3\\Database\\Tax as GDP.csv\")\n",
    "#4.GDP deflator(inflation rate)\n",
    "GDP_deflator = pd.read_csv(r\"C:\\PPP\\Thesis\\Paper3\\Database\\GDP deflator.csv\")\n",
    "#5.life expectnacy\n",
    "life_expectnacy = pd.read_csv(r\"C:\\PPP\\Thesis\\Paper3\\Database\\Life expectnacy.csv\")\n",
    "#6.real effective change\n",
    "real_effective_change = pd.read_csv(r\"C:\\PPP\\Thesis\\Paper3\\Database\\Real effect change.csv\")\n",
    "#7.electric consumption\n",
    "electric_consumption = pd.read_csv(r\"C:\\PPP\\Thesis\\Paper3\\Database\\Electric consumption.csv\")\n",
    "#8.domestic credit to private\n",
    "domestic_credit_to_private = pd.read_csv(r\"C:\\PPP\\Thesis\\Paper3\\Database\\Domestic credit to private.csv\")\n",
    "#9.Import as GDP\n",
    "imports_as_GDP = pd.read_csv(r\"C:\\PPP\\Thesis\\Paper3\\Database\\Imports as GDP.csv\")\n",
    "#10.Export as GDP\n",
    "exports_as_GDP = pd.read_csv(r\"C:\\PPP\\Thesis\\Paper3\\Database\\Exports as GDP.csv\")\n",
    "#11.Control of corruption\n",
    "control_of_corruption = pd.read_csv(r\"C:\\PPP\\Thesis\\Paper3\\Database\\Control of corruption.csv\")\n",
    "#12.Government of effectiveness\n",
    "government_effectiveness = pd.read_csv(r\"C:\\PPP\\Thesis\\Paper3\\Database\\Government effectiveness.csv\")\n",
    "#13.Political stability\n",
    "political_stability = pd.read_csv(r\"C:\\PPP\\Thesis\\Paper3\\Database\\Political Stability and Absence of Violence.csv\")\n",
    "#14.regulatory quality\n",
    "regulatory_quality = pd.read_csv(r\"C:\\PPP\\Thesis\\Paper3\\Database\\Regulatory quality.csv\")\n",
    "#15.Rule of law\n",
    "rule_of_law = pd.read_csv(r\"C:\\PPP\\Thesis\\Paper3\\Database\\Rule of law.csv\")\n",
    "#16.voice and accountability\n",
    "voice_and_accountability = pd.read_csv(r\"C:\\PPP\\Thesis\\Paper3\\Database\\Voice and accountability.csv\")"
   ]
  },
  {
   "cell_type": "code",
   "execution_count": 3,
   "metadata": {},
   "outputs": [],
   "source": [
    "dataset = [GDP_per_capita, \n",
    "           tax_as_GDP, \n",
    "           GDP_deflator, \n",
    "           life_expectnacy, \n",
    "           real_effective_change,\n",
    "           electric_consumption,\n",
    "           domestic_credit_to_private, \n",
    "           imports_as_GDP, \n",
    "           exports_as_GDP, \n",
    "           control_of_corruption,\n",
    "           government_effectiveness, \n",
    "           political_stability, \n",
    "           regulatory_quality, \n",
    "           rule_of_law, \n",
    "           voice_and_accountability]\n",
    "\n",
    "dataset_name = ['GDP_per_capita', \n",
    "                'tax_as_GDP', \n",
    "                'GDP_deflator', \n",
    "                'life_expectnacy', \n",
    "                'real_effective_change',\n",
    "                'electric_consumption', \n",
    "                'domestic_credit_to_private', \n",
    "                'imports_as_GDP', \n",
    "                'exports_as_GDP', \n",
    "                'control_of_corruption',\n",
    "                'government_effectiveness',\n",
    "                'political_stability', \n",
    "                'regulatory_quality', \n",
    "                'rule_of_law', \n",
    "                'voice_and_accountability']"
   ]
  },
  {
   "cell_type": "code",
   "execution_count": 4,
   "metadata": {},
   "outputs": [],
   "source": [
    "def process_data(new_data):\n",
    "    new_data.drop(columns=['Series Name', 'Series Code', 'Country Name'], inplace=True)\n",
    "    new_data.set_index('Country Code', inplace=True)\n",
    "    new_data.dropna(how='all', inplace=True)\n",
    "    new_data.columns = [name.split(' ')[0] for name in list(new_data.columns)]\n",
    "\n",
    "for data in dataset:\n",
    "    process_data(data)\n",
    "\n",
    "def meltdata(raw_data, column_name):\n",
    "    new_data = pd.melt(raw_data.reset_index(), \n",
    "                       id_vars=['Country Code'], \n",
    "                       var_name=['Year'],\n",
    "                       value_vars=raw_data.columns,\n",
    "                       value_name=column_name)\n",
    "    new_data.Year = new_data.Year.astype('int64', copy=False)\n",
    "    return new_data\n",
    "\n",
    "for i,name in zip(np.arange(len(dataset)), dataset_name):\n",
    "    dataset[i] = meltdata(dataset[i], name).copy()\n",
    "    dataset[i].rename(columns={'Country Code': 'countrycode', \n",
    "                               'Year': 'IY'}, \n",
    "                      inplace=True)\n",
    "\n",
    "for data in dataset:\n",
    "    PPP_data= PPP_data.merge(data, \n",
    "                             left_on=['countrycode', 'IY'], \n",
    "                             right_on=['countrycode', 'IY'], \n",
    "                             how='left')"
   ]
  },
  {
   "cell_type": "code",
   "execution_count": 5,
   "metadata": {},
   "outputs": [
    {
     "data": {
      "text/plain": [
       "(7096, 59)"
      ]
     },
     "execution_count": 5,
     "metadata": {},
     "output_type": "execute_result"
    }
   ],
   "source": [
    "PPP_data.shape"
   ]
  },
  {
   "cell_type": "code",
   "execution_count": 13,
   "metadata": {
    "scrolled": false
   },
   "outputs": [
    {
     "data": {
      "text/plain": [
       "IY                              0.000000\n",
       "country                         0.000000\n",
       "Region                          0.000000\n",
       "income                          0.000000\n",
       "IDA                             0.000000\n",
       "FCY                             0.000000\n",
       "type                            0.000000\n",
       "stype                           0.000000\n",
       "status_n                        0.000000\n",
       "sector                          0.000000\n",
       "ssector                         0.000000\n",
       "Segment                         0.000000\n",
       "period                         26.972943\n",
       "GGC                            19.447576\n",
       "TIGS                           20.504510\n",
       "private                         3.931793\n",
       "physical                        4.439121\n",
       "investment                      7.328072\n",
       "pcapacity                      14.120631\n",
       "bid_crit                      100.000000\n",
       "PRS                             0.070462\n",
       "BS                              4.072717\n",
       "Description                     0.000000\n",
       "PCO                             2.226607\n",
       "UP                              0.000000\n",
       "PublicDisclosure                0.000000\n",
       "bordercountries                 0.000000\n",
       "shareborder                     0.000000\n",
       "countrycode                     0.000000\n",
       "region                          0.056370\n",
       "regionname                      0.056370\n",
       "adminregion                     2.987599\n",
       "adminregionname                 2.987599\n",
       "incomelevel                     0.056370\n",
       "incomelevelname                 0.056370\n",
       "lendingtype                     0.056370\n",
       "lendingtypename                 0.056370\n",
       "GDP                             0.225479\n",
       "population                      0.056370\n",
       "CPI2019                         0.000000\n",
       "investment_real                 7.328072\n",
       "realphysicalassets              4.439121\n",
       "Renewables                      0.000000\n",
       "MLS                             0.000000\n",
       "GDP_per_capita                  0.056370\n",
       "tax_as_GDP                      0.056370\n",
       "GDP_deflator                    0.056370\n",
       "life_expectnacy                 0.056370\n",
       "real_effective_change           0.056370\n",
       "electric_consumption            0.056370\n",
       "domestic_credit_to_private      0.056370\n",
       "imports_as_GDP                  0.056370\n",
       "exports_as_GDP                  0.056370\n",
       "control_of_corruption          14.007892\n",
       "government_effectiveness       14.007892\n",
       "political_stability            14.007892\n",
       "regulatory_quality             14.007892\n",
       "rule_of_law                    14.007892\n",
       "voice_and_accountability       14.007892\n",
       "dtype: float64"
      ]
     },
     "execution_count": 13,
     "metadata": {},
     "output_type": "execute_result"
    }
   ],
   "source": [
    "PPP_data.isnull().sum() / PPP_data.shape[0] * 100"
   ]
  },
  {
   "cell_type": "code",
   "execution_count": 9,
   "metadata": {},
   "outputs": [
    {
     "data": {
      "text/plain": [
       "array(['LAC', 'EAP', 'SAR', 'AFR', 'ECA', 'MENA'], dtype=object)"
      ]
     },
     "execution_count": 9,
     "metadata": {},
     "output_type": "execute_result"
    }
   ],
   "source": [
    "PPP_data.Region.unique()"
   ]
  },
  {
   "cell_type": "code",
   "execution_count": 787,
   "metadata": {},
   "outputs": [],
   "source": [
    "float_value = ['GDP_per_capita', \n",
    "               'tax_as_GDP', \n",
    "               'GDP_deflator', \n",
    "               'life_expectnacy', \n",
    "               'real_effective_change',\n",
    "               'electric_consumption', \n",
    "               'domestic_credit_to_private', \n",
    "               'imports_as_GDP', \n",
    "               'exports_as_GDP', \n",
    "               'control_of_corruption',\n",
    "               'government_effectiveness', \n",
    "               'political_stability', \n",
    "               'regulatory_quality', \n",
    "               'rule_of_law', \n",
    "               'voice_and_accountability']\n",
    "nominal_value = ['IDA', \n",
    "                 'Region',\n",
    "                 'type', \n",
    "                 'stype', \n",
    "                 'sector',\n",
    "                 'Segment', \n",
    "                 'UP', \n",
    "                 'PublicDisclosure', \n",
    "                 'shareborder', \n",
    "                 'PRS', \n",
    "                 'Renewables', \n",
    "                 'MLS', \n",
    "                 'GGC',\n",
    "                 'lendingtype']\n",
    "ordinal_value = ['incomelevel']\n",
    "float_value_2 = ['period', \n",
    "                 'realphysicalassets', \n",
    "                 'investment_real', \n",
    "                 'GDP', \n",
    "                 'population', \n",
    "                 'CPI2019',\n",
    "                 'bordercountries', \n",
    "                 'private', \n",
    "                 'physical', \n",
    "                 'period',\n",
    "                 'investment', \n",
    "                 'pcapacity']\n",
    "PPP_data.drop(columns=['bid_crit', \n",
    "                       'region',\n",
    "                       'Description', \n",
    "                       'incomelevelname',\n",
    "                       'lendingtypename',\n",
    "                       'regionname',\n",
    "                       'adminregionname', \n",
    "                       'BS', \n",
    "                       'income',\n",
    "                       'TIGS',\n",
    "                       'ssector',\n",
    "                       'PCO', \n",
    "                       'FCY',\n",
    "                       'country', \n",
    "                       'adminregion'], inplace=True)\n",
    "\n",
    "PPP_data.replace('..', np.nan, inplace=True)\n",
    "PPP_data.replace({'status_n': {'Cancelled': 'fail', \n",
    "                               'Distressed': 'fail', \n",
    "                               'Active': 'success',\n",
    "                               'Concluded': 'success'}}, inplace=True)\n",
    "\n",
    "for float_column in float_value + float_value_2:\n",
    "    PPP_data[float_column] = PPP_data[float_column].astype(float)"
   ]
  },
  {
   "cell_type": "code",
   "execution_count": 788,
   "metadata": {},
   "outputs": [
    {
     "name": "stderr",
     "output_type": "stream",
     "text": [
      "C:\\Anaconda\\lib\\site-packages\\pandas\\core\\indexing.py:494: SettingWithCopyWarning: \n",
      "A value is trying to be set on a copy of a slice from a DataFrame.\n",
      "Try using .loc[row_indexer,col_indexer] = value instead\n",
      "\n",
      "See the caveats in the documentation: http://pandas.pydata.org/pandas-docs/stable/user_guide/indexing.html#returning-a-view-versus-a-copy\n",
      "  self.obj[item] = s\n"
     ]
    }
   ],
   "source": [
    "#split the data\n",
    "X = PPP_data[PPP_data.columns[PPP_data.columns!='status_n']]\n",
    "y = PPP_data['status_n']\n",
    "#income value is ordinal value\n",
    "mapper = {'LIC': 1, \n",
    "          'HIC': 2, \n",
    "          'LMC': 3, \n",
    "          'UMC': 4, \n",
    "          np.nan: 0}\n",
    "X.loc[:, 'incomelevel'] = X.incomelevel.map(mapper)\n",
    "y = LabelEncoder().fit_transform(y)"
   ]
  },
  {
   "cell_type": "code",
   "execution_count": null,
   "metadata": {},
   "outputs": [],
   "source": []
  },
  {
   "cell_type": "code",
   "execution_count": 789,
   "metadata": {},
   "outputs": [],
   "source": [
    "X_train, X_test, y_train, y_test = train_test_split(X, y, test_size=0.26, random_state=123, stratify=y, shuffle=True)"
   ]
  },
  {
   "cell_type": "code",
   "execution_count": 695,
   "metadata": {},
   "outputs": [
    {
     "name": "stderr",
     "output_type": "stream",
     "text": [
      "C:\\Anaconda\\lib\\site-packages\\ipykernel_launcher.py:2: SettingWithCopyWarning: \n",
      "A value is trying to be set on a copy of a slice from a DataFrame.\n",
      "Try using .loc[row_indexer,col_indexer] = value instead\n",
      "\n",
      "See the caveats in the documentation: http://pandas.pydata.org/pandas-docs/stable/user_guide/indexing.html#returning-a-view-versus-a-copy\n",
      "  \n"
     ]
    }
   ],
   "source": [
    "#to resample data\n",
    "X_train['status_n'] = y_train"
   ]
  },
  {
   "cell_type": "code",
   "execution_count": 696,
   "metadata": {},
   "outputs": [],
   "source": [
    "#begin to resample\n",
    "majority_data = X_train[X_train.status_n==1]\n",
    "minority_data = X_train[X_train.status_n==0]\n",
    "\n",
    "minority_upsampled = resample(minority_data, \n",
    "                              replace=True,\n",
    "                              n_samples=majority_data.shape[0],\n",
    "                              random_state=123)\n",
    "upsampled_data = pd.concat([majority_data, minority_upsampled])\n",
    "\n",
    "X_train = upsampled_data[upsampled_data.columns[upsampled_data.columns!='status_n']]\n",
    "y_train = upsampled_data['status_n']"
   ]
  },
  {
   "cell_type": "code",
   "execution_count": 697,
   "metadata": {},
   "outputs": [],
   "source": [
    "#first fillna for training dataset based on country, if some countries are non, then fill with the mode in current column, the same for test dataset.\n",
    "def fillna_for_nominal(column_name, train_dataset, test_dataset):\n",
    "    train_data = train_dataset.copy()\n",
    "    test_data = test_dataset.copy()\n",
    "    mode_in_train = train_data.groupby('countrycode')[column_name].agg(pd.Series.mode).to_frame()\n",
    "    for index, row in mode_in_train.iterrows():\n",
    "        if type(row[column_name]) == np.ndarray:\n",
    "            mode_in_train.loc[index, column_name] = train_data[column_name].mode()[0]\n",
    "    countrycode_in_train = train_data.countrycode.unique()\n",
    "    countrycode_in_test = train_data.countrycode.unique()\n",
    "    \n",
    "    for country in countrycode_in_train:\n",
    "        train_data.loc[train_data.countrycode==country, column_name] = train_data.loc[train_data.countrycode==country, column_name].fillna(mode_in_train.loc[country, column_name])\n",
    "\n",
    "    for country in countrycode_in_test:\n",
    "        if country in countrycode_in_train:\n",
    "            test_data.loc[test_data.countrycode==country, column_name] = test_data.loc[test_data.countrycode==country, column_name].fillna(mode_in_train.loc[country, column_name])\n",
    "    test_data.loc[test_data[column_name].isnull(), column_name] = test_data.loc[test_data[column_name].isnull(), column_name].fillna(test_data[column_name].mode()[0])\n",
    "    return train_data, test_data"
   ]
  },
  {
   "cell_type": "code",
   "execution_count": 698,
   "metadata": {},
   "outputs": [],
   "source": [
    "nominal_list = ['GGC', 'PRS', 'lendingtype']\n",
    "for name in nominal_list:\n",
    "    X_train, X_test = fillna_for_nominal(name, X_train, X_test)"
   ]
  },
  {
   "cell_type": "code",
   "execution_count": 699,
   "metadata": {},
   "outputs": [],
   "source": [
    "def fillna_for_float(column_name, train_dataset, test_dataset):\n",
    "    train_data = train_dataset.copy()\n",
    "    test_data = test_dataset.copy()\n",
    "    mean_in_train = train_data.groupby('countrycode')[column_name].agg(pd.Series.mean).to_frame()\n",
    "    for index, row in mean_in_train.iterrows():\n",
    "        mean_in_train.loc[index, column_name] = train_data[column_name].mean()\n",
    "    countrycode_in_train = train_data.countrycode.unique()\n",
    "    countrycode_in_test = train_data.countrycode.unique()\n",
    "    \n",
    "    for country in countrycode_in_train:\n",
    "        train_data.loc[train_data.countrycode==country, column_name] = train_data.loc[train_data.countrycode==country, column_name].fillna(mean_in_train.loc[country, column_name])\n",
    "\n",
    "    for country in countrycode_in_test:\n",
    "        if country in countrycode_in_train:\n",
    "            test_data.loc[test_data.countrycode==country, column_name] = test_data.loc[test_data.countrycode==country, column_name].fillna(mean_in_train.loc[country, column_name])\n",
    "    test_data.loc[test_data[column_name].isnull(), column_name] = test_data.loc[test_data[column_name].isnull(), column_name].fillna(test_data[column_name].mean())\n",
    "    return train_data, test_data"
   ]
  },
  {
   "cell_type": "code",
   "execution_count": 700,
   "metadata": {},
   "outputs": [],
   "source": [
    "for name in float_value + float_value_2:\n",
    "    X_train, X_test = fillna_for_float(name, X_train, X_test)"
   ]
  },
  {
   "cell_type": "code",
   "execution_count": 701,
   "metadata": {},
   "outputs": [],
   "source": [
    "#delete unused column\n",
    "X_train.drop(columns=['IY', 'countrycode'], inplace=True)\n",
    "X_test.drop(columns=['IY', 'countrycode'], inplace=True)"
   ]
  },
  {
   "cell_type": "code",
   "execution_count": 702,
   "metadata": {},
   "outputs": [
    {
     "data": {
      "text/plain": [
       "Region                        0\n",
       "IDA                           0\n",
       "type                          0\n",
       "stype                         0\n",
       "sector                        0\n",
       "Segment                       0\n",
       "period                        0\n",
       "GGC                           0\n",
       "private                       0\n",
       "physical                      0\n",
       "investment                    0\n",
       "pcapacity                     0\n",
       "PRS                           0\n",
       "UP                            0\n",
       "PublicDisclosure              0\n",
       "bordercountries               0\n",
       "shareborder                   0\n",
       "incomelevel                   0\n",
       "lendingtype                   0\n",
       "GDP                           0\n",
       "population                    0\n",
       "CPI2019                       0\n",
       "investment_real               0\n",
       "realphysicalassets            0\n",
       "Renewables                    0\n",
       "MLS                           0\n",
       "GDP_per_capita                0\n",
       "tax_as_GDP                    0\n",
       "GDP_deflator                  0\n",
       "life_expectnacy               0\n",
       "real_effective_change         0\n",
       "electric_consumption          0\n",
       "domestic_credit_to_private    0\n",
       "imports_as_GDP                0\n",
       "exports_as_GDP                0\n",
       "control_of_corruption         0\n",
       "government_effectiveness      0\n",
       "political_stability           0\n",
       "regulatory_quality            0\n",
       "rule_of_law                   0\n",
       "voice_and_accountability      0\n",
       "dtype: int64"
      ]
     },
     "execution_count": 702,
     "metadata": {},
     "output_type": "execute_result"
    }
   ],
   "source": [
    "X_test.isnull().sum()"
   ]
  },
  {
   "cell_type": "code",
   "execution_count": 703,
   "metadata": {},
   "outputs": [
    {
     "data": {
      "text/plain": [
       "<matplotlib.axes._subplots.AxesSubplot at 0x14b57288>"
      ]
     },
     "execution_count": 703,
     "metadata": {},
     "output_type": "execute_result"
    },
    {
     "data": {
      "image/png": "[encoded data removed]",
      "text/plain": [
       "<Figure size 432x288 with 2 Axes>"
      ]
     },
     "metadata": {
      "needs_background": "light"
     },
     "output_type": "display_data"
    }
   ],
   "source": [
    "sns.heatmap(X_train.corr())"
   ]
  },
  {
   "cell_type": "code",
   "execution_count": 704,
   "metadata": {},
   "outputs": [],
   "source": [
    "#delete the correlated columns\n",
    "correlated_column = ['exports_as_GDP', 'physical', 'realphysicalassets', 'investment_real', 'GDP']\n",
    "X_train.drop(columns=correlated_column, inplace=True)\n",
    "X_test.drop(columns=correlated_column, inplace=True)"
   ]
  },
  {
   "cell_type": "code",
   "execution_count": 782,
   "metadata": {},
   "outputs": [
    {
     "data": {
      "text/plain": [
       "array([[ 0.        ,  0.48403446, -0.15284077, ..., -0.18297564,\n",
       "        -0.29239197, -0.05274127],\n",
       "       [ 0.52486535,  0.48403446, -0.27496549, ..., -0.18297564,\n",
       "        -0.29239197, -0.05274127],\n",
       "       [ 0.52486535,  0.48403446,  0.72986015, ..., -0.18297564,\n",
       "        -0.29239197, -0.05274127],\n",
       "       ...,\n",
       "       [ 2.3667    ,  0.48403446,  0.        , ..., -0.18297564,\n",
       "        -0.29239197, -0.05274127],\n",
       "       [ 0.81568135, -1.23986231,  0.16023859, ..., -0.18297564,\n",
       "        -0.29239197, -0.05274127],\n",
       "       [-0.92921464,  0.48403446, -0.42685408, ..., -0.18297564,\n",
       "        -0.29239197, -0.05274127]])"
      ]
     },
     "execution_count": 782,
     "metadata": {},
     "output_type": "execute_result"
    }
   ],
   "source": [
    "X_train"
   ]
  },
  {
   "cell_type": "code",
   "execution_count": 705,
   "metadata": {},
   "outputs": [],
   "source": [
    "column_name = X_train.columns"
   ]
  },
  {
   "cell_type": "code",
   "execution_count": 706,
   "metadata": {},
   "outputs": [],
   "source": [
    "#to make sure the train and test dataset have the same shape\n",
    "train_objs_num = len(X_train)\n",
    "combine_dataset = pd.concat(objs=[X_train, X_test], axis=0)\n",
    "dataset_preprocessed = pd.get_dummies(combine_dataset, columns=nominal_value)\n",
    "X_train = dataset_preprocessed[:train_objs_num]\n",
    "X_test = dataset_preprocessed[train_objs_num:]"
   ]
  },
  {
   "cell_type": "code",
   "execution_count": 708,
   "metadata": {},
   "outputs": [],
   "source": [
    "from sklearn.preprocessing import StandardScaler\n",
    "scaler = StandardScaler()\n",
    "X_train = scaler.fit_transform(X_train)\n",
    "X_test = scaler.transform(X_test)"
   ]
  },
  {
   "cell_type": "code",
   "execution_count": 791,
   "metadata": {},
   "outputs": [
    {
     "data": {
      "text/plain": [
       "<matplotlib.axes._subplots.AxesSubplot at 0x14c0dd48>"
      ]
     },
     "execution_count": 791,
     "metadata": {},
     "output_type": "execute_result"
    },
    {
     "data": {
      "image/png": "[encoded data removed]",
      "text/plain": [
       "<Figure size 432x288 with 1 Axes>"
      ]
     },
     "metadata": {
      "needs_background": "light"
     },
     "output_type": "display_data"
    }
   ],
   "source": []
  },
  {
   "cell_type": "code",
   "execution_count": 772,
   "metadata": {},
   "outputs": [
    {
     "name": "stderr",
     "output_type": "stream",
     "text": [
      "C:\\Anaconda\\lib\\site-packages\\sklearn\\model_selection\\_split.py:1978: FutureWarning: The default value of cv will change from 3 to 5 in version 0.22. Specify it explicitly to silence this warning.\n",
      "  warnings.warn(CV_WARNING, FutureWarning)\n",
      "[Parallel(n_jobs=-1)]: Using backend LokyBackend with 8 concurrent workers.\n"
     ]
    },
    {
     "name": "stdout",
     "output_type": "stream",
     "text": [
      "Fitting 3 folds for each of 288 candidates, totalling 864 fits\n"
     ]
    },
    {
     "ename": "ValueError",
     "evalue": "Invalid parameter max_depth for estimator CalibratedClassifierCV(base_estimator=RandomForestClassifier(bootstrap=True,\n                                                             class_weight=None,\n                                                             criterion='gini',\n                                                             max_depth=None,\n                                                             max_features='auto',\n                                                             max_leaf_nodes=None,\n                                                             min_impurity_decrease=0.0,\n                                                             min_impurity_split=None,\n                                                             min_samples_leaf=1,\n                                                             min_samples_split=2,\n                                                             min_weight_fraction_leaf=0.0,\n                                                             n_estimators='warn',\n                                                             n_jobs=None,\n                                                             oob_score=False,\n                                                             random_state=1,\n                                                             verbose=0,\n                                                             warm_start=False),\n                       cv='warn', method='isotonic'). Check the list of available parameters with `estimator.get_params().keys()`.",
     "output_type": "error",
     "traceback": [
      "\u001b[1;31m---------------------------------------------------------------------------\u001b[0m",
      "\u001b[1;31m_RemoteTraceback\u001b[0m                          Traceback (most recent call last)",
      "\u001b[1;31m_RemoteTraceback\u001b[0m: \n\"\"\"\nTraceback (most recent call last):\n  File \"C:\\Anaconda\\lib\\site-packages\\joblib\\externals\\loky\\process_executor.py\", line 418, in _process_worker\n    r = call_item()\n  File \"C:\\Anaconda\\lib\\site-packages\\joblib\\externals\\loky\\process_executor.py\", line 272, in __call__\n    return self.fn(*self.args, **self.kwargs)\n  File \"C:\\Anaconda\\lib\\site-packages\\joblib\\_parallel_backends.py\", line 567, in __call__\n    return self.func(*args, **kwargs)\n  File \"C:\\Anaconda\\lib\\site-packages\\joblib\\parallel.py\", line 225, in __call__\n    for func, args, kwargs in self.items]\n  File \"C:\\Anaconda\\lib\\site-packages\\joblib\\parallel.py\", line 225, in <listcomp>\n    for func, args, kwargs in self.items]\n  File \"C:\\Anaconda\\lib\\site-packages\\sklearn\\model_selection\\_validation.py\", line 503, in _fit_and_score\n    estimator.set_params(**parameters)\n  File \"C:\\Anaconda\\lib\\site-packages\\sklearn\\base.py\", line 224, in set_params\n    (key, self))\nValueError: Invalid parameter max_depth for estimator CalibratedClassifierCV(base_estimator=RandomForestClassifier(bootstrap=True,\n                                                             class_weight=None,\n                                                             criterion='gini',\n                                                             max_depth=None,\n                                                             max_features='auto',\n                                                             max_leaf_nodes=None,\n                                                             min_impurity_decrease=0.0,\n                                                             min_impurity_split=None,\n                                                             min_samples_leaf=1,\n                                                             min_samples_split=2,\n                                                             min_weight_fraction_leaf=0.0,\n                                                             n_estimators='warn',\n                                                             n_jobs=None,\n                                                             oob_score=False,\n                                                             random_state=1,\n                                                             verbose=0,\n                                                             warm_start=False),\n                       cv='warn', method='isotonic'). Check the list of available parameters with `estimator.get_params().keys()`.\n\"\"\"",
      "\nThe above exception was the direct cause of the following exception:\n",
      "\u001b[1;31mValueError\u001b[0m                                Traceback (most recent call last)",
      "\u001b[1;32m<ipython-input-772-ff77ba006ad3>\u001b[0m in \u001b[0;36m<module>\u001b[1;34m\u001b[0m\n\u001b[0;32m     12\u001b[0m                     n_jobs=-1)\n\u001b[0;32m     13\u001b[0m \u001b[1;33m\u001b[0m\u001b[0m\n\u001b[1;32m---> 14\u001b[1;33m \u001b[0mgrid\u001b[0m\u001b[1;33m.\u001b[0m\u001b[0mfit\u001b[0m\u001b[1;33m(\u001b[0m\u001b[0mX_train\u001b[0m\u001b[1;33m,\u001b[0m \u001b[0my_train\u001b[0m\u001b[1;33m)\u001b[0m\u001b[1;33m\u001b[0m\u001b[1;33m\u001b[0m\u001b[0m\n\u001b[0m",
      "\u001b[1;32mC:\\Anaconda\\lib\\site-packages\\sklearn\\model_selection\\_search.py\u001b[0m in \u001b[0;36mfit\u001b[1;34m(self, X, y, groups, **fit_params)\u001b[0m\n\u001b[0;32m    686\u001b[0m                 \u001b[1;32mreturn\u001b[0m \u001b[0mresults\u001b[0m\u001b[1;33m\u001b[0m\u001b[1;33m\u001b[0m\u001b[0m\n\u001b[0;32m    687\u001b[0m \u001b[1;33m\u001b[0m\u001b[0m\n\u001b[1;32m--> 688\u001b[1;33m             \u001b[0mself\u001b[0m\u001b[1;33m.\u001b[0m\u001b[0m_run_search\u001b[0m\u001b[1;33m(\u001b[0m\u001b[0mevaluate_candidates\u001b[0m\u001b[1;33m)\u001b[0m\u001b[1;33m\u001b[0m\u001b[1;33m\u001b[0m\u001b[0m\n\u001b[0m\u001b[0;32m    689\u001b[0m \u001b[1;33m\u001b[0m\u001b[0m\n\u001b[0;32m    690\u001b[0m         \u001b[1;31m# For multi-metric evaluation, store the best_index_, best_params_ and\u001b[0m\u001b[1;33m\u001b[0m\u001b[1;33m\u001b[0m\u001b[1;33m\u001b[0m\u001b[0m\n",
      "\u001b[1;32mC:\\Anaconda\\lib\\site-packages\\sklearn\\model_selection\\_search.py\u001b[0m in \u001b[0;36m_run_search\u001b[1;34m(self, evaluate_candidates)\u001b[0m\n\u001b[0;32m   1147\u001b[0m     \u001b[1;32mdef\u001b[0m \u001b[0m_run_search\u001b[0m\u001b[1;33m(\u001b[0m\u001b[0mself\u001b[0m\u001b[1;33m,\u001b[0m \u001b[0mevaluate_candidates\u001b[0m\u001b[1;33m)\u001b[0m\u001b[1;33m:\u001b[0m\u001b[1;33m\u001b[0m\u001b[1;33m\u001b[0m\u001b[0m\n\u001b[0;32m   1148\u001b[0m         \u001b[1;34m\"\"\"Search all candidates in param_grid\"\"\"\u001b[0m\u001b[1;33m\u001b[0m\u001b[1;33m\u001b[0m\u001b[0m\n\u001b[1;32m-> 1149\u001b[1;33m         \u001b[0mevaluate_candidates\u001b[0m\u001b[1;33m(\u001b[0m\u001b[0mParameterGrid\u001b[0m\u001b[1;33m(\u001b[0m\u001b[0mself\u001b[0m\u001b[1;33m.\u001b[0m\u001b[0mparam_grid\u001b[0m\u001b[1;33m)\u001b[0m\u001b[1;33m)\u001b[0m\u001b[1;33m\u001b[0m\u001b[1;33m\u001b[0m\u001b[0m\n\u001b[0m\u001b[0;32m   1150\u001b[0m \u001b[1;33m\u001b[0m\u001b[0m\n\u001b[0;32m   1151\u001b[0m \u001b[1;33m\u001b[0m\u001b[0m\n",
      "\u001b[1;32mC:\\Anaconda\\lib\\site-packages\\sklearn\\model_selection\\_search.py\u001b[0m in \u001b[0;36mevaluate_candidates\u001b[1;34m(candidate_params)\u001b[0m\n\u001b[0;32m    665\u001b[0m                                \u001b[1;32mfor\u001b[0m \u001b[0mparameters\u001b[0m\u001b[1;33m,\u001b[0m \u001b[1;33m(\u001b[0m\u001b[0mtrain\u001b[0m\u001b[1;33m,\u001b[0m \u001b[0mtest\u001b[0m\u001b[1;33m)\u001b[0m\u001b[1;33m\u001b[0m\u001b[1;33m\u001b[0m\u001b[0m\n\u001b[0;32m    666\u001b[0m                                in product(candidate_params,\n\u001b[1;32m--> 667\u001b[1;33m                                           cv.split(X, y, groups)))\n\u001b[0m\u001b[0;32m    668\u001b[0m \u001b[1;33m\u001b[0m\u001b[0m\n\u001b[0;32m    669\u001b[0m                 \u001b[1;32mif\u001b[0m \u001b[0mlen\u001b[0m\u001b[1;33m(\u001b[0m\u001b[0mout\u001b[0m\u001b[1;33m)\u001b[0m \u001b[1;33m<\u001b[0m \u001b[1;36m1\u001b[0m\u001b[1;33m:\u001b[0m\u001b[1;33m\u001b[0m\u001b[1;33m\u001b[0m\u001b[0m\n",
      "\u001b[1;32mC:\\Anaconda\\lib\\site-packages\\joblib\\parallel.py\u001b[0m in \u001b[0;36m__call__\u001b[1;34m(self, iterable)\u001b[0m\n\u001b[0;32m    932\u001b[0m \u001b[1;33m\u001b[0m\u001b[0m\n\u001b[0;32m    933\u001b[0m             \u001b[1;32mwith\u001b[0m \u001b[0mself\u001b[0m\u001b[1;33m.\u001b[0m\u001b[0m_backend\u001b[0m\u001b[1;33m.\u001b[0m\u001b[0mretrieval_context\u001b[0m\u001b[1;33m(\u001b[0m\u001b[1;33m)\u001b[0m\u001b[1;33m:\u001b[0m\u001b[1;33m\u001b[0m\u001b[1;33m\u001b[0m\u001b[0m\n\u001b[1;32m--> 934\u001b[1;33m                 \u001b[0mself\u001b[0m\u001b[1;33m.\u001b[0m\u001b[0mretrieve\u001b[0m\u001b[1;33m(\u001b[0m\u001b[1;33m)\u001b[0m\u001b[1;33m\u001b[0m\u001b[1;33m\u001b[0m\u001b[0m\n\u001b[0m\u001b[0;32m    935\u001b[0m             \u001b[1;31m# Make sure that we get a last message telling us we are done\u001b[0m\u001b[1;33m\u001b[0m\u001b[1;33m\u001b[0m\u001b[1;33m\u001b[0m\u001b[0m\n\u001b[0;32m    936\u001b[0m             \u001b[0melapsed_time\u001b[0m \u001b[1;33m=\u001b[0m \u001b[0mtime\u001b[0m\u001b[1;33m.\u001b[0m\u001b[0mtime\u001b[0m\u001b[1;33m(\u001b[0m\u001b[1;33m)\u001b[0m \u001b[1;33m-\u001b[0m \u001b[0mself\u001b[0m\u001b[1;33m.\u001b[0m\u001b[0m_start_time\u001b[0m\u001b[1;33m\u001b[0m\u001b[1;33m\u001b[0m\u001b[0m\n",
      "\u001b[1;32mC:\\Anaconda\\lib\\site-packages\\joblib\\parallel.py\u001b[0m in \u001b[0;36mretrieve\u001b[1;34m(self)\u001b[0m\n\u001b[0;32m    831\u001b[0m             \u001b[1;32mtry\u001b[0m\u001b[1;33m:\u001b[0m\u001b[1;33m\u001b[0m\u001b[1;33m\u001b[0m\u001b[0m\n\u001b[0;32m    832\u001b[0m                 \u001b[1;32mif\u001b[0m \u001b[0mgetattr\u001b[0m\u001b[1;33m(\u001b[0m\u001b[0mself\u001b[0m\u001b[1;33m.\u001b[0m\u001b[0m_backend\u001b[0m\u001b[1;33m,\u001b[0m \u001b[1;34m'supports_timeout'\u001b[0m\u001b[1;33m,\u001b[0m \u001b[1;32mFalse\u001b[0m\u001b[1;33m)\u001b[0m\u001b[1;33m:\u001b[0m\u001b[1;33m\u001b[0m\u001b[1;33m\u001b[0m\u001b[0m\n\u001b[1;32m--> 833\u001b[1;33m                     \u001b[0mself\u001b[0m\u001b[1;33m.\u001b[0m\u001b[0m_output\u001b[0m\u001b[1;33m.\u001b[0m\u001b[0mextend\u001b[0m\u001b[1;33m(\u001b[0m\u001b[0mjob\u001b[0m\u001b[1;33m.\u001b[0m\u001b[0mget\u001b[0m\u001b[1;33m(\u001b[0m\u001b[0mtimeout\u001b[0m\u001b[1;33m=\u001b[0m\u001b[0mself\u001b[0m\u001b[1;33m.\u001b[0m\u001b[0mtimeout\u001b[0m\u001b[1;33m)\u001b[0m\u001b[1;33m)\u001b[0m\u001b[1;33m\u001b[0m\u001b[1;33m\u001b[0m\u001b[0m\n\u001b[0m\u001b[0;32m    834\u001b[0m                 \u001b[1;32melse\u001b[0m\u001b[1;33m:\u001b[0m\u001b[1;33m\u001b[0m\u001b[1;33m\u001b[0m\u001b[0m\n\u001b[0;32m    835\u001b[0m                     \u001b[0mself\u001b[0m\u001b[1;33m.\u001b[0m\u001b[0m_output\u001b[0m\u001b[1;33m.\u001b[0m\u001b[0mextend\u001b[0m\u001b[1;33m(\u001b[0m\u001b[0mjob\u001b[0m\u001b[1;33m.\u001b[0m\u001b[0mget\u001b[0m\u001b[1;33m(\u001b[0m\u001b[1;33m)\u001b[0m\u001b[1;33m)\u001b[0m\u001b[1;33m\u001b[0m\u001b[1;33m\u001b[0m\u001b[0m\n",
      "\u001b[1;32mC:\\Anaconda\\lib\\site-packages\\joblib\\_parallel_backends.py\u001b[0m in \u001b[0;36mwrap_future_result\u001b[1;34m(future, timeout)\u001b[0m\n\u001b[0;32m    519\u001b[0m         AsyncResults.get from multiprocessing.\"\"\"\n\u001b[0;32m    520\u001b[0m         \u001b[1;32mtry\u001b[0m\u001b[1;33m:\u001b[0m\u001b[1;33m\u001b[0m\u001b[1;33m\u001b[0m\u001b[0m\n\u001b[1;32m--> 521\u001b[1;33m             \u001b[1;32mreturn\u001b[0m \u001b[0mfuture\u001b[0m\u001b[1;33m.\u001b[0m\u001b[0mresult\u001b[0m\u001b[1;33m(\u001b[0m\u001b[0mtimeout\u001b[0m\u001b[1;33m=\u001b[0m\u001b[0mtimeout\u001b[0m\u001b[1;33m)\u001b[0m\u001b[1;33m\u001b[0m\u001b[1;33m\u001b[0m\u001b[0m\n\u001b[0m\u001b[0;32m    522\u001b[0m         \u001b[1;32mexcept\u001b[0m \u001b[0mLokyTimeoutError\u001b[0m\u001b[1;33m:\u001b[0m\u001b[1;33m\u001b[0m\u001b[1;33m\u001b[0m\u001b[0m\n\u001b[0;32m    523\u001b[0m             \u001b[1;32mraise\u001b[0m \u001b[0mTimeoutError\u001b[0m\u001b[1;33m(\u001b[0m\u001b[1;33m)\u001b[0m\u001b[1;33m\u001b[0m\u001b[1;33m\u001b[0m\u001b[0m\n",
      "\u001b[1;32mC:\\Anaconda\\lib\\concurrent\\futures\\_base.py\u001b[0m in \u001b[0;36mresult\u001b[1;34m(self, timeout)\u001b[0m\n\u001b[0;32m    433\u001b[0m                 \u001b[1;32mraise\u001b[0m \u001b[0mCancelledError\u001b[0m\u001b[1;33m(\u001b[0m\u001b[1;33m)\u001b[0m\u001b[1;33m\u001b[0m\u001b[1;33m\u001b[0m\u001b[0m\n\u001b[0;32m    434\u001b[0m             \u001b[1;32melif\u001b[0m \u001b[0mself\u001b[0m\u001b[1;33m.\u001b[0m\u001b[0m_state\u001b[0m \u001b[1;33m==\u001b[0m \u001b[0mFINISHED\u001b[0m\u001b[1;33m:\u001b[0m\u001b[1;33m\u001b[0m\u001b[1;33m\u001b[0m\u001b[0m\n\u001b[1;32m--> 435\u001b[1;33m                 \u001b[1;32mreturn\u001b[0m \u001b[0mself\u001b[0m\u001b[1;33m.\u001b[0m\u001b[0m__get_result\u001b[0m\u001b[1;33m(\u001b[0m\u001b[1;33m)\u001b[0m\u001b[1;33m\u001b[0m\u001b[1;33m\u001b[0m\u001b[0m\n\u001b[0m\u001b[0;32m    436\u001b[0m             \u001b[1;32melse\u001b[0m\u001b[1;33m:\u001b[0m\u001b[1;33m\u001b[0m\u001b[1;33m\u001b[0m\u001b[0m\n\u001b[0;32m    437\u001b[0m                 \u001b[1;32mraise\u001b[0m \u001b[0mTimeoutError\u001b[0m\u001b[1;33m(\u001b[0m\u001b[1;33m)\u001b[0m\u001b[1;33m\u001b[0m\u001b[1;33m\u001b[0m\u001b[0m\n",
      "\u001b[1;32mC:\\Anaconda\\lib\\concurrent\\futures\\_base.py\u001b[0m in \u001b[0;36m__get_result\u001b[1;34m(self)\u001b[0m\n\u001b[0;32m    382\u001b[0m     \u001b[1;32mdef\u001b[0m \u001b[0m__get_result\u001b[0m\u001b[1;33m(\u001b[0m\u001b[0mself\u001b[0m\u001b[1;33m)\u001b[0m\u001b[1;33m:\u001b[0m\u001b[1;33m\u001b[0m\u001b[1;33m\u001b[0m\u001b[0m\n\u001b[0;32m    383\u001b[0m         \u001b[1;32mif\u001b[0m \u001b[0mself\u001b[0m\u001b[1;33m.\u001b[0m\u001b[0m_exception\u001b[0m\u001b[1;33m:\u001b[0m\u001b[1;33m\u001b[0m\u001b[1;33m\u001b[0m\u001b[0m\n\u001b[1;32m--> 384\u001b[1;33m             \u001b[1;32mraise\u001b[0m \u001b[0mself\u001b[0m\u001b[1;33m.\u001b[0m\u001b[0m_exception\u001b[0m\u001b[1;33m\u001b[0m\u001b[1;33m\u001b[0m\u001b[0m\n\u001b[0m\u001b[0;32m    385\u001b[0m         \u001b[1;32melse\u001b[0m\u001b[1;33m:\u001b[0m\u001b[1;33m\u001b[0m\u001b[1;33m\u001b[0m\u001b[0m\n\u001b[0;32m    386\u001b[0m             \u001b[1;32mreturn\u001b[0m \u001b[0mself\u001b[0m\u001b[1;33m.\u001b[0m\u001b[0m_result\u001b[0m\u001b[1;33m\u001b[0m\u001b[1;33m\u001b[0m\u001b[0m\n",
      "\u001b[1;31mValueError\u001b[0m: Invalid parameter max_depth for estimator CalibratedClassifierCV(base_estimator=RandomForestClassifier(bootstrap=True,\n                                                             class_weight=None,\n                                                             criterion='gini',\n                                                             max_depth=None,\n                                                             max_features='auto',\n                                                             max_leaf_nodes=None,\n                                                             min_impurity_decrease=0.0,\n                                                             min_impurity_split=None,\n                                                             min_samples_leaf=1,\n                                                             min_samples_split=2,\n                                                             min_weight_fraction_leaf=0.0,\n                                                             n_estimators='warn',\n                                                             n_jobs=None,\n                                                             oob_score=False,\n                                                             random_state=1,\n                                                             verbose=0,\n                                                             warm_start=False),\n                       cv='warn', method='isotonic'). Check the list of available parameters with `estimator.get_params().keys()`."
     ]
    }
   ],
   "source": [
    "clf = RandomForestClassifier(random_state=1)\n",
    "param_grid = {'n_estimators': [200, 300, 400, 500],\n",
    "              'max_features': ['auto', 'sqrt'], \n",
    "              'max_depth': [25, 28, 30, 40],\n",
    "              'min_samples_split': [5, 8, 10],\n",
    "              'min_samples_leaf': [5, 8, 10]}\n",
    "grid = GridSearchCV(clf, \n",
    "                    param_grid, \n",
    "                    refit=True, \n",
    "                    verbose=3, \n",
    "                    n_jobs=-1)\n",
    "\n",
    "grid.fit(X_train, y_train)"
   ]
  },
  {
   "cell_type": "code",
   "execution_count": 774,
   "metadata": {},
   "outputs": [
    {
     "name": "stderr",
     "output_type": "stream",
     "text": [
      "C:\\Anaconda\\lib\\site-packages\\sklearn\\model_selection\\_split.py:1978: FutureWarning: The default value of cv will change from 3 to 5 in version 0.22. Specify it explicitly to silence this warning.\n",
      "  warnings.warn(CV_WARNING, FutureWarning)\n"
     ]
    },
    {
     "data": {
      "text/plain": [
       "CalibratedClassifierCV(base_estimator=RandomForestClassifier(bootstrap=True,\n",
       "                                                             class_weight=None,\n",
       "                                                             criterion='gini',\n",
       "                                                             max_depth=28,\n",
       "                                                             max_features='auto',\n",
       "                                                             max_leaf_nodes=None,\n",
       "                                                             min_impurity_decrease=0.0,\n",
       "                                                             min_impurity_split=None,\n",
       "                                                             min_samples_leaf=5,\n",
       "                                                             min_samples_split=5,\n",
       "                                                             min_weight_fraction_leaf=0.0,\n",
       "                                                             n_estimators=500,\n",
       "                                                             n_jobs=None,\n",
       "                                                             oob_score=False,\n",
       "                                                             random_state=1,\n",
       "                                                             verbose=0,\n",
       "                                                             warm_start=False),\n",
       "                       cv='warn', method='isotonic')"
      ]
     },
     "execution_count": 774,
     "metadata": {},
     "output_type": "execute_result"
    }
   ],
   "source": [
    "clf_1 = RandomForestClassifier(max_depth=28, \n",
    "                               max_features='auto', \n",
    "                               min_samples_leaf=5,\n",
    "                               min_samples_split=5,\n",
    "                               n_estimators=500,\n",
    "                               random_state=1)\n",
    "clf_isotonic = CalibratedClassifierCV(clf_1, method='isotonic')\n",
    "clf_isotonic.fit(X_train, y_train)"
   ]
  },
  {
   "cell_type": "code",
   "execution_count": 726,
   "metadata": {},
   "outputs": [
    {
     "data": {
      "text/plain": [
       "{'max_depth': 28,\n",
       " 'max_features': 'auto',\n",
       " 'min_samples_leaf': 5,\n",
       " 'min_samples_split': 5,\n",
       " 'n_estimators': 500}"
      ]
     },
     "execution_count": 726,
     "metadata": {},
     "output_type": "execute_result"
    }
   ],
   "source": [
    "grid.best_params_"
   ]
  },
  {
   "cell_type": "code",
   "execution_count": 727,
   "metadata": {},
   "outputs": [],
   "source": [
    "#clf directly\n",
    "pred = cross_val_predict(grid.best_estimator_,\n",
    "                         X_test,\n",
    "                         y_test,\n",
    "                         method='predict_proba',\n",
    "                         cv=5)"
   ]
  },
  {
   "cell_type": "code",
   "execution_count": 775,
   "metadata": {},
   "outputs": [
    {
     "name": "stderr",
     "output_type": "stream",
     "text": [
      "C:\\Anaconda\\lib\\site-packages\\sklearn\\model_selection\\_split.py:1978: FutureWarning: The default value of cv will change from 3 to 5 in version 0.22. Specify it explicitly to silence this warning.\n",
      "  warnings.warn(CV_WARNING, FutureWarning)\n",
      "C:\\Anaconda\\lib\\site-packages\\sklearn\\model_selection\\_split.py:1978: FutureWarning: The default value of cv will change from 3 to 5 in version 0.22. Specify it explicitly to silence this warning.\n",
      "  warnings.warn(CV_WARNING, FutureWarning)\n",
      "C:\\Anaconda\\lib\\site-packages\\sklearn\\model_selection\\_split.py:1978: FutureWarning: The default value of cv will change from 3 to 5 in version 0.22. Specify it explicitly to silence this warning.\n",
      "  warnings.warn(CV_WARNING, FutureWarning)\n",
      "C:\\Anaconda\\lib\\site-packages\\sklearn\\model_selection\\_split.py:1978: FutureWarning: The default value of cv will change from 3 to 5 in version 0.22. Specify it explicitly to silence this warning.\n",
      "  warnings.warn(CV_WARNING, FutureWarning)\n",
      "C:\\Anaconda\\lib\\site-packages\\sklearn\\model_selection\\_split.py:1978: FutureWarning: The default value of cv will change from 3 to 5 in version 0.22. Specify it explicitly to silence this warning.\n",
      "  warnings.warn(CV_WARNING, FutureWarning)\n"
     ]
    }
   ],
   "source": [
    "#calibration\n",
    "pred = cross_val_predict(clf_isotonic,\n",
    "                         X_test,\n",
    "                         y_test,\n",
    "                         method='predict_proba',\n",
    "                         cv=5)"
   ]
  },
  {
   "cell_type": "code",
   "execution_count": 712,
   "metadata": {},
   "outputs": [],
   "source": [
    "def plot_roc(y_true, y_pred):\n",
    "    fpr, tpr, thresholds = metrics.roc_curve(y_true, y_pred)\n",
    "    roc_auc = metrics.auc(fpr, tpr)\n",
    "    plt.title('Receiver Operating Characteristic')\n",
    "    plt.plot(fpr, tpr, 'k', label = 'AUC = %0.2f' % roc_auc)\n",
    "    plt.legend(loc = 'lower right')\n",
    "    plt.plot([0, 1], [0, 1],'r--')\n",
    "    plt.axis('square')\n",
    "    plt.grid(True)\n",
    "    plt.xlim([0, 1])\n",
    "    plt.ylim([0, 1])\n",
    "    plt.ylabel('True Positive Rate')\n",
    "    plt.xlabel('False Positive Rate')\n",
    "    return (fpr, tpr, thresholds)"
   ]
  },
  {
   "cell_type": "code",
   "execution_count": 776,
   "metadata": {},
   "outputs": [
    {
     "data": {
      "text/plain": [
       "(array([0.        , 0.01388889, 0.01388889, 0.04166667, 0.04166667,\n",
       "        0.04166667, 0.04166667, 0.04166667, 0.04166667, 0.04166667,\n",
       "        0.04166667, 0.05555556, 0.05555556, 0.05555556, 0.05555556,\n",
       "        0.05555556, 0.05555556, 0.05555556, 0.05555556, 0.05555556,\n",
       "        0.05555556, 0.05555556, 0.05555556, 0.05555556, 0.05555556,\n",
       "        0.05555556, 0.05555556, 0.05555556, 0.05555556, 0.08333333,\n",
       "        0.08333333, 0.08333333, 0.09722222, 0.09722222, 0.09722222,\n",
       "        0.09722222, 0.09722222, 0.09722222, 0.09722222, 0.09722222,\n",
       "        0.09722222, 0.09722222, 0.09722222, 0.09722222, 0.11111111,\n",
       "        0.11111111, 0.11111111, 0.11111111, 0.11111111, 0.11111111,\n",
       "        0.11111111, 0.11111111, 0.11111111, 0.11111111, 0.11111111,\n",
       "        0.11111111, 0.11111111, 0.11111111, 0.11111111, 0.11111111,\n",
       "        0.11111111, 0.11111111, 0.11111111, 0.11111111, 0.11111111,\n",
       "        0.11111111, 0.11111111, 0.11111111, 0.11111111, 0.11111111,\n",
       "        0.11111111, 0.11111111, 0.11111111, 0.11111111, 0.11111111,\n",
       "        0.13888889, 0.13888889, 0.13888889, 0.15277778, 0.15277778,\n",
       "        0.15277778, 0.15277778, 0.15277778, 0.15277778, 0.15277778,\n",
       "        0.16666667, 0.19444444, 0.19444444, 0.19444444, 0.19444444,\n",
       "        0.19444444, 0.23611111, 0.25      , 0.25      , 0.25      ,\n",
       "        0.25      , 0.25      , 0.25      , 0.25      , 0.25      ,\n",
       "        0.27777778, 0.27777778, 0.29166667, 0.29166667, 0.29166667,\n",
       "        0.29166667, 0.29166667, 0.29166667, 0.29166667, 0.29166667,\n",
       "        0.29166667, 0.29166667, 0.29166667, 0.29166667, 0.29166667,\n",
       "        0.29166667, 0.29166667, 0.29166667, 0.30555556, 0.30555556,\n",
       "        0.30555556, 0.30555556, 0.30555556, 0.33333333, 0.33333333,\n",
       "        0.33333333, 0.33333333, 0.33333333, 0.33333333, 0.33333333,\n",
       "        0.33333333, 0.33333333, 0.33333333, 0.34722222, 0.34722222,\n",
       "        0.34722222, 0.36111111, 0.36111111, 0.375     , 0.375     ,\n",
       "        0.375     , 0.375     , 0.375     , 0.375     , 0.375     ,\n",
       "        0.375     , 0.375     , 0.375     , 0.375     , 0.375     ,\n",
       "        0.375     , 0.375     , 0.375     , 0.38888889, 0.38888889,\n",
       "        0.38888889, 0.40277778, 0.40277778, 0.41666667, 0.41666667,\n",
       "        0.43055556, 0.43055556, 0.43055556, 0.43055556, 0.43055556,\n",
       "        0.43055556, 0.43055556, 0.44444444, 0.44444444, 0.45833333,\n",
       "        0.45833333, 0.47222222, 0.47222222, 0.47222222, 0.47222222,\n",
       "        0.47222222, 0.47222222, 0.48611111, 0.5       , 0.51388889,\n",
       "        0.51388889, 0.52777778, 0.52777778, 0.52777778, 0.54166667,\n",
       "        0.54166667, 0.55555556, 0.55555556, 0.55555556, 0.55555556,\n",
       "        0.55555556, 0.55555556, 0.55555556, 0.55555556, 0.55555556,\n",
       "        0.55555556, 0.56944444, 0.56944444, 0.56944444, 0.59722222,\n",
       "        0.59722222, 0.625     , 0.625     , 0.63888889, 0.63888889,\n",
       "        0.63888889, 0.63888889, 0.65277778, 0.65277778, 0.66666667,\n",
       "        0.66666667, 0.66666667, 0.68055556, 0.68055556, 0.69444444,\n",
       "        0.70833333, 0.70833333, 0.70833333, 0.70833333, 0.72222222,\n",
       "        0.72222222, 0.73611111, 0.73611111, 0.73611111, 0.73611111,\n",
       "        0.76388889, 0.76388889, 0.79166667, 0.79166667, 0.79166667,\n",
       "        0.80555556, 0.80555556, 0.81944444, 0.81944444, 0.81944444,\n",
       "        0.81944444, 0.81944444, 0.81944444, 0.83333333, 0.83333333,\n",
       "        0.83333333, 0.84722222, 0.84722222, 0.84722222, 0.84722222,\n",
       "        0.84722222, 0.86111111, 0.86111111, 0.875     , 0.875     ,\n",
       "        0.88888889, 0.88888889, 0.90277778, 0.90277778, 0.90277778,\n",
       "        0.90277778, 0.91666667, 0.91666667, 0.98611111, 0.98611111,\n",
       "        1.        , 1.        ]),\n",
       " array([0.        , 0.14890017, 0.1500282 , 0.19176537, 0.1928934 ,\n",
       "        0.19458545, 0.19514946, 0.20078962, 0.2069938 , 0.20755781,\n",
       "        0.21206994, 0.26170333, 0.28821207, 0.30851664, 0.31020869,\n",
       "        0.3107727 , 0.32543711, 0.32600113, 0.3322053 , 0.35081782,\n",
       "        0.35194585, 0.35927806, 0.36548223, 0.38183869, 0.38240271,\n",
       "        0.40327129, 0.40383531, 0.42244783, 0.42301184, 0.48054146,\n",
       "        0.48166949, 0.4822335 , 0.51494642, 0.5177665 , 0.51889453,\n",
       "        0.52115059, 0.52340666, 0.53073886, 0.54765933, 0.55893965,\n",
       "        0.56175973, 0.56288776, 0.56852792, 0.56909193, 0.5820643 ,\n",
       "        0.58262831, 0.59052453, 0.59108855, 0.59672871, 0.59785674,\n",
       "        0.60518895, 0.60970107, 0.6108291 , 0.61477721, 0.61590525,\n",
       "        0.62210942, 0.62605753, 0.62831359, 0.62887761, 0.63113367,\n",
       "        0.65200226, 0.65256627, 0.65933446, 0.65989848, 0.66159052,\n",
       "        0.6644106 , 0.66666667, 0.66948675, 0.67117879, 0.67230682,\n",
       "        0.67399887, 0.67569092, 0.67681895, 0.67738297, 0.68245911,\n",
       "        0.69261139, 0.69373942, 0.6965595 , 0.70558376, 0.7072758 ,\n",
       "        0.70840384, 0.7106599 , 0.71122391, 0.71573604, 0.71630006,\n",
       "        0.7287084 , 0.73829667, 0.74168077, 0.74450085, 0.74562888,\n",
       "        0.74675691, 0.7535251 , 0.7535251 , 0.75465313, 0.76198534,\n",
       "        0.76254935, 0.7642414 , 0.76480541, 0.76649746, 0.76706148,\n",
       "        0.77382967, 0.77439368, 0.77439368, 0.7749577 , 0.77608573,\n",
       "        0.77834179, 0.77890581, 0.78003384, 0.78341794, 0.78849408,\n",
       "        0.78962211, 0.79018613, 0.79131416, 0.79244219, 0.79469825,\n",
       "        0.79526227, 0.79695431, 0.80033841, 0.80033841, 0.80203046,\n",
       "        0.80541455, 0.81105471, 0.81387479, 0.81500282, 0.81669487,\n",
       "        0.82007896, 0.82120699, 0.8251551 , 0.82571912, 0.82684715,\n",
       "        0.8285392 , 0.83023125, 0.83248731, 0.84207558, 0.84320361,\n",
       "        0.84433164, 0.84489566, 0.84715172, 0.8499718 , 0.85053582,\n",
       "        0.85222786, 0.85279188, 0.85391991, 0.85448393, 0.85673999,\n",
       "        0.857304  , 0.85956007, 0.86012408, 0.86238015, 0.86350818,\n",
       "        0.86463621, 0.86520023, 0.86689227, 0.86689227, 0.8680203 ,\n",
       "        0.86858432, 0.86914834, 0.86971235, 0.87027637, 0.87084038,\n",
       "        0.87196842, 0.87366046, 0.87591653, 0.87648054, 0.87760857,\n",
       "        0.88155668, 0.88494078, 0.88494078, 0.88606881, 0.88776086,\n",
       "        0.88832487, 0.89001692, 0.89058094, 0.89170897, 0.89227298,\n",
       "        0.89340102, 0.89452905, 0.89509306, 0.89904117, 0.90242527,\n",
       "        0.90298928, 0.9035533 , 0.90693739, 0.90806543, 0.90806543,\n",
       "        0.90919346, 0.90975747, 0.91032149, 0.91483362, 0.91539763,\n",
       "        0.91652566, 0.91708968, 0.91821771, 0.9216018 , 0.92272984,\n",
       "        0.92442188, 0.92442188, 0.92554992, 0.92611393, 0.92836999,\n",
       "        0.92949803, 0.93513818, 0.93626622, 0.93683023, 0.93795826,\n",
       "        0.93965031, 0.94021433, 0.94021433, 0.94077834, 0.94134236,\n",
       "        0.94359842, 0.94472645, 0.94472645, 0.94698252, 0.94698252,\n",
       "        0.94867456, 0.94923858, 0.95149464, 0.95318669, 0.95318669,\n",
       "        0.95487874, 0.95487874, 0.95544275, 0.95769882, 0.95826283,\n",
       "        0.95826283, 0.95995488, 0.96221094, 0.96333897, 0.96390299,\n",
       "        0.96503102, 0.96672307, 0.96672307, 0.96728708, 0.96841512,\n",
       "        0.96954315, 0.97067118, 0.97123519, 0.97292724, 0.97574732,\n",
       "        0.97743937, 0.98082346, 0.98251551, 0.98364354, 0.98589961,\n",
       "        0.98759165, 0.98759165, 0.98815567, 0.98815567, 0.98871968,\n",
       "        0.98871968, 0.98984772, 0.99266779, 0.99492386, 0.99605189,\n",
       "        0.99830795, 0.99830795, 0.99887197, 0.99887197, 0.99943598,\n",
       "        0.99943598, 1.        ]),\n",
       " array([2.        , 1.        , 0.99861687, 0.9985444 , 0.99829969,\n",
       "        0.99827288, 0.99744671, 0.99719888, 0.99703704, 0.99703184,\n",
       "        0.99695021, 0.99605523, 0.99593496, 0.9955157 , 0.9952381 ,\n",
       "        0.99501296, 0.99479167, 0.99443632, 0.99439776, 0.99432811,\n",
       "        0.99427089, 0.99413257, 0.99384903, 0.99378249, 0.99324255,\n",
       "        0.992972  , 0.99291277, 0.99267064, 0.99258121, 0.9924659 ,\n",
       "        0.99231177, 0.99229713, 0.99199055, 0.99113699, 0.99111111,\n",
       "        0.99047988, 0.98979066, 0.98950899, 0.98934881, 0.9890137 ,\n",
       "        0.98890696, 0.988125  , 0.98722487, 0.98703693, 0.98686348,\n",
       "        0.98637528, 0.98616747, 0.98614035, 0.98590278, 0.98569375,\n",
       "        0.98532388, 0.98528377, 0.98444444, 0.98404353, 0.9831618 ,\n",
       "        0.98315983, 0.98309216, 0.98224155, 0.98202299, 0.98147774,\n",
       "        0.98143469, 0.98129264, 0.97923611, 0.97919372, 0.9791687 ,\n",
       "        0.97815237, 0.97780615, 0.9774127 , 0.97708872, 0.97546071,\n",
       "        0.97517211, 0.97455575, 0.97447032, 0.97385196, 0.97342157,\n",
       "        0.97314068, 0.97296826, 0.97292929, 0.97281521, 0.97235039,\n",
       "        0.97171991, 0.97171838, 0.9693154 , 0.96897713, 0.9689593 ,\n",
       "        0.96662877, 0.96636853, 0.96626263, 0.96286472, 0.96261905,\n",
       "        0.96051844, 0.96042205, 0.96018945, 0.95933358, 0.9587449 ,\n",
       "        0.95724417, 0.9558469 , 0.95509034, 0.95478255, 0.95324675,\n",
       "        0.95285201, 0.95279437, 0.95248287, 0.95165867, 0.95074351,\n",
       "        0.95033042, 0.94999989, 0.94961014, 0.94708995, 0.94694042,\n",
       "        0.94658009, 0.94648441, 0.9455711 , 0.94509449, 0.9445687 ,\n",
       "        0.94450412, 0.94380616, 0.94362137, 0.94360869, 0.94318558,\n",
       "        0.94144176, 0.93906236, 0.93876615, 0.93842824, 0.93681843,\n",
       "        0.93589226, 0.93441832, 0.93425926, 0.93375383, 0.93357763,\n",
       "        0.93148148, 0.93137652, 0.93079242, 0.93064788, 0.9293528 ,\n",
       "        0.9291832 , 0.92900024, 0.92423366, 0.92339104, 0.92243386,\n",
       "        0.92241715, 0.92236924, 0.92107564, 0.91935563, 0.91821862,\n",
       "        0.91791483, 0.91731079, 0.91710987, 0.91620972, 0.91564024,\n",
       "        0.91491613, 0.91455234, 0.91447811, 0.91424501, 0.9137037 ,\n",
       "        0.91318453, 0.91237137, 0.91222722, 0.9121961 , 0.91200223,\n",
       "        0.91174603, 0.91119805, 0.91107577, 0.91097463, 0.90925926,\n",
       "        0.90658773, 0.90650166, 0.90645503, 0.90477006, 0.90462963,\n",
       "        0.90460354, 0.90418354, 0.90175042, 0.90168922, 0.90127493,\n",
       "        0.90091791, 0.89251593, 0.89214957, 0.89206349, 0.89102564,\n",
       "        0.89085598, 0.89033189, 0.88730159, 0.88645224, 0.88604779,\n",
       "        0.88506034, 0.88396702, 0.88333333, 0.88241484, 0.8823654 ,\n",
       "        0.88220551, 0.88148148, 0.88079242, 0.87535613, 0.87518038,\n",
       "        0.87416776, 0.87053192, 0.87048539, 0.86955532, 0.86904762,\n",
       "        0.86821862, 0.86800334, 0.86507937, 0.86390218, 0.86316366,\n",
       "        0.86271234, 0.86120858, 0.86069094, 0.8593985 , 0.85856307,\n",
       "        0.85780423, 0.85196687, 0.85188546, 0.84643535, 0.8464153 ,\n",
       "        0.8462406 , 0.84074074, 0.83928571, 0.83492063, 0.83491581,\n",
       "        0.83174603, 0.83141762, 0.83015873, 0.82962963, 0.82798401,\n",
       "        0.82719298, 0.825     , 0.82420635, 0.82222222, 0.81944272,\n",
       "        0.81855213, 0.81480872, 0.80845355, 0.80196078, 0.79922027,\n",
       "        0.79835378, 0.79828042, 0.79644875, 0.79563492, 0.78333333,\n",
       "        0.78251634, 0.77973856, 0.76628352, 0.75513539, 0.74159291,\n",
       "        0.74084967, 0.73731321, 0.73664238, 0.73000016, 0.72940394,\n",
       "        0.72698413, 0.71402055, 0.7130719 , 0.69154177, 0.68333333,\n",
       "        0.6547619 , 0.63427258, 0.62418301, 0.49950993, 0.48571429,\n",
       "        0.4804689 , 0.1271315 ]))"
      ]
     },
     "execution_count": 776,
     "metadata": {},
     "output_type": "execute_result"
    },
    {
     "data": {
      "image/png": "[encoded data removed]",
      "text/plain": [
       "<Figure size 432x288 with 1 Axes>"
      ]
     },
     "metadata": {
      "needs_background": "light"
     },
     "output_type": "display_data"
    }
   ],
   "source": [
    "plot_roc(y_test, pred[:,1])"
   ]
  },
  {
   "cell_type": "code",
   "execution_count": null,
   "metadata": {},
   "outputs": [],
   "source": []
  },
  {
   "cell_type": "code",
   "execution_count": 777,
   "metadata": {},
   "outputs": [],
   "source": [
    "import seaborn as sns\n",
    "def plot_cm(labels, predictions, p=0.8):\n",
    "    cm = confusion_matrix(labels, predictions > p)\n",
    "    plt.figure(figsize=(5,5))\n",
    "    sns.heatmap(cm, annot=True, fmt=\"d\")\n",
    "    plt.title('Confusion matrix @{:.2f}'.format(p))\n",
    "    plt.ylabel('Actual label')\n",
    "    plt.xlabel('Predicted label')"
   ]
  },
  {
   "cell_type": "code",
   "execution_count": 780,
   "metadata": {},
   "outputs": [
    {
     "data": {
      "text/plain": [
       "array([[  38,   34],\n",
       "       [ 188, 1585]], dtype=int64)"
      ]
     },
     "execution_count": 780,
     "metadata": {},
     "output_type": "execute_result"
    }
   ],
   "source": [
    "confusion_matrix(y_test, pred[:, 1] > 0.9)"
   ]
  },
  {
   "cell_type": "code",
   "execution_count": 781,
   "metadata": {},
   "outputs": [
    {
     "data": {
      "image/png": "[encoded data removed]",
      "text/plain": [
       "<Figure size 360x360 with 2 Axes>"
      ]
     },
     "metadata": {
      "needs_background": "light"
     },
     "output_type": "display_data"
    }
   ],
   "source": [
    "plot_cm(y_test, pred[:, 1])"
   ]
  },
  {
   "cell_type": "code",
   "execution_count": null,
   "metadata": {},
   "outputs": [],
   "source": []
  },
  {
   "cell_type": "code",
   "execution_count": 756,
   "metadata": {},
   "outputs": [
    {
     "data": {
      "text/plain": [
       "1773"
      ]
     },
     "execution_count": 756,
     "metadata": {},
     "output_type": "execute_result"
    }
   ],
   "source": [
    "y_test.sum()"
   ]
  },
  {
   "cell_type": "code",
   "execution_count": 755,
   "metadata": {},
   "outputs": [
    {
     "ename": "NotFittedError",
     "evalue": "This RandomForestClassifier instance is not fitted yet. Call 'fit' with appropriate arguments before using this method.",
     "output_type": "error",
     "traceback": [
      "\u001b[1;31m---------------------------------------------------------------------------\u001b[0m",
      "\u001b[1;31mNotFittedError\u001b[0m                            Traceback (most recent call last)",
      "\u001b[1;32m<ipython-input-755-7b91c47aec11>\u001b[0m in \u001b[0;36m<module>\u001b[1;34m\u001b[0m\n\u001b[0;32m      1\u001b[0m \u001b[1;31m#feature importance\u001b[0m\u001b[1;33m\u001b[0m\u001b[1;33m\u001b[0m\u001b[1;33m\u001b[0m\u001b[0m\n\u001b[0;32m      2\u001b[0m fi = pd.DataFrame({'feature': list(column_name),\n\u001b[1;32m----> 3\u001b[1;33m                    'importance': clf.feature_importances_}).\\\n\u001b[0m\u001b[0;32m      4\u001b[0m                     \u001b[0msort_values\u001b[0m\u001b[1;33m(\u001b[0m\u001b[1;34m'importance'\u001b[0m\u001b[1;33m,\u001b[0m \u001b[0mascending\u001b[0m \u001b[1;33m=\u001b[0m \u001b[1;32mFalse\u001b[0m\u001b[1;33m)\u001b[0m\u001b[1;33m\u001b[0m\u001b[1;33m\u001b[0m\u001b[0m\n",
      "\u001b[1;32mC:\\Anaconda\\lib\\site-packages\\sklearn\\ensemble\\forest.py\u001b[0m in \u001b[0;36mfeature_importances_\u001b[1;34m(self)\u001b[0m\n\u001b[0;32m    371\u001b[0m             \u001b[0marray\u001b[0m \u001b[0mof\u001b[0m \u001b[0mzeros\u001b[0m\u001b[1;33m.\u001b[0m\u001b[1;33m\u001b[0m\u001b[1;33m\u001b[0m\u001b[0m\n\u001b[0;32m    372\u001b[0m         \"\"\"\n\u001b[1;32m--> 373\u001b[1;33m         \u001b[0mcheck_is_fitted\u001b[0m\u001b[1;33m(\u001b[0m\u001b[0mself\u001b[0m\u001b[1;33m,\u001b[0m \u001b[1;34m'estimators_'\u001b[0m\u001b[1;33m)\u001b[0m\u001b[1;33m\u001b[0m\u001b[1;33m\u001b[0m\u001b[0m\n\u001b[0m\u001b[0;32m    374\u001b[0m \u001b[1;33m\u001b[0m\u001b[0m\n\u001b[0;32m    375\u001b[0m         all_importances = Parallel(n_jobs=self.n_jobs,\n",
      "\u001b[1;32mC:\\Anaconda\\lib\\site-packages\\sklearn\\utils\\validation.py\u001b[0m in \u001b[0;36mcheck_is_fitted\u001b[1;34m(estimator, attributes, msg, all_or_any)\u001b[0m\n\u001b[0;32m    912\u001b[0m \u001b[1;33m\u001b[0m\u001b[0m\n\u001b[0;32m    913\u001b[0m     \u001b[1;32mif\u001b[0m \u001b[1;32mnot\u001b[0m \u001b[0mall_or_any\u001b[0m\u001b[1;33m(\u001b[0m\u001b[1;33m[\u001b[0m\u001b[0mhasattr\u001b[0m\u001b[1;33m(\u001b[0m\u001b[0mestimator\u001b[0m\u001b[1;33m,\u001b[0m \u001b[0mattr\u001b[0m\u001b[1;33m)\u001b[0m \u001b[1;32mfor\u001b[0m \u001b[0mattr\u001b[0m \u001b[1;32min\u001b[0m \u001b[0mattributes\u001b[0m\u001b[1;33m]\u001b[0m\u001b[1;33m)\u001b[0m\u001b[1;33m:\u001b[0m\u001b[1;33m\u001b[0m\u001b[1;33m\u001b[0m\u001b[0m\n\u001b[1;32m--> 914\u001b[1;33m         \u001b[1;32mraise\u001b[0m \u001b[0mNotFittedError\u001b[0m\u001b[1;33m(\u001b[0m\u001b[0mmsg\u001b[0m \u001b[1;33m%\u001b[0m \u001b[1;33m{\u001b[0m\u001b[1;34m'name'\u001b[0m\u001b[1;33m:\u001b[0m \u001b[0mtype\u001b[0m\u001b[1;33m(\u001b[0m\u001b[0mestimator\u001b[0m\u001b[1;33m)\u001b[0m\u001b[1;33m.\u001b[0m\u001b[0m__name__\u001b[0m\u001b[1;33m}\u001b[0m\u001b[1;33m)\u001b[0m\u001b[1;33m\u001b[0m\u001b[1;33m\u001b[0m\u001b[0m\n\u001b[0m\u001b[0;32m    915\u001b[0m \u001b[1;33m\u001b[0m\u001b[0m\n\u001b[0;32m    916\u001b[0m \u001b[1;33m\u001b[0m\u001b[0m\n",
      "\u001b[1;31mNotFittedError\u001b[0m: This RandomForestClassifier instance is not fitted yet. Call 'fit' with appropriate arguments before using this method."
     ]
    }
   ],
   "source": [
    "#feature importance\n",
    "fi = pd.DataFrame({'feature': list(column_name),\n",
    "                   'importance': clf.feature_importances_}).\\\n",
    "                    sort_values('importance', ascending = False)"
   ]
  },
  {
   "cell_type": "code",
   "execution_count": 539,
   "metadata": {},
   "outputs": [
    {
     "data": {
      "text/html": [
       "<div>\n",
       "<style scoped>\n",
       "    .dataframe tbody tr th:only-of-type {\n",
       "        vertical-align: middle;\n",
       "    }\n",
       "\n",
       "    .dataframe tbody tr th {\n",
       "        vertical-align: top;\n",
       "    }\n",
       "\n",
       "    .dataframe thead th {\n",
       "        text-align: right;\n",
       "    }\n",
       "</style>\n",
       "<table border=\"1\" class=\"dataframe\">\n",
       "  <thead>\n",
       "    <tr style=\"text-align: right;\">\n",
       "      <th></th>\n",
       "      <th>feature</th>\n",
       "      <th>importance</th>\n",
       "    </tr>\n",
       "  </thead>\n",
       "  <tbody>\n",
       "    <tr>\n",
       "      <td>7</td>\n",
       "      <td>CPI2019</td>\n",
       "      <td>0.089133</td>\n",
       "    </tr>\n",
       "    <tr>\n",
       "      <td>2</td>\n",
       "      <td>investment</td>\n",
       "      <td>0.058594</td>\n",
       "    </tr>\n",
       "    <tr>\n",
       "      <td>3</td>\n",
       "      <td>pcapacity</td>\n",
       "      <td>0.050515</td>\n",
       "    </tr>\n",
       "    <tr>\n",
       "      <td>6</td>\n",
       "      <td>population</td>\n",
       "      <td>0.050153</td>\n",
       "    </tr>\n",
       "    <tr>\n",
       "      <td>17</td>\n",
       "      <td>government_effectiveness</td>\n",
       "      <td>0.039719</td>\n",
       "    </tr>\n",
       "    <tr>\n",
       "      <td>11</td>\n",
       "      <td>life_expectnacy</td>\n",
       "      <td>0.037919</td>\n",
       "    </tr>\n",
       "    <tr>\n",
       "      <td>8</td>\n",
       "      <td>GDP_per_capita</td>\n",
       "      <td>0.036504</td>\n",
       "    </tr>\n",
       "    <tr>\n",
       "      <td>21</td>\n",
       "      <td>voice_and_accountability</td>\n",
       "      <td>0.036159</td>\n",
       "    </tr>\n",
       "    <tr>\n",
       "      <td>96</td>\n",
       "      <td>PRS_Purchase Agreements (private &amp; public)</td>\n",
       "      <td>0.032692</td>\n",
       "    </tr>\n",
       "    <tr>\n",
       "      <td>0</td>\n",
       "      <td>period</td>\n",
       "      <td>0.031650</td>\n",
       "    </tr>\n",
       "    <tr>\n",
       "      <td>95</td>\n",
       "      <td>PRS_Other</td>\n",
       "      <td>0.031007</td>\n",
       "    </tr>\n",
       "    <tr>\n",
       "      <td>10</td>\n",
       "      <td>GDP_deflator</td>\n",
       "      <td>0.030022</td>\n",
       "    </tr>\n",
       "    <tr>\n",
       "      <td>14</td>\n",
       "      <td>domestic_credit_to_private</td>\n",
       "      <td>0.029560</td>\n",
       "    </tr>\n",
       "    <tr>\n",
       "      <td>15</td>\n",
       "      <td>imports_as_GDP</td>\n",
       "      <td>0.028643</td>\n",
       "    </tr>\n",
       "    <tr>\n",
       "      <td>16</td>\n",
       "      <td>control_of_corruption</td>\n",
       "      <td>0.027381</td>\n",
       "    </tr>\n",
       "    <tr>\n",
       "      <td>13</td>\n",
       "      <td>electric_consumption</td>\n",
       "      <td>0.024645</td>\n",
       "    </tr>\n",
       "    <tr>\n",
       "      <td>18</td>\n",
       "      <td>political_stability</td>\n",
       "      <td>0.023513</td>\n",
       "    </tr>\n",
       "    <tr>\n",
       "      <td>9</td>\n",
       "      <td>tax_as_GDP</td>\n",
       "      <td>0.023359</td>\n",
       "    </tr>\n",
       "    <tr>\n",
       "      <td>99</td>\n",
       "      <td>Renewables_Conventional</td>\n",
       "      <td>0.023070</td>\n",
       "    </tr>\n",
       "    <tr>\n",
       "      <td>19</td>\n",
       "      <td>regulatory_quality</td>\n",
       "      <td>0.022891</td>\n",
       "    </tr>\n",
       "  </tbody>\n",
       "</table>\n",
       "</div>"
      ],
      "text/plain": [
       "                                       feature  importance\n",
       "7                                      CPI2019    0.089133\n",
       "2                                   investment    0.058594\n",
       "3                                    pcapacity    0.050515\n",
       "6                                   population    0.050153\n",
       "17                    government_effectiveness    0.039719\n",
       "11                             life_expectnacy    0.037919\n",
       "8                               GDP_per_capita    0.036504\n",
       "21                    voice_and_accountability    0.036159\n",
       "96  PRS_Purchase Agreements (private & public)    0.032692\n",
       "0                                       period    0.031650\n",
       "95                                   PRS_Other    0.031007\n",
       "10                                GDP_deflator    0.030022\n",
       "14                  domestic_credit_to_private    0.029560\n",
       "15                              imports_as_GDP    0.028643\n",
       "16                       control_of_corruption    0.027381\n",
       "13                        electric_consumption    0.024645\n",
       "18                         political_stability    0.023513\n",
       "9                                   tax_as_GDP    0.023359\n",
       "99                     Renewables_Conventional    0.023070\n",
       "19                          regulatory_quality    0.022891"
      ]
     },
     "execution_count": 539,
     "metadata": {},
     "output_type": "execute_result"
    }
   ],
   "source": [
    "fi.head(20)"
   ]
  },
  {
   "cell_type": "code",
   "execution_count": null,
   "metadata": {},
   "outputs": [],
   "source": []
  }
 ],
 "metadata": {
  "kernelspec": {
   "display_name": "Python 3",
   "language": "python",
   "name": "python3"
  },
  "language_info": {
   "codemirror_mode": {
    "name": "ipython",
    "version": 3
   },
   "file_extension": ".py",
   "mimetype": "text/x-python",
   "name": "python",
   "nbconvert_exporter": "python",
   "pygments_lexer": "ipython3",
   "version": "3.7.4"
  }
 },
 "nbformat": 4,
 "nbformat_minor": 2
}
