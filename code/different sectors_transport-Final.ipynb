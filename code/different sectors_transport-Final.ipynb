{
 "cells": [
  {
   "cell_type": "code",
   "execution_count": 2,
   "metadata": {},
   "outputs": [],
   "source": [
    "import pandas as pd\n",
    "import numpy as np\n",
    "import seaborn as sns\n",
    "\n",
    "from sklearn.preprocessing import LabelEncoder\n",
    "from sklearn.preprocessing import OrdinalEncoder\n",
    "from sklearn.preprocessing import StandardScaler\n",
    "from sklearn.preprocessing import RobustScaler\n",
    "from sklearn.utils import resample\n",
    "from sklearn.model_selection import train_test_split\n",
    "from sklearn.model_selection import RandomizedSearchCV\n",
    "from sklearn.model_selection import GridSearchCV\n",
    "from sklearn.model_selection import cross_validate, cross_val_predict\n",
    "from sklearn.ensemble import RandomForestClassifier\n",
    "from sklearn.compose import ColumnTransformer\n",
    "from sklearn.decomposition import PCA\n",
    "\n",
    "from sklearn.metrics import auc\n",
    "from sklearn.metrics import f1_score\n",
    "\n",
    "from sklearn.dummy import DummyClassifier\n",
    "from sklearn.metrics import roc_curve\n",
    "from sklearn.metrics import roc_auc_score\n",
    "from sklearn.metrics import precision_recall_curve\n",
    "from sklearn.metrics import auc\n",
    "from sklearn.linear_model import LogisticRegression\n",
    "from sklearn.model_selection import RepeatedStratifiedKFold\n",
    "from sklearn.metrics import make_scorer\n",
    "from sklearn.metrics import fbeta_score\n",
    "\n",
    "from sklearn.metrics import confusion_matrix, roc_curve, f1_score\n",
    "from sklearn.calibration import CalibratedClassifierCV\n",
    "from sklearn import metrics\n",
    "import matplotlib.pyplot as plt\n",
    "from collections import defaultdict\n",
    "import collections\n",
    "\n",
    "from imblearn.pipeline import Pipeline\n",
    "\n",
    "from imblearn.over_sampling import SMOTE, ADASYN\n",
    "from imblearn.under_sampling import RandomUnderSampler\n",
    "from sklearn import svm\n",
    "import lightgbm as lgb\n",
    "import xgboost as xgb\n",
    "import re\n",
    "import warnings\n",
    "import scikitplot as skplt\n",
    "warnings.filterwarnings(\"ignore\")"
   ]
  },
  {
   "cell_type": "code",
   "execution_count": 3,
   "metadata": {},
   "outputs": [],
   "source": [
    "PPP_data = pd.read_csv(r\"C:\\PPP\\Thesis\\Paper3\\Database\\PPP_Projects_Total.csv\")"
   ]
  },
  {
   "cell_type": "code",
   "execution_count": 4,
   "metadata": {},
   "outputs": [],
   "source": [
    "PPP_Energy = PPP_data[PPP_data.sector == \"Energy\"]\n",
    "PPP_ICT = PPP_data[PPP_data.sector == \"ICT\"]\n",
    "PPP_Transport = PPP_data[PPP_data.sector == \"Transport\"]\n",
    "PPP_Water = PPP_data[PPP_data.sector == \"Water and sewerage\"]"
   ]
  },
  {
   "cell_type": "code",
   "execution_count": 5,
   "metadata": {},
   "outputs": [
    {
     "name": "stdout",
     "output_type": "stream",
     "text": [
      "shape of energy sector:  (3599, 44)\n",
      "shape of ICT sector:  (134, 44)\n",
      "shape of transport sector:  (1893, 44)\n",
      "shape of water sector:  (1052, 44)\n"
     ]
    }
   ],
   "source": [
    "print(\"shape of energy sector: \", PPP_Energy.shape)\n",
    "print(\"shape of ICT sector: \", PPP_ICT.shape)\n",
    "print(\"shape of transport sector: \", PPP_Transport.shape)\n",
    "print(\"shape of water sector: \", PPP_Water.shape)"
   ]
  },
  {
   "cell_type": "code",
   "execution_count": 6,
   "metadata": {},
   "outputs": [
    {
     "data": {
      "text/plain": [
       "Active        936\n",
       "Concluded      55\n",
       "Cancelled      49\n",
       "Distressed     12\n",
       "Name: status_n, dtype: int64"
      ]
     },
     "execution_count": 6,
     "metadata": {},
     "output_type": "execute_result"
    }
   ],
   "source": [
    "PPP_Water.status_n.value_counts()"
   ]
  },
  {
   "cell_type": "code",
   "execution_count": 7,
   "metadata": {},
   "outputs": [],
   "source": [
    "#1.PPI database\n",
    "PPP_data = PPP_Transport\n",
    "#add experience\n",
    "country_experience = PPP_data.groupby(['countrycode', 'IY']).size().reset_index().sort_values(['countrycode', 'IY'])\n",
    "country_experience.columns = ['countrycode', 'IY', 'experience']\n",
    "unique_country = country_experience.countrycode.unique()\n",
    "years = np.arange(1990, 2020)\n",
    "\n",
    "for country in unique_country:\n",
    "    for year in years:\n",
    "        if year not in country_experience.loc[country_experience.countrycode==country, 'IY'].values:\n",
    "            country_experience = country_experience.append({'countrycode': country, 'IY': year, 'experience': 0}, ignore_index=True)\n",
    "\n",
    "country_experience = country_experience.sort_values(by=['countrycode', 'IY']).set_index(np.arange(country_experience.shape[0]))\n",
    "country_experience['cum_experience'] = country_experience.groupby('countrycode')['experience'].cumsum()\n",
    "country_experience.drop(columns=['experience'], inplace=True)\n",
    "\n",
    "country_experience['shifted_country_experience_1'] = country_experience.groupby('countrycode')['cum_experience'].shift(1).fillna(method='bfill')\n",
    "country_experience.drop(columns=['cum_experience'], inplace=True)"
   ]
  },
  {
   "cell_type": "code",
   "execution_count": 9,
   "metadata": {},
   "outputs": [
    {
     "data": {
      "text/html": [
       "<div>\n",
       "<style scoped>\n",
       "    .dataframe tbody tr th:only-of-type {\n",
       "        vertical-align: middle;\n",
       "    }\n",
       "\n",
       "    .dataframe tbody tr th {\n",
       "        vertical-align: top;\n",
       "    }\n",
       "\n",
       "    .dataframe thead th {\n",
       "        text-align: right;\n",
       "    }\n",
       "</style>\n",
       "<table border=\"1\" class=\"dataframe\">\n",
       "  <thead>\n",
       "    <tr style=\"text-align: right;\">\n",
       "      <th></th>\n",
       "      <th>countrycode</th>\n",
       "      <th>IY</th>\n",
       "      <th>shifted_country_experience_1</th>\n",
       "    </tr>\n",
       "  </thead>\n",
       "  <tbody>\n",
       "    <tr>\n",
       "      <td>0</td>\n",
       "      <td>AGO</td>\n",
       "      <td>1990</td>\n",
       "      <td>0.0</td>\n",
       "    </tr>\n",
       "    <tr>\n",
       "      <td>1</td>\n",
       "      <td>AGO</td>\n",
       "      <td>1991</td>\n",
       "      <td>0.0</td>\n",
       "    </tr>\n",
       "    <tr>\n",
       "      <td>2</td>\n",
       "      <td>AGO</td>\n",
       "      <td>1992</td>\n",
       "      <td>0.0</td>\n",
       "    </tr>\n",
       "    <tr>\n",
       "      <td>3</td>\n",
       "      <td>AGO</td>\n",
       "      <td>1993</td>\n",
       "      <td>0.0</td>\n",
       "    </tr>\n",
       "    <tr>\n",
       "      <td>4</td>\n",
       "      <td>AGO</td>\n",
       "      <td>1994</td>\n",
       "      <td>0.0</td>\n",
       "    </tr>\n",
       "    <tr>\n",
       "      <td>...</td>\n",
       "      <td>...</td>\n",
       "      <td>...</td>\n",
       "      <td>...</td>\n",
       "    </tr>\n",
       "    <tr>\n",
       "      <td>2545</td>\n",
       "      <td>ZWE</td>\n",
       "      <td>2015</td>\n",
       "      <td>2.0</td>\n",
       "    </tr>\n",
       "    <tr>\n",
       "      <td>2546</td>\n",
       "      <td>ZWE</td>\n",
       "      <td>2016</td>\n",
       "      <td>2.0</td>\n",
       "    </tr>\n",
       "    <tr>\n",
       "      <td>2547</td>\n",
       "      <td>ZWE</td>\n",
       "      <td>2017</td>\n",
       "      <td>2.0</td>\n",
       "    </tr>\n",
       "    <tr>\n",
       "      <td>2548</td>\n",
       "      <td>ZWE</td>\n",
       "      <td>2018</td>\n",
       "      <td>2.0</td>\n",
       "    </tr>\n",
       "    <tr>\n",
       "      <td>2549</td>\n",
       "      <td>ZWE</td>\n",
       "      <td>2019</td>\n",
       "      <td>2.0</td>\n",
       "    </tr>\n",
       "  </tbody>\n",
       "</table>\n",
       "<p>2550 rows × 3 columns</p>\n",
       "</div>"
      ],
      "text/plain": [
       "     countrycode    IY  shifted_country_experience_1\n",
       "0            AGO  1990                           0.0\n",
       "1            AGO  1991                           0.0\n",
       "2            AGO  1992                           0.0\n",
       "3            AGO  1993                           0.0\n",
       "4            AGO  1994                           0.0\n",
       "...          ...   ...                           ...\n",
       "2545         ZWE  2015                           2.0\n",
       "2546         ZWE  2016                           2.0\n",
       "2547         ZWE  2017                           2.0\n",
       "2548         ZWE  2018                           2.0\n",
       "2549         ZWE  2019                           2.0\n",
       "\n",
       "[2550 rows x 3 columns]"
      ]
     },
     "execution_count": 9,
     "metadata": {},
     "output_type": "execute_result"
    }
   ],
   "source": [
    "country_experience"
   ]
  },
  {
   "cell_type": "code",
   "execution_count": 8,
   "metadata": {},
   "outputs": [],
   "source": [
    "country_sector_experience = PPP_data.groupby(['countrycode', 'IY', 'ssector']).size().reset_index().sort_values(['countrycode', 'IY'])\n",
    "country_sector_experience.columns = ['countrycode', 'IY', 'ssector', 'ssector_experience']\n",
    "unique_sector_country = country_sector_experience.countrycode.unique()\n",
    "unique_sector = country_sector_experience.ssector.unique()\n",
    "years = np.arange(1990, 2020)\n",
    "\n",
    "for country in unique_sector_country:\n",
    "    for year in years:\n",
    "        if year not in country_sector_experience.loc[country_sector_experience.countrycode==country, 'IY'].values:\n",
    "            for sectors in unique_sector:\n",
    "                country_sector_experience = country_sector_experience.append({'countrycode': country, \n",
    "                                                                              'IY': year, \n",
    "                                                                              'ssector': sectors, \n",
    "                                                                              'ssector_experience': 0}, ignore_index=True)\n",
    "        else:\n",
    "            for sectors in unique_sector:\n",
    "                if sectors not in country_sector_experience.loc[(country_sector_experience.countrycode==country) & (country_sector_experience.IY==year),\n",
    "                                                                'ssector'].values:\n",
    "                    country_sector_experience = country_sector_experience.append({'countrycode': country, \n",
    "                                                                                  'IY': year, \n",
    "                                                                                  'ssector': sectors, \n",
    "                                                                                  'ssector_experience': 0}, ignore_index=True)\n",
    "\n",
    "country_sector_experience = country_sector_experience.sort_values(by=['countrycode', 'IY']).set_index(np.arange(country_sector_experience.shape[0]))\n",
    "country_sector_experience['cum_ssector_experience'] = country_sector_experience.groupby(['countrycode', 'ssector'])['ssector_experience'].cumsum()\n",
    "country_sector_experience.drop(columns=['ssector_experience'], inplace=True)\n",
    "\n",
    "country_sector_experience['shifted_ssector_experience_1'] = country_sector_experience.groupby(['countrycode', 'ssector'])['cum_ssector_experience'].shift(1).fillna(method='bfill')\n",
    "country_sector_experience.drop(columns=['cum_ssector_experience'], inplace=True)"
   ]
  },
  {
   "cell_type": "code",
   "execution_count": 10,
   "metadata": {},
   "outputs": [
    {
     "data": {
      "text/html": [
       "<div>\n",
       "<style scoped>\n",
       "    .dataframe tbody tr th:only-of-type {\n",
       "        vertical-align: middle;\n",
       "    }\n",
       "\n",
       "    .dataframe tbody tr th {\n",
       "        vertical-align: top;\n",
       "    }\n",
       "\n",
       "    .dataframe thead th {\n",
       "        text-align: right;\n",
       "    }\n",
       "</style>\n",
       "<table border=\"1\" class=\"dataframe\">\n",
       "  <thead>\n",
       "    <tr style=\"text-align: right;\">\n",
       "      <th></th>\n",
       "      <th>countrycode</th>\n",
       "      <th>IY</th>\n",
       "      <th>ssector</th>\n",
       "      <th>shifted_ssector_experience_1</th>\n",
       "    </tr>\n",
       "  </thead>\n",
       "  <tbody>\n",
       "    <tr>\n",
       "      <td>0</td>\n",
       "      <td>AGO</td>\n",
       "      <td>1990</td>\n",
       "      <td>Seaports</td>\n",
       "      <td>0.0</td>\n",
       "    </tr>\n",
       "    <tr>\n",
       "      <td>1</td>\n",
       "      <td>AGO</td>\n",
       "      <td>1990</td>\n",
       "      <td>Airports</td>\n",
       "      <td>0.0</td>\n",
       "    </tr>\n",
       "    <tr>\n",
       "      <td>2</td>\n",
       "      <td>AGO</td>\n",
       "      <td>1990</td>\n",
       "      <td>Toll Roads</td>\n",
       "      <td>0.0</td>\n",
       "    </tr>\n",
       "    <tr>\n",
       "      <td>3</td>\n",
       "      <td>AGO</td>\n",
       "      <td>1990</td>\n",
       "      <td>Railroads</td>\n",
       "      <td>0.0</td>\n",
       "    </tr>\n",
       "    <tr>\n",
       "      <td>4</td>\n",
       "      <td>AGO</td>\n",
       "      <td>1991</td>\n",
       "      <td>Seaports</td>\n",
       "      <td>0.0</td>\n",
       "    </tr>\n",
       "    <tr>\n",
       "      <td>...</td>\n",
       "      <td>...</td>\n",
       "      <td>...</td>\n",
       "      <td>...</td>\n",
       "      <td>...</td>\n",
       "    </tr>\n",
       "    <tr>\n",
       "      <td>10195</td>\n",
       "      <td>ZWE</td>\n",
       "      <td>2018</td>\n",
       "      <td>Railroads</td>\n",
       "      <td>1.0</td>\n",
       "    </tr>\n",
       "    <tr>\n",
       "      <td>10196</td>\n",
       "      <td>ZWE</td>\n",
       "      <td>2019</td>\n",
       "      <td>Seaports</td>\n",
       "      <td>0.0</td>\n",
       "    </tr>\n",
       "    <tr>\n",
       "      <td>10197</td>\n",
       "      <td>ZWE</td>\n",
       "      <td>2019</td>\n",
       "      <td>Airports</td>\n",
       "      <td>0.0</td>\n",
       "    </tr>\n",
       "    <tr>\n",
       "      <td>10198</td>\n",
       "      <td>ZWE</td>\n",
       "      <td>2019</td>\n",
       "      <td>Toll Roads</td>\n",
       "      <td>1.0</td>\n",
       "    </tr>\n",
       "    <tr>\n",
       "      <td>10199</td>\n",
       "      <td>ZWE</td>\n",
       "      <td>2019</td>\n",
       "      <td>Railroads</td>\n",
       "      <td>1.0</td>\n",
       "    </tr>\n",
       "  </tbody>\n",
       "</table>\n",
       "<p>10200 rows × 4 columns</p>\n",
       "</div>"
      ],
      "text/plain": [
       "      countrycode    IY     ssector  shifted_ssector_experience_1\n",
       "0             AGO  1990    Seaports                           0.0\n",
       "1             AGO  1990    Airports                           0.0\n",
       "2             AGO  1990  Toll Roads                           0.0\n",
       "3             AGO  1990   Railroads                           0.0\n",
       "4             AGO  1991    Seaports                           0.0\n",
       "...           ...   ...         ...                           ...\n",
       "10195         ZWE  2018   Railroads                           1.0\n",
       "10196         ZWE  2019    Seaports                           0.0\n",
       "10197         ZWE  2019    Airports                           0.0\n",
       "10198         ZWE  2019  Toll Roads                           1.0\n",
       "10199         ZWE  2019   Railroads                           1.0\n",
       "\n",
       "[10200 rows x 4 columns]"
      ]
     },
     "execution_count": 10,
     "metadata": {},
     "output_type": "execute_result"
    }
   ],
   "source": [
    "country_sector_experience"
   ]
  },
  {
   "cell_type": "code",
   "execution_count": 11,
   "metadata": {},
   "outputs": [],
   "source": [
    "PPP_data = PPP_data.merge(country_experience,\n",
    "                          left_on=['countrycode', 'IY'],\n",
    "                          right_on=['countrycode', 'IY'],\n",
    "                          how='left')"
   ]
  },
  {
   "cell_type": "code",
   "execution_count": 12,
   "metadata": {},
   "outputs": [
    {
     "data": {
      "text/plain": [
       "(1893, 45)"
      ]
     },
     "execution_count": 12,
     "metadata": {},
     "output_type": "execute_result"
    }
   ],
   "source": [
    "PPP_data.shape"
   ]
  },
  {
   "cell_type": "code",
   "execution_count": 13,
   "metadata": {},
   "outputs": [],
   "source": [
    "PPP_data = PPP_data.merge(country_sector_experience,\n",
    "                          left_on=['countrycode', 'IY', 'ssector'],\n",
    "                          right_on=['countrycode', 'IY', 'ssector'],\n",
    "                          how='left')"
   ]
  },
  {
   "cell_type": "code",
   "execution_count": 14,
   "metadata": {},
   "outputs": [
    {
     "data": {
      "text/plain": [
       "(1893, 46)"
      ]
     },
     "execution_count": 14,
     "metadata": {},
     "output_type": "execute_result"
    }
   ],
   "source": [
    "PPP_data.shape"
   ]
  },
  {
   "cell_type": "code",
   "execution_count": 15,
   "metadata": {},
   "outputs": [],
   "source": [
    "PPP_data.loc[:, 'PCO'] = PPP_data['PCO'].str.replace('\\n', '') \n",
    "PPP_data.loc[~PPP_data.PCO.isnull() & (PPP_data.PCO != ''), \n",
    "             'sponsor_number'] = PPP_data[~PPP_data.PCO.isnull() & (PPP_data.PCO != '')].PCO.str.split('/').map(lambda x: x[2])\n",
    "PPP_data.sponsor_number = PPP_data.sponsor_number.replace('', np.nan)\n",
    "\n",
    "PPP_data.loc[~PPP_data.PCO.isnull() & (PPP_data.PCO != ''), \n",
    "             'foreign_country'] = PPP_data[~PPP_data.PCO.isnull() & (PPP_data.PCO != '')].PCO.str.split('/').map(lambda x: x[1])\n",
    "\n",
    "PPP_data.foreign_country = PPP_data.foreign_country.replace('N', 'No')\n",
    "PPP_data.loc[(PPP_data.foreign_country!='No') & (~PPP_data.foreign_country.isnull()), 'foreign_country'] = 'Yes'"
   ]
  },
  {
   "cell_type": "code",
   "execution_count": 16,
   "metadata": {},
   "outputs": [
    {
     "data": {
      "text/plain": [
       "(1893, 48)"
      ]
     },
     "execution_count": 16,
     "metadata": {},
     "output_type": "execute_result"
    }
   ],
   "source": [
    "PPP_data.shape"
   ]
  },
  {
   "cell_type": "code",
   "execution_count": 17,
   "metadata": {},
   "outputs": [],
   "source": [
    "#2.GDP per capita\n",
    "GDP_per_capita = pd.read_csv(r\"C:\\PPP\\Thesis\\Paper3\\Database\\GDP per Capita.csv\")\n",
    "#3.Tax as GDP\n",
    "tax_as_GDP = pd.read_csv(r\"C:\\PPP\\Thesis\\Paper3\\Database\\Tax as GDP.csv\")\n",
    "#4.GDP deflator(inflation rate)\n",
    "GDP_deflator = pd.read_csv(r\"C:\\PPP\\Thesis\\Paper3\\Database\\GDP deflator.csv\")\n",
    "#5.life expectnacy\n",
    "life_expectnacy = pd.read_csv(r\"C:\\PPP\\Thesis\\Paper3\\Database\\Life expectnacy.csv\")\n",
    "#6.real effective change\n",
    "real_effective_change = pd.read_csv(r\"C:\\PPP\\Thesis\\Paper3\\Database\\Real effect change.csv\")\n",
    "#7.electric consumption\n",
    "electric_consumption = pd.read_csv(r\"C:\\PPP\\Thesis\\Paper3\\Database\\Electric consumption.csv\")\n",
    "#8.domestic credit to private\n",
    "domestic_credit_to_private = pd.read_csv(r\"C:\\PPP\\Thesis\\Paper3\\Database\\Domestic credit to private.csv\")\n",
    "#9.Import as GDP\n",
    "imports_as_GDP = pd.read_csv(r\"C:\\PPP\\Thesis\\Paper3\\Database\\Imports as GDP.csv\")\n",
    "#10.Export as GDP\n",
    "exports_as_GDP = pd.read_csv(r\"C:\\PPP\\Thesis\\Paper3\\Database\\Exports as GDP.csv\")\n",
    "#11.Control of corruption\n",
    "control_of_corruption = pd.read_csv(r\"C:\\PPP\\Thesis\\Paper3\\Database\\Control of corruption.csv\", encoding='cp1252')\n",
    "#12.Government of effectiveness\n",
    "government_effectiveness = pd.read_csv(r\"C:\\PPP\\Thesis\\Paper3\\Database\\Government effectiveness.csv\", encoding='cp1252')\n",
    "#13.Political stability\n",
    "political_stability = pd.read_csv(r\"C:\\PPP\\Thesis\\Paper3\\Database\\Political Stability and Absence of Violence.csv\", encoding='cp1252')\n",
    "#14.regulatory quality\n",
    "regulatory_quality = pd.read_csv(r\"C:\\PPP\\Thesis\\Paper3\\Database\\Regulatory quality.csv\", encoding='cp1252')\n",
    "#15.Rule of law\n",
    "rule_of_law = pd.read_csv(r\"C:\\PPP\\Thesis\\Paper3\\Database\\Rule of law.csv\", encoding='cp1252')\n",
    "#16.voice and accountability\n",
    "voice_and_accountability = pd.read_csv(r\"C:\\PPP\\Thesis\\Paper3\\Database\\Voice and accountability.csv\", encoding='cp1252')\n",
    "\n",
    "dataset = [GDP_per_capita, \n",
    "           tax_as_GDP, \n",
    "           GDP_deflator, \n",
    "           life_expectnacy, \n",
    "           real_effective_change,\n",
    "           electric_consumption,\n",
    "           domestic_credit_to_private, \n",
    "           imports_as_GDP, \n",
    "           exports_as_GDP, \n",
    "           control_of_corruption,\n",
    "           government_effectiveness, \n",
    "           political_stability, \n",
    "           regulatory_quality, \n",
    "           rule_of_law, \n",
    "           voice_and_accountability]\n",
    "\n",
    "dataset_name = ['GDP_per_capita', \n",
    "                'tax_as_GDP', \n",
    "                'GDP_deflator', \n",
    "                'life_expectnacy', \n",
    "                'real_effective_change',\n",
    "                'electric_consumption', \n",
    "                'domestic_credit_to_private', \n",
    "                'imports_as_GDP', \n",
    "                'exports_as_GDP', \n",
    "                'control_of_corruption',\n",
    "                'government_effectiveness',\n",
    "                'political_stability', \n",
    "                'regulatory_quality', \n",
    "                'rule_of_law', \n",
    "                'voice_and_accountability']\n",
    "\n",
    "def process_data(original_data):\n",
    "    new_data = original_data.copy()\n",
    "    new_data.replace('..', np.nan, inplace=True)\n",
    "    new_data.drop(columns=['Series Name', 'Series Code', 'Country Name'], inplace=True)\n",
    "    new_data.set_index('Country Code', inplace=True)\n",
    "    new_data.dropna(how='all', inplace=True)\n",
    "    new_data.columns = [name.split(' ')[0] for name in list(new_data.columns)]\n",
    "    new_data = new_data.fillna(axis=1, method='bfill')\n",
    "    new_data = new_data.fillna(axis=1, method='ffill')\n",
    "    return new_data\n",
    "\n",
    "for i in np.arange(len(dataset)):\n",
    "    dataset[i] = process_data(dataset[i])\n",
    "\n",
    "def meltdata(raw_data, column_name):\n",
    "    new_data = pd.melt(raw_data.reset_index(), \n",
    "                       id_vars=['Country Code'], \n",
    "                       var_name=['Year'],\n",
    "                       value_vars=raw_data.columns,\n",
    "                       value_name=column_name)   \n",
    "    new_data.Year = new_data.Year.astype('int64', copy=False)\n",
    "    return new_data\n",
    "\n",
    "for i,name in zip(np.arange(len(dataset)), dataset_name):\n",
    "    dataset[i] = meltdata(dataset[i], name).copy()\n",
    "    dataset[i].rename(columns={'Country Code': 'countrycode', \n",
    "                               'Year': 'IY'}, \n",
    "                      inplace=True)\n",
    "    dataset[i][name] = dataset[i].groupby('countrycode')[name].shift(1).fillna(method='bfill')\n",
    "\n",
    "for data in dataset:\n",
    "    PPP_data= PPP_data.merge(data, \n",
    "                             left_on=['countrycode', 'IY'], \n",
    "                             right_on=['countrycode', 'IY'], \n",
    "                             how='left')"
   ]
  },
  {
   "cell_type": "code",
   "execution_count": 18,
   "metadata": {},
   "outputs": [
    {
     "data": {
      "text/plain": [
       "(1893, 63)"
      ]
     },
     "execution_count": 18,
     "metadata": {},
     "output_type": "execute_result"
    }
   ],
   "source": [
    "PPP_data.shape"
   ]
  },
  {
   "cell_type": "code",
   "execution_count": 19,
   "metadata": {},
   "outputs": [
    {
     "data": {
      "text/html": [
       "<div>\n",
       "<style scoped>\n",
       "    .dataframe tbody tr th:only-of-type {\n",
       "        vertical-align: middle;\n",
       "    }\n",
       "\n",
       "    .dataframe tbody tr th {\n",
       "        vertical-align: top;\n",
       "    }\n",
       "\n",
       "    .dataframe thead th {\n",
       "        text-align: right;\n",
       "    }\n",
       "</style>\n",
       "<table border=\"1\" class=\"dataframe\">\n",
       "  <thead>\n",
       "    <tr style=\"text-align: right;\">\n",
       "      <th></th>\n",
       "      <th>IY</th>\n",
       "      <th>country</th>\n",
       "      <th>Region</th>\n",
       "      <th>income</th>\n",
       "      <th>IDA</th>\n",
       "      <th>FCY</th>\n",
       "      <th>type</th>\n",
       "      <th>stype</th>\n",
       "      <th>status_n</th>\n",
       "      <th>sector</th>\n",
       "      <th>...</th>\n",
       "      <th>electric_consumption</th>\n",
       "      <th>domestic_credit_to_private</th>\n",
       "      <th>imports_as_GDP</th>\n",
       "      <th>exports_as_GDP</th>\n",
       "      <th>control_of_corruption</th>\n",
       "      <th>government_effectiveness</th>\n",
       "      <th>political_stability</th>\n",
       "      <th>regulatory_quality</th>\n",
       "      <th>rule_of_law</th>\n",
       "      <th>voice_and_accountability</th>\n",
       "    </tr>\n",
       "  </thead>\n",
       "  <tbody>\n",
       "    <tr>\n",
       "      <td>0</td>\n",
       "      <td>1990</td>\n",
       "      <td>Argentina</td>\n",
       "      <td>LAC</td>\n",
       "      <td>Upper middle income</td>\n",
       "      <td>Non-IDA</td>\n",
       "      <td>1/9/1990</td>\n",
       "      <td>Brownfield</td>\n",
       "      <td>Rehabilitate, operate, and transfer</td>\n",
       "      <td>Active</td>\n",
       "      <td>Transport</td>\n",
       "      <td>...</td>\n",
       "      <td>1320.35657186199</td>\n",
       "      <td>39.7174950191489</td>\n",
       "      <td>6.57938879331971</td>\n",
       "      <td>13.0584089085641</td>\n",
       "      <td>-1.291705</td>\n",
       "      <td>-2.175167</td>\n",
       "      <td>-2.414042</td>\n",
       "      <td>-2.09033</td>\n",
       "      <td>-1.788075</td>\n",
       "      <td>-1.90854</td>\n",
       "    </tr>\n",
       "    <tr>\n",
       "      <td>1</td>\n",
       "      <td>1990</td>\n",
       "      <td>Mexico</td>\n",
       "      <td>LAC</td>\n",
       "      <td>Upper middle income</td>\n",
       "      <td>Non-IDA</td>\n",
       "      <td>1/11/1990</td>\n",
       "      <td>Greenfield project</td>\n",
       "      <td>Build, operate, and transfer</td>\n",
       "      <td>Active</td>\n",
       "      <td>Transport</td>\n",
       "      <td>...</td>\n",
       "      <td>1232.47927061236</td>\n",
       "      <td>21.2478867299859</td>\n",
       "      <td>19.1974507744512</td>\n",
       "      <td>19.1321993029959</td>\n",
       "      <td>-1.291705</td>\n",
       "      <td>-2.175167</td>\n",
       "      <td>-2.414042</td>\n",
       "      <td>-2.09033</td>\n",
       "      <td>-1.788075</td>\n",
       "      <td>-1.90854</td>\n",
       "    </tr>\n",
       "    <tr>\n",
       "      <td>2</td>\n",
       "      <td>1990</td>\n",
       "      <td>Thailand</td>\n",
       "      <td>EAP</td>\n",
       "      <td>Upper middle income</td>\n",
       "      <td>Non-IDA</td>\n",
       "      <td>1/12/1990</td>\n",
       "      <td>Management and lease contract</td>\n",
       "      <td>Lease contract</td>\n",
       "      <td>Active</td>\n",
       "      <td>Transport</td>\n",
       "      <td>...</td>\n",
       "      <td>614.948290786396</td>\n",
       "      <td>106.362551068585</td>\n",
       "      <td>37.4854054733393</td>\n",
       "      <td>34.9215280475186</td>\n",
       "      <td>-1.291705</td>\n",
       "      <td>-2.175167</td>\n",
       "      <td>-2.414042</td>\n",
       "      <td>-2.09033</td>\n",
       "      <td>-1.788075</td>\n",
       "      <td>-1.90854</td>\n",
       "    </tr>\n",
       "    <tr>\n",
       "      <td>3</td>\n",
       "      <td>1990</td>\n",
       "      <td>Mexico</td>\n",
       "      <td>LAC</td>\n",
       "      <td>Upper middle income</td>\n",
       "      <td>Non-IDA</td>\n",
       "      <td>1/12/1990</td>\n",
       "      <td>Greenfield project</td>\n",
       "      <td>Build, operate, and transfer</td>\n",
       "      <td>Active</td>\n",
       "      <td>Transport</td>\n",
       "      <td>...</td>\n",
       "      <td>1232.47927061236</td>\n",
       "      <td>21.2478867299859</td>\n",
       "      <td>19.1974507744512</td>\n",
       "      <td>19.1321993029959</td>\n",
       "      <td>-1.291705</td>\n",
       "      <td>-2.175167</td>\n",
       "      <td>-2.414042</td>\n",
       "      <td>-2.09033</td>\n",
       "      <td>-1.788075</td>\n",
       "      <td>-1.90854</td>\n",
       "    </tr>\n",
       "    <tr>\n",
       "      <td>4</td>\n",
       "      <td>1990</td>\n",
       "      <td>Mexico</td>\n",
       "      <td>LAC</td>\n",
       "      <td>Upper middle income</td>\n",
       "      <td>Non-IDA</td>\n",
       "      <td>1/3/1990</td>\n",
       "      <td>Greenfield project</td>\n",
       "      <td>Build, operate, and transfer</td>\n",
       "      <td>Active</td>\n",
       "      <td>Transport</td>\n",
       "      <td>...</td>\n",
       "      <td>1232.47927061236</td>\n",
       "      <td>21.2478867299859</td>\n",
       "      <td>19.1974507744512</td>\n",
       "      <td>19.1321993029959</td>\n",
       "      <td>-1.291705</td>\n",
       "      <td>-2.175167</td>\n",
       "      <td>-2.414042</td>\n",
       "      <td>-2.09033</td>\n",
       "      <td>-1.788075</td>\n",
       "      <td>-1.90854</td>\n",
       "    </tr>\n",
       "  </tbody>\n",
       "</table>\n",
       "<p>5 rows × 63 columns</p>\n",
       "</div>"
      ],
      "text/plain": [
       "     IY    country Region               income      IDA        FCY  \\\n",
       "0  1990  Argentina    LAC  Upper middle income  Non-IDA   1/9/1990   \n",
       "1  1990     Mexico    LAC  Upper middle income  Non-IDA  1/11/1990   \n",
       "2  1990   Thailand    EAP  Upper middle income  Non-IDA  1/12/1990   \n",
       "3  1990     Mexico    LAC  Upper middle income  Non-IDA  1/12/1990   \n",
       "4  1990     Mexico    LAC  Upper middle income  Non-IDA   1/3/1990   \n",
       "\n",
       "                            type                                stype  \\\n",
       "0                     Brownfield  Rehabilitate, operate, and transfer   \n",
       "1             Greenfield project         Build, operate, and transfer   \n",
       "2  Management and lease contract                       Lease contract   \n",
       "3             Greenfield project         Build, operate, and transfer   \n",
       "4             Greenfield project         Build, operate, and transfer   \n",
       "\n",
       "  status_n     sector  ... electric_consumption domestic_credit_to_private  \\\n",
       "0   Active  Transport  ...     1320.35657186199           39.7174950191489   \n",
       "1   Active  Transport  ...     1232.47927061236           21.2478867299859   \n",
       "2   Active  Transport  ...     614.948290786396           106.362551068585   \n",
       "3   Active  Transport  ...     1232.47927061236           21.2478867299859   \n",
       "4   Active  Transport  ...     1232.47927061236           21.2478867299859   \n",
       "\n",
       "     imports_as_GDP    exports_as_GDP control_of_corruption  \\\n",
       "0  6.57938879331971  13.0584089085641             -1.291705   \n",
       "1  19.1974507744512  19.1321993029959             -1.291705   \n",
       "2  37.4854054733393  34.9215280475186             -1.291705   \n",
       "3  19.1974507744512  19.1321993029959             -1.291705   \n",
       "4  19.1974507744512  19.1321993029959             -1.291705   \n",
       "\n",
       "   government_effectiveness  political_stability  regulatory_quality  \\\n",
       "0                 -2.175167            -2.414042            -2.09033   \n",
       "1                 -2.175167            -2.414042            -2.09033   \n",
       "2                 -2.175167            -2.414042            -2.09033   \n",
       "3                 -2.175167            -2.414042            -2.09033   \n",
       "4                 -2.175167            -2.414042            -2.09033   \n",
       "\n",
       "   rule_of_law  voice_and_accountability  \n",
       "0    -1.788075                  -1.90854  \n",
       "1    -1.788075                  -1.90854  \n",
       "2    -1.788075                  -1.90854  \n",
       "3    -1.788075                  -1.90854  \n",
       "4    -1.788075                  -1.90854  \n",
       "\n",
       "[5 rows x 63 columns]"
      ]
     },
     "execution_count": 19,
     "metadata": {},
     "output_type": "execute_result"
    }
   ],
   "source": [
    "PPP_data.head(5)"
   ]
  },
  {
   "cell_type": "code",
   "execution_count": 20,
   "metadata": {},
   "outputs": [],
   "source": [
    "#copy data out.\n",
    "data = PPP_data.copy()\n",
    "data.drop(columns=['country',\n",
    "                   'regionname',                   \n",
    "                   'region',\n",
    "                   'adminregionname',\n",
    "                   'Description',\n",
    "                   'FCY',\n",
    "                   'bid_crit',\n",
    "                   'incomelevelname',\n",
    "                   'lendingtypename',\n",
    "                   'TIGS',\n",
    "                   'PCO',\n",
    "                   'sector',\n",
    "                   'shareborder',\n",
    "                   'GDP',\n",
    "                   'population',\n",
    "                   'investment_real',\n",
    "                   'realphysicalassets',\n",
    "                   'income'], inplace=True)\n",
    "\n",
    "data.replace('..', np.nan, inplace=True)\n",
    "\n",
    "data.replace({'status_n': {'Cancelled': 'fail', \n",
    "                           'Distressed': 'fail', \n",
    "                           'Active': 'success',\n",
    "                           'Concluded': 'success'}}, inplace=True)\n",
    "\n",
    "float_value = ['GDP_per_capita', \n",
    "               'tax_as_GDP', \n",
    "               'GDP_deflator', \n",
    "               'life_expectnacy', \n",
    "               'real_effective_change',\n",
    "               'electric_consumption', \n",
    "               'domestic_credit_to_private', \n",
    "               'imports_as_GDP', \n",
    "               'exports_as_GDP', \n",
    "               'control_of_corruption',\n",
    "               'government_effectiveness', \n",
    "               'political_stability', \n",
    "               'regulatory_quality', \n",
    "               'rule_of_law', \n",
    "               'voice_and_accountability',\n",
    "               'shifted_country_experience_1',\n",
    "               'shifted_ssector_experience_1',\n",
    "               'period',\n",
    "               'CPI2019',\n",
    "               'bordercountries', \n",
    "               'private', \n",
    "               'physical', \n",
    "               'period',\n",
    "               'investment', \n",
    "               'pcapacity',\n",
    "               'sponsor_number',\n",
    "               'IY']\n",
    "nominal_value = ['IDA', \n",
    "                 'Region',\n",
    "                 'type', \n",
    "                 'stype', \n",
    "                 'ssector',\n",
    "                 'Segment', \n",
    "                 'UP', \n",
    "                 'PublicDisclosure', \n",
    "                 'PRS', \n",
    "                 'Renewables', \n",
    "                 'MLS', \n",
    "                 'GGC',\n",
    "                 'BS',\n",
    "                 'lendingtype'\n",
    "                 'adminregion',\n",
    "                 'foreign_country']\n",
    "ordinal_value = ['incomelevel']\n",
    "\n",
    "for float_column in float_value:\n",
    "    data[float_column] = data[float_column].astype(float)"
   ]
  },
  {
   "cell_type": "code",
   "execution_count": 21,
   "metadata": {},
   "outputs": [
    {
     "data": {
      "text/plain": [
       "(1893, 45)"
      ]
     },
     "execution_count": 21,
     "metadata": {},
     "output_type": "execute_result"
    }
   ],
   "source": [
    "data.shape"
   ]
  },
  {
   "cell_type": "code",
   "execution_count": 22,
   "metadata": {},
   "outputs": [
    {
     "data": {
      "text/html": [
       "<div>\n",
       "<style scoped>\n",
       "    .dataframe tbody tr th:only-of-type {\n",
       "        vertical-align: middle;\n",
       "    }\n",
       "\n",
       "    .dataframe tbody tr th {\n",
       "        vertical-align: top;\n",
       "    }\n",
       "\n",
       "    .dataframe thead th {\n",
       "        text-align: right;\n",
       "    }\n",
       "</style>\n",
       "<table border=\"1\" class=\"dataframe\">\n",
       "  <thead>\n",
       "    <tr style=\"text-align: right;\">\n",
       "      <th></th>\n",
       "      <th>IY</th>\n",
       "      <th>Region</th>\n",
       "      <th>IDA</th>\n",
       "      <th>type</th>\n",
       "      <th>stype</th>\n",
       "      <th>status_n</th>\n",
       "      <th>ssector</th>\n",
       "      <th>Segment</th>\n",
       "      <th>period</th>\n",
       "      <th>GGC</th>\n",
       "      <th>...</th>\n",
       "      <th>electric_consumption</th>\n",
       "      <th>domestic_credit_to_private</th>\n",
       "      <th>imports_as_GDP</th>\n",
       "      <th>exports_as_GDP</th>\n",
       "      <th>control_of_corruption</th>\n",
       "      <th>government_effectiveness</th>\n",
       "      <th>political_stability</th>\n",
       "      <th>regulatory_quality</th>\n",
       "      <th>rule_of_law</th>\n",
       "      <th>voice_and_accountability</th>\n",
       "    </tr>\n",
       "  </thead>\n",
       "  <tbody>\n",
       "    <tr>\n",
       "      <td>0</td>\n",
       "      <td>1990.0</td>\n",
       "      <td>LAC</td>\n",
       "      <td>Non-IDA</td>\n",
       "      <td>Brownfield</td>\n",
       "      <td>Rehabilitate, operate, and transfer</td>\n",
       "      <td>success</td>\n",
       "      <td>Toll Roads</td>\n",
       "      <td>Highway</td>\n",
       "      <td>28.0</td>\n",
       "      <td>NaN</td>\n",
       "      <td>...</td>\n",
       "      <td>1320.356572</td>\n",
       "      <td>39.717495</td>\n",
       "      <td>6.579389</td>\n",
       "      <td>13.058409</td>\n",
       "      <td>-1.291705</td>\n",
       "      <td>-2.175167</td>\n",
       "      <td>-2.414042</td>\n",
       "      <td>-2.09033</td>\n",
       "      <td>-1.788075</td>\n",
       "      <td>-1.90854</td>\n",
       "    </tr>\n",
       "    <tr>\n",
       "      <td>1</td>\n",
       "      <td>1990.0</td>\n",
       "      <td>LAC</td>\n",
       "      <td>Non-IDA</td>\n",
       "      <td>Greenfield project</td>\n",
       "      <td>Build, operate, and transfer</td>\n",
       "      <td>success</td>\n",
       "      <td>Toll Roads</td>\n",
       "      <td>Highway</td>\n",
       "      <td>30.0</td>\n",
       "      <td>NaN</td>\n",
       "      <td>...</td>\n",
       "      <td>1232.479271</td>\n",
       "      <td>21.247887</td>\n",
       "      <td>19.197451</td>\n",
       "      <td>19.132199</td>\n",
       "      <td>-1.291705</td>\n",
       "      <td>-2.175167</td>\n",
       "      <td>-2.414042</td>\n",
       "      <td>-2.09033</td>\n",
       "      <td>-1.788075</td>\n",
       "      <td>-1.90854</td>\n",
       "    </tr>\n",
       "    <tr>\n",
       "      <td>2</td>\n",
       "      <td>1990.0</td>\n",
       "      <td>EAP</td>\n",
       "      <td>Non-IDA</td>\n",
       "      <td>Management and lease contract</td>\n",
       "      <td>Lease contract</td>\n",
       "      <td>success</td>\n",
       "      <td>Seaports</td>\n",
       "      <td>Runway and terminal</td>\n",
       "      <td>27.0</td>\n",
       "      <td>NaN</td>\n",
       "      <td>...</td>\n",
       "      <td>614.948291</td>\n",
       "      <td>106.362551</td>\n",
       "      <td>37.485405</td>\n",
       "      <td>34.921528</td>\n",
       "      <td>-1.291705</td>\n",
       "      <td>-2.175167</td>\n",
       "      <td>-2.414042</td>\n",
       "      <td>-2.09033</td>\n",
       "      <td>-1.788075</td>\n",
       "      <td>-1.90854</td>\n",
       "    </tr>\n",
       "    <tr>\n",
       "      <td>3</td>\n",
       "      <td>1990.0</td>\n",
       "      <td>LAC</td>\n",
       "      <td>Non-IDA</td>\n",
       "      <td>Greenfield project</td>\n",
       "      <td>Build, operate, and transfer</td>\n",
       "      <td>success</td>\n",
       "      <td>Toll Roads</td>\n",
       "      <td>Highway</td>\n",
       "      <td>60.0</td>\n",
       "      <td>NaN</td>\n",
       "      <td>...</td>\n",
       "      <td>1232.479271</td>\n",
       "      <td>21.247887</td>\n",
       "      <td>19.197451</td>\n",
       "      <td>19.132199</td>\n",
       "      <td>-1.291705</td>\n",
       "      <td>-2.175167</td>\n",
       "      <td>-2.414042</td>\n",
       "      <td>-2.09033</td>\n",
       "      <td>-1.788075</td>\n",
       "      <td>-1.90854</td>\n",
       "    </tr>\n",
       "    <tr>\n",
       "      <td>4</td>\n",
       "      <td>1990.0</td>\n",
       "      <td>LAC</td>\n",
       "      <td>Non-IDA</td>\n",
       "      <td>Greenfield project</td>\n",
       "      <td>Build, operate, and transfer</td>\n",
       "      <td>success</td>\n",
       "      <td>Toll Roads</td>\n",
       "      <td>Highway</td>\n",
       "      <td>30.0</td>\n",
       "      <td>NaN</td>\n",
       "      <td>...</td>\n",
       "      <td>1232.479271</td>\n",
       "      <td>21.247887</td>\n",
       "      <td>19.197451</td>\n",
       "      <td>19.132199</td>\n",
       "      <td>-1.291705</td>\n",
       "      <td>-2.175167</td>\n",
       "      <td>-2.414042</td>\n",
       "      <td>-2.09033</td>\n",
       "      <td>-1.788075</td>\n",
       "      <td>-1.90854</td>\n",
       "    </tr>\n",
       "    <tr>\n",
       "      <td>5</td>\n",
       "      <td>1990.0</td>\n",
       "      <td>LAC</td>\n",
       "      <td>Non-IDA</td>\n",
       "      <td>Brownfield</td>\n",
       "      <td>Build, rehabilitate, operate, and transfer</td>\n",
       "      <td>success</td>\n",
       "      <td>Toll Roads</td>\n",
       "      <td>Highway</td>\n",
       "      <td>31.0</td>\n",
       "      <td>NaN</td>\n",
       "      <td>...</td>\n",
       "      <td>1232.479271</td>\n",
       "      <td>21.247887</td>\n",
       "      <td>19.197451</td>\n",
       "      <td>19.132199</td>\n",
       "      <td>-1.291705</td>\n",
       "      <td>-2.175167</td>\n",
       "      <td>-2.414042</td>\n",
       "      <td>-2.09033</td>\n",
       "      <td>-1.788075</td>\n",
       "      <td>-1.90854</td>\n",
       "    </tr>\n",
       "    <tr>\n",
       "      <td>6</td>\n",
       "      <td>1990.0</td>\n",
       "      <td>EAP</td>\n",
       "      <td>Non-IDA</td>\n",
       "      <td>Management and lease contract</td>\n",
       "      <td>Lease contract</td>\n",
       "      <td>success</td>\n",
       "      <td>Seaports</td>\n",
       "      <td>Runway and terminal</td>\n",
       "      <td>27.0</td>\n",
       "      <td>NaN</td>\n",
       "      <td>...</td>\n",
       "      <td>614.948291</td>\n",
       "      <td>106.362551</td>\n",
       "      <td>37.485405</td>\n",
       "      <td>34.921528</td>\n",
       "      <td>-1.291705</td>\n",
       "      <td>-2.175167</td>\n",
       "      <td>-2.414042</td>\n",
       "      <td>-2.09033</td>\n",
       "      <td>-1.788075</td>\n",
       "      <td>-1.90854</td>\n",
       "    </tr>\n",
       "    <tr>\n",
       "      <td>7</td>\n",
       "      <td>1990.0</td>\n",
       "      <td>EAP</td>\n",
       "      <td>Non-IDA</td>\n",
       "      <td>Greenfield project</td>\n",
       "      <td>Build, operate, and transfer</td>\n",
       "      <td>success</td>\n",
       "      <td>Toll Roads</td>\n",
       "      <td>Highway</td>\n",
       "      <td>33.0</td>\n",
       "      <td>NaN</td>\n",
       "      <td>...</td>\n",
       "      <td>487.373173</td>\n",
       "      <td>77.133290</td>\n",
       "      <td>13.261366</td>\n",
       "      <td>11.844329</td>\n",
       "      <td>-1.291705</td>\n",
       "      <td>-2.175167</td>\n",
       "      <td>-2.414042</td>\n",
       "      <td>-2.09033</td>\n",
       "      <td>-1.788075</td>\n",
       "      <td>-1.90854</td>\n",
       "    </tr>\n",
       "    <tr>\n",
       "      <td>8</td>\n",
       "      <td>1990.0</td>\n",
       "      <td>LAC</td>\n",
       "      <td>Non-IDA</td>\n",
       "      <td>Brownfield</td>\n",
       "      <td>Build, rehabilitate, operate, and transfer</td>\n",
       "      <td>success</td>\n",
       "      <td>Toll Roads</td>\n",
       "      <td>Highway</td>\n",
       "      <td>25.0</td>\n",
       "      <td>State/Provincial</td>\n",
       "      <td>...</td>\n",
       "      <td>1320.356572</td>\n",
       "      <td>39.717495</td>\n",
       "      <td>6.579389</td>\n",
       "      <td>13.058409</td>\n",
       "      <td>-1.291705</td>\n",
       "      <td>-2.175167</td>\n",
       "      <td>-2.414042</td>\n",
       "      <td>-2.09033</td>\n",
       "      <td>-1.788075</td>\n",
       "      <td>-1.90854</td>\n",
       "    </tr>\n",
       "    <tr>\n",
       "      <td>9</td>\n",
       "      <td>1990.0</td>\n",
       "      <td>SAR</td>\n",
       "      <td>Non-IDA</td>\n",
       "      <td>Brownfield</td>\n",
       "      <td>Build, rehabilitate, operate, and transfer</td>\n",
       "      <td>success</td>\n",
       "      <td>Toll Roads</td>\n",
       "      <td>Highway</td>\n",
       "      <td>NaN</td>\n",
       "      <td>NaN</td>\n",
       "      <td>...</td>\n",
       "      <td>257.039736</td>\n",
       "      <td>26.589814</td>\n",
       "      <td>8.152002</td>\n",
       "      <td>7.016130</td>\n",
       "      <td>-1.291705</td>\n",
       "      <td>-2.175167</td>\n",
       "      <td>-2.414042</td>\n",
       "      <td>-2.09033</td>\n",
       "      <td>-1.788075</td>\n",
       "      <td>-1.90854</td>\n",
       "    </tr>\n",
       "  </tbody>\n",
       "</table>\n",
       "<p>10 rows × 45 columns</p>\n",
       "</div>"
      ],
      "text/plain": [
       "       IY Region      IDA                           type  \\\n",
       "0  1990.0    LAC  Non-IDA                     Brownfield   \n",
       "1  1990.0    LAC  Non-IDA             Greenfield project   \n",
       "2  1990.0    EAP  Non-IDA  Management and lease contract   \n",
       "3  1990.0    LAC  Non-IDA             Greenfield project   \n",
       "4  1990.0    LAC  Non-IDA             Greenfield project   \n",
       "5  1990.0    LAC  Non-IDA                     Brownfield   \n",
       "6  1990.0    EAP  Non-IDA  Management and lease contract   \n",
       "7  1990.0    EAP  Non-IDA             Greenfield project   \n",
       "8  1990.0    LAC  Non-IDA                     Brownfield   \n",
       "9  1990.0    SAR  Non-IDA                     Brownfield   \n",
       "\n",
       "                                        stype status_n     ssector  \\\n",
       "0         Rehabilitate, operate, and transfer  success  Toll Roads   \n",
       "1                Build, operate, and transfer  success  Toll Roads   \n",
       "2                              Lease contract  success    Seaports   \n",
       "3                Build, operate, and transfer  success  Toll Roads   \n",
       "4                Build, operate, and transfer  success  Toll Roads   \n",
       "5  Build, rehabilitate, operate, and transfer  success  Toll Roads   \n",
       "6                              Lease contract  success    Seaports   \n",
       "7                Build, operate, and transfer  success  Toll Roads   \n",
       "8  Build, rehabilitate, operate, and transfer  success  Toll Roads   \n",
       "9  Build, rehabilitate, operate, and transfer  success  Toll Roads   \n",
       "\n",
       "               Segment  period               GGC  ...  electric_consumption  \\\n",
       "0              Highway    28.0               NaN  ...           1320.356572   \n",
       "1              Highway    30.0               NaN  ...           1232.479271   \n",
       "2  Runway and terminal    27.0               NaN  ...            614.948291   \n",
       "3              Highway    60.0               NaN  ...           1232.479271   \n",
       "4              Highway    30.0               NaN  ...           1232.479271   \n",
       "5              Highway    31.0               NaN  ...           1232.479271   \n",
       "6  Runway and terminal    27.0               NaN  ...            614.948291   \n",
       "7              Highway    33.0               NaN  ...            487.373173   \n",
       "8              Highway    25.0  State/Provincial  ...           1320.356572   \n",
       "9              Highway     NaN               NaN  ...            257.039736   \n",
       "\n",
       "   domestic_credit_to_private  imports_as_GDP  exports_as_GDP  \\\n",
       "0                   39.717495        6.579389       13.058409   \n",
       "1                   21.247887       19.197451       19.132199   \n",
       "2                  106.362551       37.485405       34.921528   \n",
       "3                   21.247887       19.197451       19.132199   \n",
       "4                   21.247887       19.197451       19.132199   \n",
       "5                   21.247887       19.197451       19.132199   \n",
       "6                  106.362551       37.485405       34.921528   \n",
       "7                   77.133290       13.261366       11.844329   \n",
       "8                   39.717495        6.579389       13.058409   \n",
       "9                   26.589814        8.152002        7.016130   \n",
       "\n",
       "  control_of_corruption government_effectiveness political_stability  \\\n",
       "0             -1.291705                -2.175167           -2.414042   \n",
       "1             -1.291705                -2.175167           -2.414042   \n",
       "2             -1.291705                -2.175167           -2.414042   \n",
       "3             -1.291705                -2.175167           -2.414042   \n",
       "4             -1.291705                -2.175167           -2.414042   \n",
       "5             -1.291705                -2.175167           -2.414042   \n",
       "6             -1.291705                -2.175167           -2.414042   \n",
       "7             -1.291705                -2.175167           -2.414042   \n",
       "8             -1.291705                -2.175167           -2.414042   \n",
       "9             -1.291705                -2.175167           -2.414042   \n",
       "\n",
       "  regulatory_quality  rule_of_law voice_and_accountability  \n",
       "0           -2.09033    -1.788075                 -1.90854  \n",
       "1           -2.09033    -1.788075                 -1.90854  \n",
       "2           -2.09033    -1.788075                 -1.90854  \n",
       "3           -2.09033    -1.788075                 -1.90854  \n",
       "4           -2.09033    -1.788075                 -1.90854  \n",
       "5           -2.09033    -1.788075                 -1.90854  \n",
       "6           -2.09033    -1.788075                 -1.90854  \n",
       "7           -2.09033    -1.788075                 -1.90854  \n",
       "8           -2.09033    -1.788075                 -1.90854  \n",
       "9           -2.09033    -1.788075                 -1.90854  \n",
       "\n",
       "[10 rows x 45 columns]"
      ]
     },
     "execution_count": 22,
     "metadata": {},
     "output_type": "execute_result"
    }
   ],
   "source": [
    "data.head(10)"
   ]
  },
  {
   "cell_type": "code",
   "execution_count": 23,
   "metadata": {},
   "outputs": [],
   "source": [
    "# BS (Bilateral Support) replace with NO and Yes, \n",
    "data.loc[(data.BS!='No') & (~data.BS.isnull()), 'BS'] = 'Yes'\n",
    "#private convert to categorical data.\n",
    "#physical, investment, pcapacity will be converted to np.log\n",
    "to_log = ['physical', 'investment', 'pcapacity']\n",
    "for column in to_log:\n",
    "    data[column] = np.log(data[column] + 0.01)"
   ]
  },
  {
   "cell_type": "code",
   "execution_count": 24,
   "metadata": {},
   "outputs": [],
   "source": [
    "#split the data\n",
    "X = data[data.columns[data.columns!='status_n']]\n",
    "y = data['status_n']\n",
    "#income value is ordinal value\n",
    "mapper = {'LIC': 1, \n",
    "          'HIC': 4, \n",
    "          'LMC': 2, \n",
    "          'UMC': 3}\n",
    "X.loc[:, 'incomelevel'] = X.incomelevel.map(mapper)\n",
    "\n",
    "predicted_status = {'success': 0, \n",
    "                    'fail': 1}\n",
    "y = y.map(predicted_status)\n",
    "X = X.drop(columns='IY')\n",
    "X_train, X_test, y_train, y_test = train_test_split(X, y, test_size=0.25, random_state=123, stratify=y, shuffle=True)"
   ]
  },
  {
   "cell_type": "code",
   "execution_count": 25,
   "metadata": {},
   "outputs": [
    {
     "name": "stdout",
     "output_type": "stream",
     "text": [
      "shape of train dataset:  (1419, 43)\n",
      "shape of test dataset:  (474, 43)\n",
      "imbalance rate of train dataset:  [0.05990134]\n",
      "imbalance rate of test dataset:  [0.06118143]\n",
      "failure projects of train dataset:  85\n",
      "failure projects of test dataset:  29\n"
     ]
    }
   ],
   "source": [
    "print(\"shape of train dataset: \", X_train.shape)\n",
    "print(\"shape of test dataset: \", X_test.shape)\n",
    "print(\"imbalance rate of train dataset: \", y_train.sum()/y_train.shape)\n",
    "print(\"imbalance rate of test dataset: \", y_test.sum()/y_test.shape)\n",
    "print(\"failure projects of train dataset: \", y_train.sum())\n",
    "print(\"failure projects of test dataset: \", y_test.sum())"
   ]
  },
  {
   "cell_type": "code",
   "execution_count": 26,
   "metadata": {},
   "outputs": [],
   "source": [
    "from sklearn.base import BaseEstimator\n",
    "from sklearn.base import TransformerMixin\n",
    "\n",
    "#imputing numerical value\n",
    "class FillNumericalNa(BaseEstimator, TransformerMixin):\n",
    "    def __init__(self, column, group_list):\n",
    "        print('......... init() called.')\n",
    "        self.column = column\n",
    "        self.group_list = group_list\n",
    "        \n",
    "    def fit(self, X, y=None):\n",
    "        print('......... fit() called.')\n",
    "        self.mean = X.groupby(self.group_list)[self.column].agg(pd.Series.mean).to_frame().reset_index()\n",
    "        self.column_mean = X[self.column].mean()\n",
    "        return self\n",
    "    \n",
    "    def transform(self, X, y=None):\n",
    "        print('.......... transform () called.')\n",
    "        X_ = X.copy()\n",
    "        X_result = X_.reset_index().merge(self.mean, on=self.group_list, how='left').set_index('index')\n",
    "        for i in X_[np.isnan(X_[self.column])].index:\n",
    "            X_.loc[i, self.column] = X_result.loc[i, self.column + '_y']\n",
    "        X_[self.column].fillna(self.column_mean, inplace=True)\n",
    "        return X_\n",
    "\n",
    "# imputing categorical value\n",
    "class FillCategoricalNa(BaseEstimator, TransformerMixin):\n",
    "    def __init__(self, column, group_list):\n",
    "        print('......... init() called.')\n",
    "        self.column = column\n",
    "        self.group_list = group_list\n",
    "        \n",
    "    def fit(self, X, y=None):\n",
    "        print('......... fit() called.')\n",
    "        self.mode = X.groupby(self.group_list)[self.column].agg(pd.Series.mode).to_frame().reset_index()\n",
    "        \n",
    "        for index, row in self.mode.iterrows():\n",
    "            if type(row[self.column]) == np.ndarray:\n",
    "                self.mode.loc[index, self.column] = X[self.column].mode()[0]\n",
    "                \n",
    "        self.column_mode = X[self.column].mode()[0]\n",
    "        return self\n",
    "    \n",
    "    def transform(self, X, y=None):\n",
    "        print('.......... transform () called.')\n",
    "        X_ = X.copy()\n",
    "        X_result = X_.reset_index().merge(self.mode, on=self.group_list, how='left').set_index('index')\n",
    "        for i in X_[X_[self.column].isnull()].index:\n",
    "            X_.loc[i, self.column] = X_result.loc[i, self.column + '_y'] \n",
    "        X_[self.column].fillna(self.column_mode, inplace=True)\n",
    "        return X_\n",
    "\n",
    "#drop columns\n",
    "class DropColumn(BaseEstimator, TransformerMixin):\n",
    "    def __init__(self, column):\n",
    "        print('......... init() called.')\n",
    "        self.column = column\n",
    "        \n",
    "    def fit(self, X, y=None):\n",
    "        print('......... fit() called.')\n",
    "        return self\n",
    "    \n",
    "    def transform(self, X, y=None):\n",
    "        print('.......... transform () called.')\n",
    "        X_ = X.copy()\n",
    "        X_.drop(columns=self.column, inplace=True)\n",
    "        return X_\n",
    "#get_dummies\n",
    "from pandas.api.types import CategoricalDtype\n",
    "class DummyEncoder(BaseEstimator, TransformerMixin):\n",
    "    def __init__(self, min_frequency=1, dummy_na=True):\n",
    "        print('......... init() called.')\n",
    "        self.min_frequency = min_frequency\n",
    "        self.dummy_na = dummy_na\n",
    "        self.categories = dict()\n",
    "\n",
    "    def fit(self, X, y=None):\n",
    "        print('......... fit() called.')\n",
    "        for col in X.select_dtypes(include=['object']).columns:\n",
    "            counts = pd.value_counts(X[col])\n",
    "            self.categories[col] = list(set(counts[counts >= self.min_frequency].index.tolist()))\n",
    "        return self\n",
    "\n",
    "    def transform(self, X, *_):\n",
    "        print('.......... transform () called.')\n",
    "        for col in X.select_dtypes(include=['object']).columns:\n",
    "            X = X.astype({col: CategoricalDtype(self.categories[col], ordered=True)})\n",
    "        ret = pd.get_dummies(X, drop_first=True, dummy_na=self.dummy_na)\n",
    "        return ret"
   ]
  },
  {
   "cell_type": "code",
   "execution_count": 28,
   "metadata": {},
   "outputs": [],
   "source": [
    "numerical_index = X.select_dtypes(include=['int64', 'float64']).columns\n",
    "t = [('num', RobustScaler(), numerical_index)]\n",
    "col_transform = ColumnTransformer(remainder='passthrough', transformers=t)\n",
    "#smote\n",
    "smote = SMOTE(sampling_strategy='minority',random_state=0)\n",
    "#undersampling\n",
    "undersample = RandomUnderSampler(random_state=0)"
   ]
  },
  {
   "cell_type": "code",
   "execution_count": 47,
   "metadata": {
    "scrolled": true
   },
   "outputs": [
    {
     "name": "stdout",
     "output_type": "stream",
     "text": [
      "......... init() called.\n",
      "......... init() called.\n",
      "......... init() called.\n",
      "......... init() called.\n",
      "......... init() called.\n",
      "......... init() called.\n",
      "......... init() called.\n",
      "......... init() called.\n",
      "......... init() called.\n",
      "......... init() called.\n",
      "......... init() called.\n",
      "......... init() called.\n",
      "......... init() called.\n",
      "......... init() called.\n",
      "......... init() called.\n",
      "......... init() called.\n",
      "......... init() called.\n",
      "......... init() called.\n",
      "......... init() called.\n",
      "......... init() called.\n",
      "......... init() called.\n",
      "......... init() called.\n"
     ]
    }
   ],
   "source": [
    "pca = PCA(n_components=60, random_state=13)\n",
    "pipe = Pipeline([('imputing1', FillNumericalNa('period', ['stype', 'Region', 'countrycode'])),\n",
    "                    ('imputing2', FillNumericalNa('pcapacity', ['stype', 'Region', 'countrycode'])),\n",
    "                    ('imputing3', FillNumericalNa('private', ['stype', 'ssector', 'countrycode'])),\n",
    "                    ('imputing4', FillNumericalNa('physical', ['stype', 'ssector', 'countrycode'])),\n",
    "                    ('imputing5', FillNumericalNa('investment', ['stype', 'Region', 'countrycode'])),\n",
    "                    ('imputing6', FillNumericalNa('tax_as_GDP', ['Region'])),\n",
    "                    ('imputing7', FillNumericalNa('real_effective_change', ['Region'])),\n",
    "                    ('imputing8', FillNumericalNa('domestic_credit_to_private', ['Region'])),\n",
    "                    ('imputing9', FillNumericalNa('rule_of_law', ['Region'])),\n",
    "                    ('imputing10', FillNumericalNa('imports_as_GDP', ['Region'])),\n",
    "                    ('imputing11', FillNumericalNa('exports_as_GDP', ['Region'])),\n",
    "                    ('imputing12', FillNumericalNa('electric_consumption', ['Region'])),\n",
    "                    ('imputing13', FillNumericalNa('sponsor_number', ['countrycode', 'ssector'])),\n",
    "                    ('imputing14', FillCategoricalNa('GGC', ['countrycode', 'ssector'])),\n",
    "                    ('imputing15', FillCategoricalNa('lendingtype', ['countrycode', 'ssector'])),\n",
    "                    ('imputing16', FillCategoricalNa('PRS', ['countrycode', 'ssector'])),\n",
    "                    ('imputing17', FillCategoricalNa('BS', ['countrycode', 'ssector'])),\n",
    "                    ('imputing18', FillCategoricalNa('adminregion', ['Region'])),\n",
    "                    ('imputing19', FillCategoricalNa('incomelevel', ['Region'])),\n",
    "                    ('imputing20', FillCategoricalNa('foreign_country', ['countrycode', 'ssector'])),\n",
    "                    ('dropcolumn1', DropColumn(['countrycode'])),\n",
    "                    ('encoding', DummyEncoder())\n",
    "                    ])"
   ]
  },
  {
   "cell_type": "code",
   "execution_count": 48,
   "metadata": {
    "scrolled": true
   },
   "outputs": [
    {
     "name": "stdout",
     "output_type": "stream",
     "text": [
      "......... fit() called.\n",
      ".......... transform () called.\n",
      "......... fit() called.\n",
      ".......... transform () called.\n",
      "......... fit() called.\n",
      ".......... transform () called.\n",
      "......... fit() called.\n",
      ".......... transform () called.\n",
      "......... fit() called.\n",
      ".......... transform () called.\n",
      "......... fit() called.\n",
      ".......... transform () called.\n",
      "......... fit() called.\n",
      ".......... transform () called.\n",
      "......... fit() called.\n",
      ".......... transform () called.\n",
      "......... fit() called.\n",
      ".......... transform () called.\n",
      "......... fit() called.\n",
      ".......... transform () called.\n",
      "......... fit() called.\n",
      ".......... transform () called.\n",
      "......... fit() called.\n",
      ".......... transform () called.\n",
      "......... fit() called.\n",
      ".......... transform () called.\n",
      "......... fit() called.\n",
      ".......... transform () called.\n",
      "......... fit() called.\n",
      ".......... transform () called.\n",
      "......... fit() called.\n",
      ".......... transform () called.\n",
      "......... fit() called.\n",
      ".......... transform () called.\n",
      "......... fit() called.\n",
      ".......... transform () called.\n",
      "......... fit() called.\n",
      ".......... transform () called.\n",
      "......... fit() called.\n",
      ".......... transform () called.\n",
      "......... fit() called.\n",
      ".......... transform () called.\n",
      "......... fit() called.\n",
      ".......... transform () called.\n"
     ]
    }
   ],
   "source": [
    "X_new = pipe.fit_transform(X_train, y_train)"
   ]
  },
  {
   "cell_type": "code",
   "execution_count": 50,
   "metadata": {},
   "outputs": [],
   "source": [
    "scaler = RobustScaler()\n",
    "numeric_column = X_new.columns[X_new.dtypes == 'float64']\n",
    "X_new[numeric_column] = scaler.fit_transform(X_new[numeric_column])"
   ]
  },
  {
   "cell_type": "code",
   "execution_count": 52,
   "metadata": {},
   "outputs": [],
   "source": [
    "XX = pca.fit_transform(X_new)"
   ]
  },
  {
   "cell_type": "code",
   "execution_count": 54,
   "metadata": {},
   "outputs": [
    {
     "data": {
      "text/plain": [
       "array([9.84148065e-01, 1.46709081e-02, 2.61151865e-04, 1.88606446e-04,\n",
       "       1.32318479e-04, 9.44485061e-05, 8.22456550e-05, 5.13697069e-05,\n",
       "       4.72264887e-05, 4.12307737e-05, 3.36290884e-05, 2.87710390e-05,\n",
       "       2.35002565e-05, 2.01876938e-05, 1.70675466e-05, 1.63937333e-05,\n",
       "       1.42088840e-05, 1.36836410e-05, 1.23560287e-05, 1.07804294e-05,\n",
       "       8.65370777e-06, 7.58984157e-06, 7.32854712e-06, 6.99391420e-06,\n",
       "       6.07149506e-06, 5.42889049e-06, 5.00463638e-06, 4.96095221e-06,\n",
       "       4.29373016e-06, 3.10357134e-06, 2.83223326e-06, 2.67636642e-06,\n",
       "       2.28526485e-06, 2.26371209e-06, 2.01874740e-06, 1.97919770e-06,\n",
       "       1.82012812e-06, 1.48010942e-06, 1.38573608e-06, 1.33455752e-06,\n",
       "       1.25278108e-06, 1.10988595e-06, 9.05915721e-07, 8.51635004e-07,\n",
       "       8.10086056e-07, 7.99485637e-07, 7.57908554e-07, 6.93423250e-07,\n",
       "       6.61613821e-07, 5.78706542e-07, 5.00872751e-07, 4.79997307e-07,\n",
       "       4.19800337e-07, 3.56695386e-07, 3.46440225e-07, 3.30507471e-07,\n",
       "       2.53628289e-07, 2.22363173e-07, 2.11296628e-07, 1.90100425e-07])"
      ]
     },
     "execution_count": 54,
     "metadata": {},
     "output_type": "execute_result"
    }
   ],
   "source": [
    "pca.explained_variance_ratio_"
   ]
  },
  {
   "cell_type": "code",
   "execution_count": 57,
   "metadata": {},
   "outputs": [
    {
     "data": {
      "text/plain": [
       "93"
      ]
     },
     "execution_count": 57,
     "metadata": {},
     "output_type": "execute_result"
    }
   ],
   "source": [
    "len(pca.components_[0])"
   ]
  },
  {
   "cell_type": "code",
   "execution_count": 185,
   "metadata": {},
   "outputs": [
    {
     "name": "stdout",
     "output_type": "stream",
     "text": [
      "......... init() called.\n",
      "......... init() called.\n",
      "......... init() called.\n",
      "......... init() called.\n",
      "......... init() called.\n",
      "......... init() called.\n",
      "......... init() called.\n",
      "......... init() called.\n",
      "......... init() called.\n",
      "......... init() called.\n",
      "......... init() called.\n",
      "......... init() called.\n",
      "......... init() called.\n",
      "......... init() called.\n",
      "......... init() called.\n",
      "......... init() called.\n",
      "......... init() called.\n",
      "......... init() called.\n",
      "......... init() called.\n",
      "......... init() called.\n",
      "......... init() called.\n",
      "......... init() called.\n"
     ]
    }
   ],
   "source": [
    "pca_rf = PCA(n_components=60, random_state=13)\n",
    "pipe_rf_smote = Pipeline([('imputing1', FillNumericalNa('period', ['stype', 'Region', 'countrycode'])),\n",
    "                    ('imputing2', FillNumericalNa('pcapacity', ['stype', 'Region', 'countrycode'])),\n",
    "                    ('imputing3', FillNumericalNa('private', ['stype', 'ssector', 'countrycode'])),\n",
    "                    ('imputing4', FillNumericalNa('physical', ['stype', 'ssector', 'countrycode'])),\n",
    "                    ('imputing5', FillNumericalNa('investment', ['stype', 'Region', 'countrycode'])),\n",
    "                    ('imputing6', FillNumericalNa('tax_as_GDP', ['Region'])),\n",
    "                    ('imputing7', FillNumericalNa('real_effective_change', ['Region'])),\n",
    "                    ('imputing8', FillNumericalNa('domestic_credit_to_private', ['Region'])),\n",
    "                    ('imputing9', FillNumericalNa('rule_of_law', ['Region'])),\n",
    "                    ('imputing10', FillNumericalNa('imports_as_GDP', ['Region'])),\n",
    "                    ('imputing11', FillNumericalNa('exports_as_GDP', ['Region'])),\n",
    "                    ('imputing12', FillNumericalNa('electric_consumption', ['Region'])),\n",
    "                    ('imputing13', FillNumericalNa('sponsor_number', ['countrycode', 'ssector'])),\n",
    "                    ('imputing14', FillCategoricalNa('GGC', ['countrycode', 'ssector'])),\n",
    "                    ('imputing15', FillCategoricalNa('lendingtype', ['countrycode', 'ssector'])),\n",
    "                    ('imputing16', FillCategoricalNa('PRS', ['countrycode', 'ssector'])),\n",
    "                    ('imputing17', FillCategoricalNa('BS', ['countrycode', 'ssector'])),\n",
    "                    ('imputing18', FillCategoricalNa('adminregion', ['Region'])),\n",
    "                    ('imputing19', FillCategoricalNa('incomelevel', ['Region'])),\n",
    "                    ('imputing20', FillCategoricalNa('foreign_country', ['countrycode', 'ssector'])),\n",
    "                    ('dropcolumn1', DropColumn(['countrycode'])),\n",
    "                    ('encoding', DummyEncoder()),\n",
    "                    ('scaler', col_transform),\n",
    "                    ('smote', smote),\n",
    "                    ('pca', pca_rf),\n",
    "                    ('clf', RandomForestClassifier(random_state=1))\n",
    "                    ])"
   ]
  },
  {
   "cell_type": "code",
   "execution_count": 168,
   "metadata": {},
   "outputs": [
    {
     "name": "stdout",
     "output_type": "stream",
     "text": [
      "......... init() called.\n",
      "......... init() called.\n",
      "......... init() called.\n",
      "......... init() called.\n",
      "......... init() called.\n",
      "......... init() called.\n",
      "......... init() called.\n",
      "......... init() called.\n",
      "......... init() called.\n",
      "......... init() called.\n",
      "......... init() called.\n",
      "......... init() called.\n",
      "......... init() called.\n",
      "......... init() called.\n",
      "......... init() called.\n",
      "......... init() called.\n",
      "......... init() called.\n",
      "......... init() called.\n",
      "......... init() called.\n",
      "......... init() called.\n",
      "......... init() called.\n",
      "......... init() called.\n"
     ]
    }
   ],
   "source": [
    "pipe_rf_under = Pipeline([('imputing1', FillNumericalNa('period', ['stype', 'Region', 'countrycode'])),\n",
    "                    ('imputing2', FillNumericalNa('pcapacity', ['stype', 'Region', 'countrycode'])),\n",
    "                    ('imputing3', FillNumericalNa('private', ['stype', 'ssector', 'countrycode'])),\n",
    "                    ('imputing4', FillNumericalNa('physical', ['stype', 'ssector', 'countrycode'])),\n",
    "                    ('imputing5', FillNumericalNa('investment', ['stype', 'Region', 'countrycode'])),\n",
    "                    ('imputing6', FillNumericalNa('tax_as_GDP', ['Region'])),\n",
    "                    ('imputing7', FillNumericalNa('real_effective_change', ['Region'])),\n",
    "                    ('imputing8', FillNumericalNa('domestic_credit_to_private', ['Region'])),\n",
    "                    ('imputing9', FillNumericalNa('rule_of_law', ['Region'])),\n",
    "                    ('imputing10', FillNumericalNa('imports_as_GDP', ['Region'])),\n",
    "                    ('imputing11', FillNumericalNa('exports_as_GDP', ['Region'])),\n",
    "                    ('imputing12', FillNumericalNa('electric_consumption', ['Region'])),\n",
    "                    ('imputing13', FillNumericalNa('sponsor_number', ['countrycode', 'ssector'])),\n",
    "                    ('imputing14', FillCategoricalNa('GGC', ['countrycode', 'ssector'])),\n",
    "                    ('imputing15', FillCategoricalNa('lendingtype', ['countrycode', 'ssector'])),\n",
    "                    ('imputing16', FillCategoricalNa('PRS', ['countrycode', 'ssector'])),\n",
    "                    ('imputing17', FillCategoricalNa('BS', ['countrycode', 'ssector'])),\n",
    "                    ('imputing18', FillCategoricalNa('adminregion', ['Region'])),\n",
    "                    ('imputing19', FillCategoricalNa('incomelevel', ['Region'])),\n",
    "                    ('imputing20', FillCategoricalNa('foreign_country', ['countrycode', 'ssector'])),\n",
    "                    ('dropcolumn1', DropColumn(['countrycode'])),\n",
    "                    ('encoding', DummyEncoder()),\n",
    "                    ('scaler', col_transform),\n",
    "                    ('smote', undersample),\n",
    "                    ('pca', pca_rf),\n",
    "                    ('clf', RandomForestClassifier(random_state=1))\n",
    "                    ])"
   ]
  },
  {
   "cell_type": "code",
   "execution_count": 186,
   "metadata": {
    "scrolled": true
   },
   "outputs": [
    {
     "name": "stdout",
     "output_type": "stream",
     "text": [
      "......... fit() called.\n",
      ".......... transform () called.\n",
      "......... fit() called.\n",
      ".......... transform () called.\n",
      "......... fit() called.\n",
      ".......... transform () called.\n",
      "......... fit() called.\n",
      ".......... transform () called.\n",
      "......... fit() called.\n",
      ".......... transform () called.\n",
      "......... fit() called.\n",
      ".......... transform () called.\n",
      "......... fit() called.\n",
      ".......... transform () called.\n",
      "......... fit() called.\n",
      ".......... transform () called.\n",
      "......... fit() called.\n",
      ".......... transform () called.\n",
      "......... fit() called.\n",
      ".......... transform () called.\n",
      "......... fit() called.\n",
      ".......... transform () called.\n",
      "......... fit() called.\n",
      ".......... transform () called.\n",
      "......... fit() called.\n",
      ".......... transform () called.\n",
      "......... fit() called.\n",
      ".......... transform () called.\n",
      "......... fit() called.\n",
      ".......... transform () called.\n",
      "......... fit() called.\n",
      ".......... transform () called.\n",
      "......... fit() called.\n",
      ".......... transform () called.\n",
      "......... fit() called.\n",
      ".......... transform () called.\n",
      "......... fit() called.\n",
      ".......... transform () called.\n",
      "......... fit() called.\n",
      ".......... transform () called.\n",
      "......... fit() called.\n",
      ".......... transform () called.\n",
      "......... fit() called.\n",
      ".......... transform () called.\n",
      ".......... transform () called.\n",
      ".......... transform () called.\n",
      ".......... transform () called.\n",
      ".......... transform () called.\n",
      ".......... transform () called.\n",
      ".......... transform () called.\n",
      ".......... transform () called.\n",
      ".......... transform () called.\n",
      ".......... transform () called.\n",
      ".......... transform () called.\n",
      ".......... transform () called.\n",
      ".......... transform () called.\n",
      ".......... transform () called.\n",
      ".......... transform () called.\n",
      ".......... transform () called.\n",
      ".......... transform () called.\n",
      ".......... transform () called.\n",
      ".......... transform () called.\n",
      ".......... transform () called.\n",
      ".......... transform () called.\n",
      ".......... transform () called.\n",
      ".......... transform () called.\n"
     ]
    }
   ],
   "source": [
    "pipe_rf_smote.fit(X_train, y_train)\n",
    "result_rf_smote = pipe_rf_smote.predict_proba(X_test)"
   ]
  },
  {
   "cell_type": "code",
   "execution_count": 194,
   "metadata": {
    "scrolled": true
   },
   "outputs": [
    {
     "name": "stdout",
     "output_type": "stream",
     "text": [
      "......... fit() called.\n",
      ".......... transform () called.\n",
      "......... fit() called.\n",
      ".......... transform () called.\n",
      "......... fit() called.\n",
      ".......... transform () called.\n",
      "......... fit() called.\n",
      ".......... transform () called.\n",
      "......... fit() called.\n",
      ".......... transform () called.\n",
      "......... fit() called.\n",
      ".......... transform () called.\n",
      "......... fit() called.\n",
      ".......... transform () called.\n",
      "......... fit() called.\n",
      ".......... transform () called.\n",
      "......... fit() called.\n",
      ".......... transform () called.\n",
      "......... fit() called.\n",
      ".......... transform () called.\n",
      "......... fit() called.\n",
      ".......... transform () called.\n",
      "......... fit() called.\n",
      ".......... transform () called.\n",
      "......... fit() called.\n",
      ".......... transform () called.\n",
      "......... fit() called.\n",
      ".......... transform () called.\n",
      "......... fit() called.\n",
      ".......... transform () called.\n",
      "......... fit() called.\n",
      ".......... transform () called.\n",
      "......... fit() called.\n",
      ".......... transform () called.\n",
      "......... fit() called.\n",
      ".......... transform () called.\n",
      "......... fit() called.\n",
      ".......... transform () called.\n",
      "......... fit() called.\n",
      ".......... transform () called.\n",
      "......... fit() called.\n",
      ".......... transform () called.\n",
      "......... fit() called.\n",
      ".......... transform () called.\n",
      ".......... transform () called.\n",
      ".......... transform () called.\n",
      ".......... transform () called.\n",
      ".......... transform () called.\n",
      ".......... transform () called.\n",
      ".......... transform () called.\n",
      ".......... transform () called.\n",
      ".......... transform () called.\n",
      ".......... transform () called.\n",
      ".......... transform () called.\n",
      ".......... transform () called.\n",
      ".......... transform () called.\n",
      ".......... transform () called.\n",
      ".......... transform () called.\n",
      ".......... transform () called.\n",
      ".......... transform () called.\n",
      ".......... transform () called.\n",
      ".......... transform () called.\n",
      ".......... transform () called.\n",
      ".......... transform () called.\n",
      ".......... transform () called.\n",
      ".......... transform () called.\n"
     ]
    }
   ],
   "source": [
    "pipe_rf_under.fit(X_train, y_train)\n",
    "result_rf_under = pipe_rf_under.predict_proba(X_test)"
   ]
  },
  {
   "cell_type": "code",
   "execution_count": 187,
   "metadata": {},
   "outputs": [
    {
     "data": {
      "image/png": "[encoded data removed]",
      "text/plain": [
       "<Figure size 576x576 with 1 Axes>"
      ]
     },
     "metadata": {
      "needs_background": "light"
     },
     "output_type": "display_data"
    }
   ],
   "source": [
    "plot_roc(y_test, result_rf_smote[:,1])"
   ]
  },
  {
   "cell_type": "code",
   "execution_count": 204,
   "metadata": {
    "scrolled": true
   },
   "outputs": [
    {
     "data": {
      "text/plain": [
       "0.4316003236569226"
      ]
     },
     "execution_count": 204,
     "metadata": {},
     "output_type": "execute_result"
    }
   ],
   "source": [
    "lr_precision, lr_recall, _ = precision_recall_curve(y_test, result_rf_smote[:,1])\n",
    "auc(lr_recall, lr_precision)"
   ]
  },
  {
   "cell_type": "code",
   "execution_count": 207,
   "metadata": {},
   "outputs": [
    {
     "data": {
      "text/plain": [
       "0.37576264171567064"
      ]
     },
     "execution_count": 207,
     "metadata": {},
     "output_type": "execute_result"
    }
   ],
   "source": [
    "lr_precision, lr_recall, _ = precision_recall_curve(y_test, result_rf_under[:,1])\n",
    "auc(lr_recall, lr_precision)"
   ]
  },
  {
   "cell_type": "code",
   "execution_count": 195,
   "metadata": {},
   "outputs": [
    {
     "data": {
      "image/png": "[encoded data removed]",
      "text/plain": [
       "<Figure size 576x576 with 1 Axes>"
      ]
     },
     "metadata": {
      "needs_background": "light"
     },
     "output_type": "display_data"
    }
   ],
   "source": [
    "plot_roc(y_test, result_rf_under[:,1])"
   ]
  },
  {
   "cell_type": "code",
   "execution_count": 236,
   "metadata": {},
   "outputs": [
    {
     "name": "stderr",
     "output_type": "stream",
     "text": [
      "No handles with labels found to put in legend.\n"
     ]
    },
    {
     "data": {
      "image/png": "[encoded data removed]",
      "text/plain": [
       "<Figure size 576x576 with 1 Axes>"
      ]
     },
     "metadata": {
      "needs_background": "light"
     },
     "output_type": "display_data"
    }
   ],
   "source": [
    "plot_recall_precision(y_test, result_rf_smote[:,1])"
   ]
  },
  {
   "cell_type": "code",
   "execution_count": 196,
   "metadata": {},
   "outputs": [
    {
     "name": "stderr",
     "output_type": "stream",
     "text": [
      "No handles with labels found to put in legend.\n"
     ]
    },
    {
     "data": {
      "image/png": "[encoded data removed]",
      "text/plain": [
       "<Figure size 576x576 with 1 Axes>"
      ]
     },
     "metadata": {
      "needs_background": "light"
     },
     "output_type": "display_data"
    }
   ],
   "source": [
    "plot_recall_precision(y_test, result_rf_under[:,1])"
   ]
  },
  {
   "cell_type": "code",
   "execution_count": 237,
   "metadata": {
    "scrolled": true
   },
   "outputs": [
    {
     "data": {
      "image/png": "[encoded data removed]",
      "text/plain": [
       "<Figure size 576x576 with 1 Axes>"
      ]
     },
     "metadata": {
      "needs_background": "light"
     },
     "output_type": "display_data"
    }
   ],
   "source": [
    "plot_cm(y_test, result_rf_smote[:, 1], 0.20)#50, 0.229; 40, 0.20, 25-71; 60, 0.20, 23-61; 80, 0.23, 20-43"
   ]
  },
  {
   "cell_type": "code",
   "execution_count": 208,
   "metadata": {
    "scrolled": true
   },
   "outputs": [
    {
     "name": "stdout",
     "output_type": "stream",
     "text": [
      "......... init() called.\n",
      "......... init() called.\n",
      "......... init() called.\n",
      "......... init() called.\n",
      "......... init() called.\n",
      "......... init() called.\n",
      "......... init() called.\n",
      "......... init() called.\n",
      "......... init() called.\n",
      "......... init() called.\n",
      "......... init() called.\n",
      "......... init() called.\n",
      "......... init() called.\n",
      "......... init() called.\n",
      "......... init() called.\n",
      "......... init() called.\n",
      "......... init() called.\n",
      "......... init() called.\n",
      "......... init() called.\n",
      "......... init() called.\n",
      "......... init() called.\n",
      "......... init() called.\n"
     ]
    }
   ],
   "source": [
    "pca_svm = PCA(n_components=50, random_state=123)\n",
    "pipe_svm_smote = Pipeline([('imputing1', FillNumericalNa('period', ['stype', 'Region', 'countrycode'])),\n",
    "                     ('imputing2', FillNumericalNa('pcapacity', ['stype', 'Region', 'countrycode'])),\n",
    "                     ('imputing3', FillNumericalNa('private', ['stype', 'ssector', 'countrycode'])),\n",
    "                     ('imputing4', FillNumericalNa('physical', ['stype', 'ssector', 'countrycode'])),\n",
    "                     ('imputing5', FillNumericalNa('investment', ['stype', 'Region', 'countrycode'])),\n",
    "                     ('imputing6', FillNumericalNa('tax_as_GDP', ['Region'])),\n",
    "                     ('imputing7', FillNumericalNa('real_effective_change', ['Region'])),\n",
    "                     ('imputing8', FillNumericalNa('domestic_credit_to_private', ['Region'])),\n",
    "                     ('imputing9', FillNumericalNa('rule_of_law', ['Region'])),\n",
    "                     ('imputing10', FillNumericalNa('imports_as_GDP', ['Region'])),\n",
    "                     ('imputing11', FillNumericalNa('exports_as_GDP', ['Region'])),\n",
    "                     ('imputing12', FillNumericalNa('electric_consumption', ['Region'])),\n",
    "                     ('imputing13', FillNumericalNa('sponsor_number', ['countrycode', 'ssector'])),\n",
    "                     ('imputing14', FillCategoricalNa('GGC', ['countrycode', 'ssector'])),\n",
    "                     ('imputing15', FillCategoricalNa('lendingtype', ['countrycode', 'ssector'])),\n",
    "                     ('imputing16', FillCategoricalNa('PRS', ['countrycode', 'ssector'])),\n",
    "                     ('imputing17', FillCategoricalNa('BS', ['countrycode', 'ssector'])),\n",
    "                     ('imputing18', FillCategoricalNa('adminregion', ['Region'])),\n",
    "                     ('imputing19', FillCategoricalNa('incomelevel', ['Region'])),\n",
    "                     ('imputing20', FillCategoricalNa('foreign_country', ['countrycode', 'ssector'])),\n",
    "                     ('dropcolumn1', DropColumn(['countrycode'])),\n",
    "                     ('encoding', DummyEncoder()),\n",
    "                     ('scaler', col_transform),\n",
    "                     ('smote', smote),\n",
    "                     ('pca', pca_svm),\n",
    "                     ('model', svm.SVC(random_state=1, probability=True))\n",
    "                     ])"
   ]
  },
  {
   "cell_type": "code",
   "execution_count": 209,
   "metadata": {},
   "outputs": [
    {
     "name": "stdout",
     "output_type": "stream",
     "text": [
      "......... init() called.\n",
      "......... init() called.\n",
      "......... init() called.\n",
      "......... init() called.\n",
      "......... init() called.\n",
      "......... init() called.\n",
      "......... init() called.\n",
      "......... init() called.\n",
      "......... init() called.\n",
      "......... init() called.\n",
      "......... init() called.\n",
      "......... init() called.\n",
      "......... init() called.\n",
      "......... init() called.\n",
      "......... init() called.\n",
      "......... init() called.\n",
      "......... init() called.\n",
      "......... init() called.\n",
      "......... init() called.\n",
      "......... init() called.\n",
      "......... init() called.\n",
      "......... init() called.\n"
     ]
    }
   ],
   "source": [
    "pipe_svm_under = Pipeline([('imputing1', FillNumericalNa('period', ['stype', 'Region', 'countrycode'])),\n",
    "                     ('imputing2', FillNumericalNa('pcapacity', ['stype', 'Region', 'countrycode'])),\n",
    "                     ('imputing3', FillNumericalNa('private', ['stype', 'ssector', 'countrycode'])),\n",
    "                     ('imputing4', FillNumericalNa('physical', ['stype', 'ssector', 'countrycode'])),\n",
    "                     ('imputing5', FillNumericalNa('investment', ['stype', 'Region', 'countrycode'])),\n",
    "                     ('imputing6', FillNumericalNa('tax_as_GDP', ['Region'])),\n",
    "                     ('imputing7', FillNumericalNa('real_effective_change', ['Region'])),\n",
    "                     ('imputing8', FillNumericalNa('domestic_credit_to_private', ['Region'])),\n",
    "                     ('imputing9', FillNumericalNa('rule_of_law', ['Region'])),\n",
    "                     ('imputing10', FillNumericalNa('imports_as_GDP', ['Region'])),\n",
    "                     ('imputing11', FillNumericalNa('exports_as_GDP', ['Region'])),\n",
    "                     ('imputing12', FillNumericalNa('electric_consumption', ['Region'])),\n",
    "                     ('imputing13', FillNumericalNa('sponsor_number', ['countrycode', 'ssector'])),\n",
    "                     ('imputing14', FillCategoricalNa('GGC', ['countrycode', 'ssector'])),\n",
    "                     ('imputing15', FillCategoricalNa('lendingtype', ['countrycode', 'ssector'])),\n",
    "                     ('imputing16', FillCategoricalNa('PRS', ['countrycode', 'ssector'])),\n",
    "                     ('imputing17', FillCategoricalNa('BS', ['countrycode', 'ssector'])),\n",
    "                     ('imputing18', FillCategoricalNa('adminregion', ['Region'])),\n",
    "                     ('imputing19', FillCategoricalNa('incomelevel', ['Region'])),\n",
    "                     ('imputing20', FillCategoricalNa('foreign_country', ['countrycode', 'ssector'])),\n",
    "                     ('dropcolumn1', DropColumn(['countrycode'])),\n",
    "                     ('encoding', DummyEncoder()),\n",
    "                     ('scaler', col_transform),\n",
    "                     ('smote', undersample),\n",
    "                     ('pca', pca_svm),\n",
    "                     ('model', svm.SVC(random_state=1, probability=True))\n",
    "                     ])"
   ]
  },
  {
   "cell_type": "code",
   "execution_count": 210,
   "metadata": {
    "scrolled": true
   },
   "outputs": [
    {
     "name": "stdout",
     "output_type": "stream",
     "text": [
      "......... fit() called.\n",
      ".......... transform () called.\n",
      "......... fit() called.\n",
      ".......... transform () called.\n",
      "......... fit() called.\n",
      ".......... transform () called.\n",
      "......... fit() called.\n",
      ".......... transform () called.\n",
      "......... fit() called.\n",
      ".......... transform () called.\n",
      "......... fit() called.\n",
      ".......... transform () called.\n",
      "......... fit() called.\n",
      ".......... transform () called.\n",
      "......... fit() called.\n",
      ".......... transform () called.\n",
      "......... fit() called.\n",
      ".......... transform () called.\n",
      "......... fit() called.\n",
      ".......... transform () called.\n",
      "......... fit() called.\n",
      ".......... transform () called.\n",
      "......... fit() called.\n",
      ".......... transform () called.\n",
      "......... fit() called.\n",
      ".......... transform () called.\n",
      "......... fit() called.\n",
      ".......... transform () called.\n",
      "......... fit() called.\n",
      ".......... transform () called.\n",
      "......... fit() called.\n",
      ".......... transform () called.\n",
      "......... fit() called.\n",
      ".......... transform () called.\n",
      "......... fit() called.\n",
      ".......... transform () called.\n",
      "......... fit() called.\n",
      ".......... transform () called.\n",
      "......... fit() called.\n",
      ".......... transform () called.\n",
      "......... fit() called.\n",
      ".......... transform () called.\n",
      "......... fit() called.\n",
      ".......... transform () called.\n",
      ".......... transform () called.\n",
      ".......... transform () called.\n",
      ".......... transform () called.\n",
      ".......... transform () called.\n",
      ".......... transform () called.\n",
      ".......... transform () called.\n",
      ".......... transform () called.\n",
      ".......... transform () called.\n",
      ".......... transform () called.\n",
      ".......... transform () called.\n",
      ".......... transform () called.\n",
      ".......... transform () called.\n",
      ".......... transform () called.\n",
      ".......... transform () called.\n",
      ".......... transform () called.\n",
      ".......... transform () called.\n",
      ".......... transform () called.\n",
      ".......... transform () called.\n",
      ".......... transform () called.\n",
      ".......... transform () called.\n",
      ".......... transform () called.\n",
      ".......... transform () called.\n"
     ]
    }
   ],
   "source": [
    "pipe_svm_smote.fit(X_train, y_train)\n",
    "result_svm_smote = pipe_svm_smote.predict_proba(X_test)"
   ]
  },
  {
   "cell_type": "code",
   "execution_count": 211,
   "metadata": {
    "scrolled": true
   },
   "outputs": [
    {
     "name": "stdout",
     "output_type": "stream",
     "text": [
      "......... fit() called.\n",
      ".......... transform () called.\n",
      "......... fit() called.\n",
      ".......... transform () called.\n",
      "......... fit() called.\n",
      ".......... transform () called.\n",
      "......... fit() called.\n",
      ".......... transform () called.\n",
      "......... fit() called.\n",
      ".......... transform () called.\n",
      "......... fit() called.\n",
      ".......... transform () called.\n",
      "......... fit() called.\n",
      ".......... transform () called.\n",
      "......... fit() called.\n",
      ".......... transform () called.\n",
      "......... fit() called.\n",
      ".......... transform () called.\n",
      "......... fit() called.\n",
      ".......... transform () called.\n",
      "......... fit() called.\n",
      ".......... transform () called.\n",
      "......... fit() called.\n",
      ".......... transform () called.\n",
      "......... fit() called.\n",
      ".......... transform () called.\n",
      "......... fit() called.\n",
      ".......... transform () called.\n",
      "......... fit() called.\n",
      ".......... transform () called.\n",
      "......... fit() called.\n",
      ".......... transform () called.\n",
      "......... fit() called.\n",
      ".......... transform () called.\n",
      "......... fit() called.\n",
      ".......... transform () called.\n",
      "......... fit() called.\n",
      ".......... transform () called.\n",
      "......... fit() called.\n",
      ".......... transform () called.\n",
      "......... fit() called.\n",
      ".......... transform () called.\n",
      "......... fit() called.\n",
      ".......... transform () called.\n",
      ".......... transform () called.\n",
      ".......... transform () called.\n",
      ".......... transform () called.\n",
      ".......... transform () called.\n",
      ".......... transform () called.\n",
      ".......... transform () called.\n",
      ".......... transform () called.\n",
      ".......... transform () called.\n",
      ".......... transform () called.\n",
      ".......... transform () called.\n",
      ".......... transform () called.\n",
      ".......... transform () called.\n",
      ".......... transform () called.\n",
      ".......... transform () called.\n",
      ".......... transform () called.\n",
      ".......... transform () called.\n",
      ".......... transform () called.\n",
      ".......... transform () called.\n",
      ".......... transform () called.\n",
      ".......... transform () called.\n",
      ".......... transform () called.\n",
      ".......... transform () called.\n"
     ]
    }
   ],
   "source": [
    "pipe_svm_under.fit(X_train, y_train)\n",
    "result_svm_under = pipe_svm_under.predict_proba(X_test)"
   ]
  },
  {
   "cell_type": "code",
   "execution_count": 212,
   "metadata": {},
   "outputs": [
    {
     "data": {
      "image/png": "[encoded data removed]",
      "text/plain": [
       "<Figure size 576x576 with 1 Axes>"
      ]
     },
     "metadata": {
      "needs_background": "light"
     },
     "output_type": "display_data"
    }
   ],
   "source": [
    "plot_roc(y_test, result_svm_smote[:,1])"
   ]
  },
  {
   "cell_type": "code",
   "execution_count": 213,
   "metadata": {},
   "outputs": [
    {
     "data": {
      "image/png": "[encoded data removed]",
      "text/plain": [
       "<Figure size 576x576 with 1 Axes>"
      ]
     },
     "metadata": {
      "needs_background": "light"
     },
     "output_type": "display_data"
    }
   ],
   "source": [
    "plot_roc(y_test, result_svm_under[:,1])"
   ]
  },
  {
   "cell_type": "code",
   "execution_count": 214,
   "metadata": {},
   "outputs": [
    {
     "name": "stderr",
     "output_type": "stream",
     "text": [
      "No handles with labels found to put in legend.\n"
     ]
    },
    {
     "data": {
      "image/png": "[encoded data removed]",
      "text/plain": [
       "<Figure size 576x576 with 1 Axes>"
      ]
     },
     "metadata": {
      "needs_background": "light"
     },
     "output_type": "display_data"
    }
   ],
   "source": [
    "plot_recall_precision(y_test, result_svm_smote[:,1])"
   ]
  },
  {
   "cell_type": "code",
   "execution_count": 215,
   "metadata": {},
   "outputs": [
    {
     "data": {
      "text/plain": [
       "0.04410965857425685"
      ]
     },
     "execution_count": 215,
     "metadata": {},
     "output_type": "execute_result"
    }
   ],
   "source": [
    "svm_precision, svm_recall, _ = precision_recall_curve(y_test, result_svm_under[:,1])\n",
    "auc(svm_recall, svm_precision)"
   ]
  },
  {
   "cell_type": "code",
   "execution_count": 216,
   "metadata": {},
   "outputs": [
    {
     "data": {
      "text/plain": [
       "0.152961231776838"
      ]
     },
     "execution_count": 216,
     "metadata": {},
     "output_type": "execute_result"
    }
   ],
   "source": [
    "svm_precision, svm_recall, _ = precision_recall_curve(y_test, result_svm_smote[:,1])\n",
    "auc(svm_recall, svm_precision)"
   ]
  },
  {
   "cell_type": "code",
   "execution_count": 217,
   "metadata": {},
   "outputs": [
    {
     "name": "stdout",
     "output_type": "stream",
     "text": [
      "......... init() called.\n",
      "......... init() called.\n",
      "......... init() called.\n",
      "......... init() called.\n",
      "......... init() called.\n",
      "......... init() called.\n",
      "......... init() called.\n",
      "......... init() called.\n",
      "......... init() called.\n",
      "......... init() called.\n",
      "......... init() called.\n",
      "......... init() called.\n",
      "......... init() called.\n",
      "......... init() called.\n",
      "......... init() called.\n",
      "......... init() called.\n",
      "......... init() called.\n",
      "......... init() called.\n",
      "......... init() called.\n",
      "......... init() called.\n",
      "......... init() called.\n",
      "......... init() called.\n"
     ]
    }
   ],
   "source": [
    "pca_lr = PCA(n_components=50, random_state=123)\n",
    "pipe_lr_smote = Pipeline([('imputing1', FillNumericalNa('period', ['stype', 'Region', 'countrycode'])),\n",
    "                     ('imputing2', FillNumericalNa('pcapacity', ['stype', 'Region', 'countrycode'])),\n",
    "                     ('imputing3', FillNumericalNa('private', ['stype', 'ssector', 'countrycode'])),\n",
    "                     ('imputing4', FillNumericalNa('physical', ['stype', 'ssector', 'countrycode'])),\n",
    "                     ('imputing5', FillNumericalNa('investment', ['stype', 'Region', 'countrycode'])),\n",
    "                     ('imputing6', FillNumericalNa('tax_as_GDP', ['Region'])),\n",
    "                     ('imputing7', FillNumericalNa('real_effective_change', ['Region'])),\n",
    "                     ('imputing8', FillNumericalNa('domestic_credit_to_private', ['Region'])),\n",
    "                     ('imputing9', FillNumericalNa('rule_of_law', ['Region'])),\n",
    "                     ('imputing10', FillNumericalNa('imports_as_GDP', ['Region'])),\n",
    "                     ('imputing11', FillNumericalNa('exports_as_GDP', ['Region'])),\n",
    "                     ('imputing12', FillNumericalNa('electric_consumption', ['Region'])),\n",
    "                     ('imputing13', FillNumericalNa('sponsor_number', ['countrycode', 'ssector'])),\n",
    "                     ('imputing14', FillCategoricalNa('GGC', ['countrycode', 'ssector'])),\n",
    "                     ('imputing15', FillCategoricalNa('lendingtype', ['countrycode', 'ssector'])),\n",
    "                     ('imputing16', FillCategoricalNa('PRS', ['countrycode', 'ssector'])),\n",
    "                     ('imputing17', FillCategoricalNa('BS', ['countrycode', 'ssector'])),\n",
    "                     ('imputing18', FillCategoricalNa('adminregion', ['Region'])),\n",
    "                     ('imputing19', FillCategoricalNa('incomelevel', ['Region'])),\n",
    "                     ('imputing20', FillCategoricalNa('foreign_country', ['countrycode', 'ssector'])),\n",
    "                     ('dropcolumn1', DropColumn(['countrycode'])),\n",
    "                     ('encoding', DummyEncoder()),\n",
    "                     ('scaler', col_transform),\n",
    "                     ('smote', smote),\n",
    "                     ('pca', pca_lr),\n",
    "                     ('model', LogisticRegression(random_state=1))\n",
    "                     ])"
   ]
  },
  {
   "cell_type": "code",
   "execution_count": 218,
   "metadata": {},
   "outputs": [
    {
     "name": "stdout",
     "output_type": "stream",
     "text": [
      "......... init() called.\n",
      "......... init() called.\n",
      "......... init() called.\n",
      "......... init() called.\n",
      "......... init() called.\n",
      "......... init() called.\n",
      "......... init() called.\n",
      "......... init() called.\n",
      "......... init() called.\n",
      "......... init() called.\n",
      "......... init() called.\n",
      "......... init() called.\n",
      "......... init() called.\n",
      "......... init() called.\n",
      "......... init() called.\n",
      "......... init() called.\n",
      "......... init() called.\n",
      "......... init() called.\n",
      "......... init() called.\n",
      "......... init() called.\n",
      "......... init() called.\n",
      "......... init() called.\n"
     ]
    }
   ],
   "source": [
    "pipe_lr_under = Pipeline([('imputing1', FillNumericalNa('period', ['stype', 'Region', 'countrycode'])),\n",
    "                     ('imputing2', FillNumericalNa('pcapacity', ['stype', 'Region', 'countrycode'])),\n",
    "                     ('imputing3', FillNumericalNa('private', ['stype', 'ssector', 'countrycode'])),\n",
    "                     ('imputing4', FillNumericalNa('physical', ['stype', 'ssector', 'countrycode'])),\n",
    "                     ('imputing5', FillNumericalNa('investment', ['stype', 'Region', 'countrycode'])),\n",
    "                     ('imputing6', FillNumericalNa('tax_as_GDP', ['Region'])),\n",
    "                     ('imputing7', FillNumericalNa('real_effective_change', ['Region'])),\n",
    "                     ('imputing8', FillNumericalNa('domestic_credit_to_private', ['Region'])),\n",
    "                     ('imputing9', FillNumericalNa('rule_of_law', ['Region'])),\n",
    "                     ('imputing10', FillNumericalNa('imports_as_GDP', ['Region'])),\n",
    "                     ('imputing11', FillNumericalNa('exports_as_GDP', ['Region'])),\n",
    "                     ('imputing12', FillNumericalNa('electric_consumption', ['Region'])),\n",
    "                     ('imputing13', FillNumericalNa('sponsor_number', ['countrycode', 'ssector'])),\n",
    "                     ('imputing14', FillCategoricalNa('GGC', ['countrycode', 'ssector'])),\n",
    "                     ('imputing15', FillCategoricalNa('lendingtype', ['countrycode', 'ssector'])),\n",
    "                     ('imputing16', FillCategoricalNa('PRS', ['countrycode', 'ssector'])),\n",
    "                     ('imputing17', FillCategoricalNa('BS', ['countrycode', 'ssector'])),\n",
    "                     ('imputing18', FillCategoricalNa('adminregion', ['Region'])),\n",
    "                     ('imputing19', FillCategoricalNa('incomelevel', ['Region'])),\n",
    "                     ('imputing20', FillCategoricalNa('foreign_country', ['countrycode', 'ssector'])),\n",
    "                     ('dropcolumn1', DropColumn(['countrycode'])),\n",
    "                     ('encoding', DummyEncoder()),\n",
    "                     ('scaler', col_transform),\n",
    "                     ('smote', undersample),\n",
    "                     ('pca', pca_lr),\n",
    "                     ('model', LogisticRegression(random_state=1))\n",
    "                     ])"
   ]
  },
  {
   "cell_type": "code",
   "execution_count": 219,
   "metadata": {
    "scrolled": true
   },
   "outputs": [
    {
     "name": "stdout",
     "output_type": "stream",
     "text": [
      "......... fit() called.\n",
      ".......... transform () called.\n",
      "......... fit() called.\n",
      ".......... transform () called.\n",
      "......... fit() called.\n",
      ".......... transform () called.\n",
      "......... fit() called.\n",
      ".......... transform () called.\n",
      "......... fit() called.\n",
      ".......... transform () called.\n",
      "......... fit() called.\n",
      ".......... transform () called.\n",
      "......... fit() called.\n",
      ".......... transform () called.\n",
      "......... fit() called.\n",
      ".......... transform () called.\n",
      "......... fit() called.\n",
      ".......... transform () called.\n",
      "......... fit() called.\n",
      ".......... transform () called.\n",
      "......... fit() called.\n",
      ".......... transform () called.\n",
      "......... fit() called.\n",
      ".......... transform () called.\n",
      "......... fit() called.\n",
      ".......... transform () called.\n",
      "......... fit() called.\n",
      ".......... transform () called.\n",
      "......... fit() called.\n",
      ".......... transform () called.\n",
      "......... fit() called.\n",
      ".......... transform () called.\n",
      "......... fit() called.\n",
      ".......... transform () called.\n",
      "......... fit() called.\n",
      ".......... transform () called.\n",
      "......... fit() called.\n",
      ".......... transform () called.\n",
      "......... fit() called.\n",
      ".......... transform () called.\n",
      "......... fit() called.\n",
      ".......... transform () called.\n",
      "......... fit() called.\n",
      ".......... transform () called.\n",
      ".......... transform () called.\n",
      ".......... transform () called.\n",
      ".......... transform () called.\n",
      ".......... transform () called.\n",
      ".......... transform () called.\n",
      ".......... transform () called.\n",
      ".......... transform () called.\n",
      ".......... transform () called.\n",
      ".......... transform () called.\n",
      ".......... transform () called.\n",
      ".......... transform () called.\n",
      ".......... transform () called.\n",
      ".......... transform () called.\n",
      ".......... transform () called.\n",
      ".......... transform () called.\n",
      ".......... transform () called.\n",
      ".......... transform () called.\n",
      ".......... transform () called.\n",
      ".......... transform () called.\n",
      ".......... transform () called.\n",
      ".......... transform () called.\n",
      ".......... transform () called.\n"
     ]
    }
   ],
   "source": [
    "pipe_lr_smote.fit(X_train, y_train)\n",
    "result_lr_smote = pipe_lr_smote.predict_proba(X_test)"
   ]
  },
  {
   "cell_type": "code",
   "execution_count": 220,
   "metadata": {
    "scrolled": true
   },
   "outputs": [
    {
     "name": "stdout",
     "output_type": "stream",
     "text": [
      "......... fit() called.\n",
      ".......... transform () called.\n",
      "......... fit() called.\n",
      ".......... transform () called.\n",
      "......... fit() called.\n",
      ".......... transform () called.\n",
      "......... fit() called.\n",
      ".......... transform () called.\n",
      "......... fit() called.\n",
      ".......... transform () called.\n",
      "......... fit() called.\n",
      ".......... transform () called.\n",
      "......... fit() called.\n",
      ".......... transform () called.\n",
      "......... fit() called.\n",
      ".......... transform () called.\n",
      "......... fit() called.\n",
      ".......... transform () called.\n",
      "......... fit() called.\n",
      ".......... transform () called.\n",
      "......... fit() called.\n",
      ".......... transform () called.\n",
      "......... fit() called.\n",
      ".......... transform () called.\n",
      "......... fit() called.\n",
      ".......... transform () called.\n",
      "......... fit() called.\n",
      ".......... transform () called.\n",
      "......... fit() called.\n",
      ".......... transform () called.\n",
      "......... fit() called.\n",
      ".......... transform () called.\n",
      "......... fit() called.\n",
      ".......... transform () called.\n",
      "......... fit() called.\n",
      ".......... transform () called.\n",
      "......... fit() called.\n",
      ".......... transform () called.\n",
      "......... fit() called.\n",
      ".......... transform () called.\n",
      "......... fit() called.\n",
      ".......... transform () called.\n",
      "......... fit() called.\n",
      ".......... transform () called.\n",
      ".......... transform () called.\n",
      ".......... transform () called.\n",
      ".......... transform () called.\n",
      ".......... transform () called.\n",
      ".......... transform () called.\n",
      ".......... transform () called.\n",
      ".......... transform () called.\n",
      ".......... transform () called.\n",
      ".......... transform () called.\n",
      ".......... transform () called.\n",
      ".......... transform () called.\n",
      ".......... transform () called.\n",
      ".......... transform () called.\n",
      ".......... transform () called.\n",
      ".......... transform () called.\n",
      ".......... transform () called.\n",
      ".......... transform () called.\n",
      ".......... transform () called.\n",
      ".......... transform () called.\n",
      ".......... transform () called.\n",
      ".......... transform () called.\n",
      ".......... transform () called.\n"
     ]
    }
   ],
   "source": [
    "pipe_lr_under.fit(X_train, y_train)\n",
    "result_lr_under = pipe_lr_under.predict_proba(X_test)"
   ]
  },
  {
   "cell_type": "code",
   "execution_count": 222,
   "metadata": {},
   "outputs": [
    {
     "data": {
      "image/png": "[encoded data removed]",
      "text/plain": [
       "<Figure size 576x576 with 1 Axes>"
      ]
     },
     "metadata": {
      "needs_background": "light"
     },
     "output_type": "display_data"
    }
   ],
   "source": [
    "plot_roc(y_test, result_lr_smote[:,1])"
   ]
  },
  {
   "cell_type": "code",
   "execution_count": 221,
   "metadata": {},
   "outputs": [
    {
     "data": {
      "image/png": "[encoded data removed]",
      "text/plain": [
       "<Figure size 576x576 with 1 Axes>"
      ]
     },
     "metadata": {
      "needs_background": "light"
     },
     "output_type": "display_data"
    }
   ],
   "source": [
    "plot_roc(y_test, result_lr_under[:,1])"
   ]
  },
  {
   "cell_type": "code",
   "execution_count": 223,
   "metadata": {},
   "outputs": [
    {
     "data": {
      "text/plain": [
       "0.1695382063748025"
      ]
     },
     "execution_count": 223,
     "metadata": {},
     "output_type": "execute_result"
    }
   ],
   "source": [
    "lr_precision, lr_recall, _ = precision_recall_curve(y_test, result_lr_smote[:,1])\n",
    "auc(lr_recall, lr_precision)"
   ]
  },
  {
   "cell_type": "code",
   "execution_count": 224,
   "metadata": {},
   "outputs": [
    {
     "data": {
      "text/plain": [
       "0.2043401926671123"
      ]
     },
     "execution_count": 224,
     "metadata": {},
     "output_type": "execute_result"
    }
   ],
   "source": [
    "lr_precision, lr_recall, _ = precision_recall_curve(y_test, result_lr_under[:,1])\n",
    "auc(lr_recall, lr_precision)"
   ]
  },
  {
   "cell_type": "code",
   "execution_count": 235,
   "metadata": {},
   "outputs": [],
   "source": [
    "def plot_roc(y_true, y_pred):\n",
    "    fpr, tpr, thresholds = metrics.roc_curve(y_true, y_pred)\n",
    "    roc_auc = metrics.auc(fpr, tpr)\n",
    "    fig = plt.figure(figsize=(8, 8))\n",
    "    ax = fig.add_subplot(111)   \n",
    "    ax.plot(fpr, tpr, 'k', label = 'AUC = %0.2f' % roc_auc)\n",
    "    ax.set_xlabel(\"True Positive Rate\", fontsize=27, fontname='times new roman', labelpad=10)\n",
    "    ax.set_ylabel(\"False Positive Rate\", fontsize=27, fontname='times new roman', labelpad=4)\n",
    "    ax.legend(loc='lower right', frameon=False, prop={'family':'Times new roman', 'size':20})\n",
    "    ax.plot([0, 1], [0, 1],'r--')\n",
    "    ax.tick_params(axis='both', length=7, labelsize=25, width=1.5, color='black')\n",
    "    labels = ax.get_xticklabels() + ax.get_yticklabels()\n",
    "    [label.set_fontname('Times New Roman') for label in labels]\n",
    "    plt.axis('square')\n",
    "    plt.grid(True)\n",
    "    plt.xlim([0, 1])\n",
    "    plt.ylim([0, 1])\n",
    "    plt.subplots_adjust(left=0.14, right=0.96, top=0.96, bottom=0.14)\n",
    "    plt.savefig(r\"C:\\PPP\\Thesis\\Paper3\\ROC.png\", dpi=1000)\n",
    "\n",
    "def plot_recall_precision(y_true, y_pred):\n",
    "    fig = plt.figure(figsize=(8, 8))\n",
    "    ax = fig.add_subplot(111)   \n",
    "    precision, recall, thresholds = metrics.precision_recall_curve(y_true, y_pred)\n",
    "    ax.plot(recall, precision, 'k')\n",
    "    no_skill = y_true.sum()/len(y_true)\n",
    "    ax.plot([0, 1], [no_skill, no_skill], linestyle='--')\n",
    "    ax.set_xlabel(\"Recall\", fontsize=30, fontname='times new roman', labelpad=10)\n",
    "    ax.set_ylabel(\"Precision\", fontsize=30, fontname='times new roman', labelpad=4)\n",
    "    ax.legend(frameon=False, prop={'family':'Times new roman', 'size':23})\n",
    "    ax.tick_params(axis='both', length=7, labelsize=25, width=1.5, color='black')\n",
    "    labels = ax.get_xticklabels() + ax.get_yticklabels()\n",
    "    [label.set_fontname('Times New Roman') for label in labels]\n",
    "    plt.axis('square')\n",
    "    plt.grid(True)\n",
    "    plt.xlim([0, 1])\n",
    "    plt.ylim([0, 1])\n",
    "    plt.subplots_adjust(left=0.14, right=0.96, top=0.96, bottom=0.14)\n",
    "    plt.savefig(r\"C:\\PPP\\Thesis\\Paper3\\precision-recall.png\", dpi=1000)\n",
    "\n",
    "\n",
    "def plot_cm(labels, predictions, p):\n",
    "    cm = confusion_matrix(labels, predictions > p)\n",
    "    new_cm = np.array([[0, 0], [0, 0]])\n",
    "    new_cm[0, 0] = cm[1, 1]\n",
    "    new_cm[0, 1] = cm[0, 1]\n",
    "    new_cm[1, 0] = cm[1, 0]\n",
    "    new_cm[1, 1] = cm[0, 0]\n",
    "    \n",
    "    fig = plt.figure(figsize=(8, 8))\n",
    "    ax = fig.add_subplot(111)  \n",
    "\n",
    "    cmap = sns.cubehelix_palette(light=1, as_cmap=True)\n",
    "    sns.heatmap(new_cm, annot=True, fmt='.0f', cmap=cmap, annot_kws={\"size\":26, 'fontname': 'times new roman'}, cbar=False)\n",
    "\n",
    "    \n",
    "    plt.yticks([0.5,1.5], [ 'fail', 'success'],va='center')\n",
    "    plt.xticks([0.5,1.5], [ 'fail', 'success'],va='center')\n",
    "    \n",
    "    ax.set_xlabel(\"True label\", fontsize=30, fontname='times new roman')\n",
    "    ax.set_ylabel(\"Predicted result\", fontsize=30, fontname='times new roman')\n",
    "    \n",
    "    ax.tick_params(axis='x', pad=10)\n",
    "    ax.tick_params(axis='y', pad=10)\n",
    "    ax.tick_params(axis='both', length=0, labelsize=25, color='black')\n",
    "    labels = ax.get_xticklabels() + ax.get_yticklabels()\n",
    "    [label.set_fontname('Times New Roman') for label in labels]\n",
    "    plt.subplots_adjust(left=0.14, right=0.96, top=0.96, bottom=0.14)\n",
    "    plt.savefig(r\"C:\\PPP\\Thesis\\Paper3\\confusion matrix.png\", dpi=1000)\n",
    "    \n",
    "    \n",
    "def plot_threshold_graph(y_true, y_pred):\n",
    "    precision, recall, thresholds = metrics.precision_recall_curve(y_true, y_pred)\n",
    "    precision = precision[:-1]\n",
    "    recall = recall[:-1]\n",
    "    f1_score = 2*precision*recall/(recall + precision)\n",
    "    plt.figure(figsize=(8,5))\n",
    "    plt.plot(thresholds, precision, 'k')\n",
    "    plt.plot(thresholds, recall,'r')\n",
    "    plt.plot(thresholds, f1_score, 'y')"
   ]
  },
  {
   "cell_type": "code",
   "execution_count": 234,
   "metadata": {},
   "outputs": [
    {
     "data": {
      "image/png": "[encoded data removed]",
      "text/plain": [
       "<Figure size 576x576 with 1 Axes>"
      ]
     },
     "metadata": {
      "needs_background": "light"
     },
     "output_type": "display_data"
    }
   ],
   "source": [
    "fpr1, tpr1, thresholds1 = metrics.roc_curve(y_test, result_rf_smote[:, 1])\n",
    "roc_auc1 = metrics.auc(fpr1, tpr1)\n",
    "\n",
    "fpr2, tpr2, thresholds2 = metrics.roc_curve(y_test, result_rf_under[:, 1])\n",
    "roc_auc2 = metrics.auc(fpr2, tpr2)\n",
    "\n",
    "fig = plt.figure(figsize=(8, 8))\n",
    "ax = fig.add_subplot(111)   \n",
    "ax.plot(fpr1, tpr1, 'k-', label = 'AUC (SMOTE) = %0.2f' % roc_auc1)\n",
    "ax.plot(fpr2, tpr2, 'k-.', label = 'AUC (Undersampling) = %0.2f' % roc_auc2)\n",
    "ax.set_xlabel(\"False Positive Rate\", fontsize=30, fontname='times new roman', labelpad=10)\n",
    "ax.set_ylabel(\"True Positive Rate\", fontsize=30, fontname='times new roman', labelpad=4)\n",
    "ax.legend(loc='lower right', frameon=False, prop={'family':'Times new roman', 'size':23})\n",
    "ax.plot([0, 1], [0, 1],'r--')\n",
    "ax.tick_params(axis='both', length=7, labelsize=25, width=1.5, color='black')\n",
    "labels = ax.get_xticklabels() + ax.get_yticklabels()\n",
    "[label.set_fontname('Times New Roman') for label in labels]\n",
    "plt.axis('square')\n",
    "plt.grid(True)\n",
    "plt.xlim([0, 1])\n",
    "plt.ylim([0, 1])\n",
    "plt.subplots_adjust(left=0.14, right=0.96, top=0.96, bottom=0.14)"
   ]
  },
  {
   "cell_type": "code",
   "execution_count": null,
   "metadata": {},
   "outputs": [],
   "source": []
  }
 ],
 "metadata": {
  "kernelspec": {
   "display_name": "Python 3",
   "language": "python",
   "name": "python3"
  },
  "language_info": {
   "codemirror_mode": {
    "name": "ipython",
    "version": 3
   },
   "file_extension": ".py",
   "mimetype": "text/x-python",
   "name": "python",
   "nbconvert_exporter": "python",
   "pygments_lexer": "ipython3",
   "version": "3.7.4"
  }
 },
 "nbformat": 4,
 "nbformat_minor": 2
}
