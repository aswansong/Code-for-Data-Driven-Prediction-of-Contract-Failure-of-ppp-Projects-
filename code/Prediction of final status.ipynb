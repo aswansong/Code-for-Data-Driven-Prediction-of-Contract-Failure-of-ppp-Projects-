{
 "cells": [
  {
   "cell_type": "code",
   "execution_count": 1,
   "metadata": {},
   "outputs": [],
   "source": [
    "import pandas as pd\n",
    "import numpy as np"
   ]
  },
  {
   "cell_type": "code",
   "execution_count": 2,
   "metadata": {},
   "outputs": [],
   "source": [
    "#1.PPI database\n",
    "PPP_data = pd.read_csv(r\"C:\\PPP\\Thesis\\Paper3\\Database\\PPP_Projects_Total.csv\")"
   ]
  },
  {
   "cell_type": "code",
   "execution_count": 3,
   "metadata": {},
   "outputs": [],
   "source": [
    "#2.GDP per capita\n",
    "GDP_per_capita = pd.read_csv(r\"C:\\PPP\\Thesis\\Paper3\\Database\\GDP per Capita.csv\")\n",
    "#3.Tax as GDP\n",
    "tax_as_GDP = pd.read_csv(r\"C:\\PPP\\Thesis\\Paper3\\Database\\Tax as GDP.csv\")\n",
    "#4.GDP deflator(inflation rate)\n",
    "GDP_deflator = pd.read_csv(r\"C:\\PPP\\Thesis\\Paper3\\Database\\GDP deflator.csv\")\n",
    "#5.life expectnacy\n",
    "life_expectnacy = pd.read_csv(r\"C:\\PPP\\Thesis\\Paper3\\Database\\Life expectnacy.csv\")\n",
    "#6.real effective change\n",
    "real_effective_change = pd.read_csv(r\"C:\\PPP\\Thesis\\Paper3\\Database\\Real effect change.csv\")\n",
    "#7.electric consumption\n",
    "electric_consumption = pd.read_csv(r\"C:\\PPP\\Thesis\\Paper3\\Database\\Electric consumption.csv\")\n",
    "#8.domestic credit to private\n",
    "domestic_credit_to_private = pd.read_csv(r\"C:\\PPP\\Thesis\\Paper3\\Database\\Domestic credit to private.csv\")\n",
    "#9.Import as GDP\n",
    "imports_as_GDP = pd.read_csv(r\"C:\\PPP\\Thesis\\Paper3\\Database\\Imports as GDP.csv\")\n",
    "#10.Export as GDP\n",
    "exports_as_GDP = pd.read_csv(r\"C:\\PPP\\Thesis\\Paper3\\Database\\Exports as GDP.csv\")\n",
    "#11.Control of corruption\n",
    "control_of_corruption = pd.read_csv(r\"C:\\PPP\\Thesis\\Paper3\\Database\\Control of corruption.csv\")\n",
    "#12.Government of effectiveness\n",
    "government_effectiveness = pd.read_csv(r\"C:\\PPP\\Thesis\\Paper3\\Database\\Government effectiveness.csv\")\n",
    "#13.Political stability\n",
    "political_stability = pd.read_csv(r\"C:\\PPP\\Thesis\\Paper3\\Database\\Political Stability and Absence of Violence.csv\")\n",
    "#14.regulatory quality\n",
    "regulatory_quality = pd.read_csv(r\"C:\\PPP\\Thesis\\Paper3\\Database\\Regulatory quality.csv\")\n",
    "#15.Rule of law\n",
    "rule_of_law = pd.read_csv(r\"C:\\PPP\\Thesis\\Paper3\\Database\\Rule of law.csv\")\n",
    "#16.voice and accountability\n",
    "voice_and_accountability = pd.read_csv(r\"C:\\PPP\\Thesis\\Paper3\\Database\\Voice and accountability.csv\")"
   ]
  },
  {
   "cell_type": "code",
   "execution_count": 4,
   "metadata": {},
   "outputs": [],
   "source": [
    "dataset = [GDP_per_capita, tax_as_GDP, GDP_deflator, life_expectnacy, real_effective_change,\n",
    "           electric_consumption, domestic_credit_to_private, imports_as_GDP, exports_as_GDP, control_of_corruption,\n",
    "           government_effectiveness, political_stability, regulatory_quality, rule_of_law, voice_and_accountability]\n",
    "\n",
    "dataset_name = ['GDP_per_capita', 'tax_as_GDP', 'GDP_deflator', 'life_expectnacy', 'real_effective_change',\n",
    "                'electric_consumption', 'domestic_credit_to_private', 'imports_as_GDP', 'exports_as_GDP', 'control_of_corruption',\n",
    "                'government_effectiveness', 'political_stability', 'regulatory_quality', 'rule_of_law', 'voice_and_accountability']"
   ]
  },
  {
   "cell_type": "code",
   "execution_count": 5,
   "metadata": {},
   "outputs": [],
   "source": [
    "def process_data(new_data):\n",
    "    new_data.drop(columns=['Series Name', 'Series Code', 'Country Name'], inplace=True)\n",
    "    new_data.set_index('Country Code', inplace=True)\n",
    "    new_data.dropna(how='all', inplace=True)\n",
    "    new_data.columns = [name.split(' ')[0] for name in list(new_data.columns)]\n",
    "\n",
    "for data in dataset:\n",
    "    process_data(data)"
   ]
  },
  {
   "cell_type": "code",
   "execution_count": 6,
   "metadata": {},
   "outputs": [],
   "source": [
    "def meltdata(raw_data, column_name):\n",
    "    new_data = pd.melt(raw_data.reset_index(), \n",
    "                       id_vars=['Country Code'], \n",
    "                       var_name=['Year'],\n",
    "                       value_vars=raw_data.columns,\n",
    "                       value_name=column_name)\n",
    "    new_data.Year = new_data.Year.astype('int64', copy=False)\n",
    "    return new_data\n",
    "\n",
    "for i,name in zip(np.arange(len(dataset)), dataset_name):\n",
    "    dataset[i] = meltdata(dataset[i], name).copy()\n",
    "    dataset[i].rename(columns={'Country Code': 'countrycode', 'Year': 'IY'}, inplace=True)"
   ]
  },
  {
   "cell_type": "code",
   "execution_count": 7,
   "metadata": {},
   "outputs": [],
   "source": [
    "for data in dataset:\n",
    "    PPP_data= PPP_data.merge(data, left_on=['countrycode', 'IY'], right_on=['countrycode', 'IY'], how='left')"
   ]
  },
  {
   "cell_type": "code",
   "execution_count": 8,
   "metadata": {},
   "outputs": [],
   "source": [
    "float_value = ['GDP_per_capita', 'tax_as_GDP', 'GDP_deflator', 'life_expectnacy', 'real_effective_change',\n",
    "               'electric_consumption', 'domestic_credit_to_private', 'imports_as_GDP', 'exports_as_GDP', 'control_of_corruption',\n",
    "               'government_effectiveness', 'political_stability', 'regulatory_quality', 'rule_of_law', 'voice_and_accountability']\n",
    "nominal_value = ['Region', 'IDA', 'type', 'stype', 'sector',\n",
    "                 'Segment', 'UP', 'PublicDisclosure', 'shareborder', 'region',\n",
    "                 'PRS', 'Renewables', 'MLS', 'GGC','lendingtype']\n",
    "ordinal_value = ['incomelevel']\n",
    "float_value_2 = ['period', 'realphysicalassets', 'investment_real', 'GDP', 'population', \n",
    "                 'CPI2019', 'bordercountries', 'private', 'physical', 'period',\n",
    "                 'investment', 'pcapacity']\n",
    "PPP_data.drop(columns=['bid_crit', 'Description', 'incomelevelname', 'lendingtypename', 'regionname',\n",
    "                       'adminregionname', 'BS', 'income', 'TIGS','ssector',\n",
    "                       'PCO', 'FCY', 'country', 'adminregion'], inplace=True)\n",
    "\n",
    "PPP_data.replace('..', np.nan, inplace=True)\n",
    "\n",
    "PPP_data.replace({'status_n': {'Cancelled': 'fail', 'Distressed': 'fail', 'Active': 'success', 'Concluded': 'success'}}, inplace=True)\n",
    "\n",
    "for float_column in float_value:\n",
    "    PPP_data[float_column] = PPP_data[float_column].astype(float)"
   ]
  },
  {
   "cell_type": "code",
   "execution_count": 9,
   "metadata": {},
   "outputs": [
    {
     "data": {
      "text/plain": [
       "(7096, 45)"
      ]
     },
     "execution_count": 9,
     "metadata": {},
     "output_type": "execute_result"
    }
   ],
   "source": [
    "PPP_data.shape"
   ]
  },
  {
   "cell_type": "code",
   "execution_count": null,
   "metadata": {},
   "outputs": [],
   "source": []
  },
  {
   "cell_type": "code",
   "execution_count": 443,
   "metadata": {
    "scrolled": true
   },
   "outputs": [],
   "source": [
    "#begin to resample\n",
    "from sklearn.utils import resample\n",
    "PPP_majority = PPP_data[PPP_data.status_n=='success']\n",
    "PPP_minority = PPP_data[PPP_data.status_n=='fail']\n",
    "\n",
    "PPP_minority_upsampled = resample(PPP_minority, \n",
    "                                 replace=True,\n",
    "                                 n_samples=PPP_majority.shape[0],\n",
    "                                 random_state=123)\n",
    "upsampled_PPP = pd.concat([PPP_majority, PPP_minority_upsampled])"
   ]
  },
  {
   "cell_type": "code",
   "execution_count": 520,
   "metadata": {},
   "outputs": [],
   "source": [
    "upsampled_PPP = PPP_data"
   ]
  },
  {
   "cell_type": "code",
   "execution_count": 521,
   "metadata": {},
   "outputs": [
    {
     "name": "stderr",
     "output_type": "stream",
     "text": [
      "C:\\Anaconda\\lib\\site-packages\\pandas\\core\\indexing.py:494: SettingWithCopyWarning: \n",
      "A value is trying to be set on a copy of a slice from a DataFrame.\n",
      "Try using .loc[row_indexer,col_indexer] = value instead\n",
      "\n",
      "See the caveats in the documentation: http://pandas.pydata.org/pandas-docs/stable/user_guide/indexing.html#returning-a-view-versus-a-copy\n",
      "  self.obj[item] = s\n"
     ]
    }
   ],
   "source": [
    "#split the data\n",
    "from sklearn.model_selection import train_test_split\n",
    "from sklearn.preprocessing import LabelEncoder\n",
    "from sklearn.preprocessing import OrdinalEncoder\n",
    "\n",
    "X = upsampled_PPP[upsampled_PPP.columns[upsampled_PPP.columns!='status_n']]\n",
    "y = upsampled_PPP['status_n']\n",
    "#income value is ordinal value\n",
    "mapper = {'LIC': 1, 'HIC': 2, 'LMC': 3, 'UMC': 4, np.nan: 0}\n",
    "X.loc[:, 'incomelevel'] = X.incomelevel.map(mapper)\n",
    "\n",
    "y = LabelEncoder().fit_transform(y)"
   ]
  },
  {
   "cell_type": "code",
   "execution_count": 522,
   "metadata": {},
   "outputs": [
    {
     "data": {
      "text/plain": [
       "array(['Federal', nan, 'Local', 'State/Provincial'], dtype=object)"
      ]
     },
     "execution_count": 522,
     "metadata": {},
     "output_type": "execute_result"
    }
   ],
   "source": [
    "X_train.GGC.unique()"
   ]
  },
  {
   "cell_type": "code",
   "execution_count": 523,
   "metadata": {},
   "outputs": [],
   "source": [
    "X_train, X_test, y_train, y_test = train_test_split(X, y, test_size=0.25, random_state=123)"
   ]
  },
  {
   "cell_type": "code",
   "execution_count": 529,
   "metadata": {},
   "outputs": [
    {
     "data": {
      "text/plain": [
       "1701"
      ]
     },
     "execution_count": 529,
     "metadata": {},
     "output_type": "execute_result"
    }
   ],
   "source": [
    "y_test.sum()"
   ]
  },
  {
   "cell_type": "code",
   "execution_count": 530,
   "metadata": {},
   "outputs": [],
   "source": [
    "#first fillna for training dataset based on country, if some countries are non, then fill with the mode in current column, the same for test dataset.\n",
    "def fillna_for_nominal(column_name, train_dataset, test_dataset):\n",
    "    train_data = train_dataset.copy()\n",
    "    test_data = test_dataset.copy()\n",
    "    mode_in_train = train_data.groupby('countrycode')[column_name].agg(pd.Series.mode).to_frame()\n",
    "    for index, row in mode_in_train.iterrows():\n",
    "        if type(row[column_name]) == np.ndarray:\n",
    "            mode_in_train.loc[index, column_name] = train_data[column_name].mode()[0]\n",
    "    countrycode_in_train = train_data.countrycode.unique()\n",
    "    countrycode_in_test = train_data.countrycode.unique()\n",
    "    \n",
    "    for country in countrycode_in_train:\n",
    "        train_data.loc[train_data.countrycode==country, column_name] = train_data.loc[train_data.countrycode==country, column_name].fillna(mode_in_train.loc[country, column_name])\n",
    "\n",
    "    for country in countrycode_in_test:\n",
    "        if country in countrycode_in_train:\n",
    "            test_data.loc[test_data.countrycode==country, column_name] = test_data.loc[test_data.countrycode==country, column_name].fillna(mode_in_train.loc[country, column_name])\n",
    "    test_data.loc[test_data[column_name].isnull(), column_name] = test_data.loc[test_data[column_name].isnull(), column_name].fillna(test_data[column_name].mode()[0])\n",
    "    return train_data, test_data"
   ]
  },
  {
   "cell_type": "code",
   "execution_count": 531,
   "metadata": {},
   "outputs": [],
   "source": [
    "X_new_train = X_train.copy()\n",
    "X_new_test = X_test.copy()\n",
    "nominal_list = ['GGC', 'PRS', 'lendingtype']\n",
    "for name in nominal_list:\n",
    "    X_new_train, X_new_test = fillna_for_nominal(name, X_new_train, X_new_test)"
   ]
  },
  {
   "cell_type": "code",
   "execution_count": 532,
   "metadata": {},
   "outputs": [],
   "source": [
    "def fillna_for_float(column_name, train_dataset, test_dataset):\n",
    "    train_data = train_dataset.copy()\n",
    "    test_data = test_dataset.copy()\n",
    "    mean_in_train = train_data.groupby('countrycode')[column_name].agg(pd.Series.mean).to_frame()\n",
    "    for index, row in mean_in_train.iterrows():\n",
    "        mean_in_train.loc[index, column_name] = train_data[column_name].mean()\n",
    "    countrycode_in_train = train_data.countrycode.unique()\n",
    "    countrycode_in_test = train_data.countrycode.unique()\n",
    "    \n",
    "    for country in countrycode_in_train:\n",
    "        train_data.loc[train_data.countrycode==country, column_name] = train_data.loc[train_data.countrycode==country, column_name].fillna(mean_in_train.loc[country, column_name])\n",
    "\n",
    "    for country in countrycode_in_test:\n",
    "        if country in countrycode_in_train:\n",
    "            test_data.loc[test_data.countrycode==country, column_name] = test_data.loc[test_data.countrycode==country, column_name].fillna(mean_in_train.loc[country, column_name])\n",
    "    test_data.loc[test_data[column_name].isnull(), column_name] = test_data.loc[test_data[column_name].isnull(), column_name].fillna(test_data[column_name].mean())\n",
    "    return train_data, test_data"
   ]
  },
  {
   "cell_type": "code",
   "execution_count": 533,
   "metadata": {},
   "outputs": [],
   "source": [
    "for name in float_value:\n",
    "    X_new_train, X_new_test = fillna_for_float(name, X_new_train, X_new_test)"
   ]
  },
  {
   "cell_type": "code",
   "execution_count": 534,
   "metadata": {},
   "outputs": [],
   "source": [
    "for name in float_value_2:\n",
    "    X_new_train, X_new_test = fillna_for_float(name, X_new_train, X_new_test)"
   ]
  },
  {
   "cell_type": "code",
   "execution_count": 474,
   "metadata": {},
   "outputs": [
    {
     "data": {
      "text/plain": [
       "(13640, 44)"
      ]
     },
     "execution_count": 474,
     "metadata": {},
     "output_type": "execute_result"
    }
   ],
   "source": [
    "combine_dataset.shape"
   ]
  },
  {
   "cell_type": "code",
   "execution_count": 535,
   "metadata": {},
   "outputs": [],
   "source": [
    "train_objs_num = len(X_new_train)\n",
    "combine_dataset = pd.concat(objs=[X_new_train, X_new_test], axis=0)\n",
    "dataset_preprocessed = pd.get_dummies(combine_dataset, columns=nominal_value)\n",
    "X_new_train = dataset_preprocessed[:train_objs_num]\n",
    "X_new_test = dataset_preprocessed[train_objs_num:]"
   ]
  },
  {
   "cell_type": "code",
   "execution_count": 536,
   "metadata": {},
   "outputs": [
    {
     "name": "stderr",
     "output_type": "stream",
     "text": [
      "C:\\Anaconda\\lib\\site-packages\\pandas\\core\\frame.py:4102: SettingWithCopyWarning: \n",
      "A value is trying to be set on a copy of a slice from a DataFrame\n",
      "\n",
      "See the caveats in the documentation: http://pandas.pydata.org/pandas-docs/stable/user_guide/indexing.html#returning-a-view-versus-a-copy\n",
      "  errors=errors,\n"
     ]
    }
   ],
   "source": [
    "X_new_train.drop(columns=['IY', 'countrycode'], inplace=True)\n",
    "X_new_test.drop(columns=['IY', 'countrycode'], inplace=True)"
   ]
  },
  {
   "cell_type": "code",
   "execution_count": 487,
   "metadata": {},
   "outputs": [],
   "source": [
    "X_new_test, X_new_validation, y_test, y_validation = train_test_split(X_new_test, y_test, test_size=0.25, random_state=123)\n"
   ]
  },
  {
   "cell_type": "code",
   "execution_count": 537,
   "metadata": {},
   "outputs": [],
   "source": [
    "from sklearn.preprocessing import StandardScaler\n",
    "scaler = StandardScaler()\n",
    "X_new_train = scaler.fit_transform(X_new_train.values)\n",
    "\n",
    "X_new_test = scaler.transform(X_new_test.values)"
   ]
  },
  {
   "cell_type": "code",
   "execution_count": 538,
   "metadata": {},
   "outputs": [
    {
     "data": {
      "text/plain": [
       "RandomForestClassifier(bootstrap=True, class_weight=None, criterion='gini',\n",
       "                       max_depth=None, max_features='auto', max_leaf_nodes=None,\n",
       "                       min_impurity_decrease=0.0, min_impurity_split=None,\n",
       "                       min_samples_leaf=1, min_samples_split=2,\n",
       "                       min_weight_fraction_leaf=0.0, n_estimators=200,\n",
       "                       n_jobs=None, oob_score=False, random_state=1, verbose=0,\n",
       "                       warm_start=False)"
      ]
     },
     "execution_count": 538,
     "metadata": {},
     "output_type": "execute_result"
    }
   ],
   "source": [
    "from sklearn.ensemble import RandomForestClassifier\n",
    "clf = RandomForestClassifier(n_estimators=200, random_state=1)\n",
    "clf.fit(X_new_train, y_train)"
   ]
  },
  {
   "cell_type": "code",
   "execution_count": 539,
   "metadata": {},
   "outputs": [
    {
     "data": {
      "text/plain": [
       "array([[ 2.79565829e+00,  4.30749113e-01, -1.64468318e-01, ...,\n",
       "        -1.72623178e-01,  3.72369733e+00, -3.06656145e-02],\n",
       "       [ 0.00000000e+00,  4.30749113e-01, -3.89177131e-01, ...,\n",
       "         5.79296483e+00, -2.68550291e-01, -3.06656145e-02],\n",
       "       [-1.71254129e+00, -8.56301633e-16, -2.75570547e-01, ...,\n",
       "        -1.72623178e-01,  3.72369733e+00, -3.06656145e-02],\n",
       "       ...,\n",
       "       [ 5.41558501e-01,  4.30749113e-01, -7.76487368e-16, ...,\n",
       "        -1.72623178e-01, -2.68550291e-01, -3.06656145e-02],\n",
       "       [ 0.00000000e+00,  4.30749113e-01, -3.59580225e-01, ...,\n",
       "        -1.72623178e-01, -2.68550291e-01, -3.06656145e-02],\n",
       "       [ 5.41558501e-01,  4.30749113e-01, -7.76487368e-16, ...,\n",
       "        -1.72623178e-01, -2.68550291e-01, -3.06656145e-02]])"
      ]
     },
     "execution_count": 539,
     "metadata": {},
     "output_type": "execute_result"
    }
   ],
   "source": [
    "X_new_test"
   ]
  },
  {
   "cell_type": "code",
   "execution_count": 478,
   "metadata": {},
   "outputs": [],
   "source": [
    "import matplotlib.pyplot as plt\n",
    "def plot_roc(y_true, y_pred):\n",
    "    fpr, tpr, thresholds = metrics.roc_curve(y_true, y_pred)\n",
    "    roc_auc = metrics.auc(fpr, tpr)\n",
    "    plt.title('Receiver Operating Characteristic')\n",
    "    plt.plot(fpr, tpr, 'k', label = 'AUC = %0.2f' % roc_auc)\n",
    "    plt.legend(loc = 'lower right')\n",
    "    plt.plot([0, 1], [0, 1],'r--')\n",
    "    plt.axis('square')\n",
    "    plt.grid(True)\n",
    "    plt.xlim([0, 1])\n",
    "    plt.ylim([0, 1])\n",
    "    plt.ylabel('True Positive Rate')\n",
    "    plt.xlabel('False Positive Rate')\n",
    "    return (fpr, tpr, thresholds)"
   ]
  },
  {
   "cell_type": "code",
   "execution_count": 540,
   "metadata": {},
   "outputs": [],
   "source": [
    "from sklearn.model_selection import cross_validate, cross_val_predict\n",
    "from sklearn.metrics import confusion_matrix, roc_curve\n",
    "from sklearn import metrics\n",
    "\n",
    "pred = cross_val_predict(clf,\n",
    "                        X_new_test,\n",
    "                        y_test,\n",
    "                        method='predict_proba',\n",
    "                        cv=5)"
   ]
  },
  {
   "cell_type": "code",
   "execution_count": 541,
   "metadata": {},
   "outputs": [
    {
     "data": {
      "text/plain": [
       "(array([0.        , 0.04109589, 0.04109589, 0.06849315, 0.06849315,\n",
       "        0.06849315, 0.09589041, 0.09589041, 0.09589041, 0.09589041,\n",
       "        0.10958904, 0.10958904, 0.10958904, 0.10958904, 0.12328767,\n",
       "        0.12328767, 0.15068493, 0.15068493, 0.16438356, 0.16438356,\n",
       "        0.20547945, 0.23287671, 0.23287671, 0.23287671, 0.24657534,\n",
       "        0.24657534, 0.24657534, 0.2739726 , 0.2739726 , 0.28767123,\n",
       "        0.31506849, 0.31506849, 0.31506849, 0.32876712, 0.34246575,\n",
       "        0.36986301, 0.43835616, 0.43835616, 0.43835616, 0.43835616,\n",
       "        0.43835616, 0.43835616, 0.45205479, 0.45205479, 0.46575342,\n",
       "        0.46575342, 0.49315068, 0.50684932, 0.52054795, 0.53424658,\n",
       "        0.53424658, 0.64383562, 0.64383562, 0.64383562, 0.65753425,\n",
       "        0.65753425, 0.67123288, 0.67123288, 0.68493151, 0.68493151,\n",
       "        0.68493151, 0.68493151, 0.69863014, 0.71232877, 0.7260274 ,\n",
       "        0.73972603, 0.73972603, 0.73972603, 0.76712329, 0.78082192,\n",
       "        0.79452055, 0.80821918, 0.80821918, 0.80821918, 0.82191781,\n",
       "        0.8630137 , 0.8630137 , 0.87671233, 0.89041096, 0.90410959,\n",
       "        0.90410959, 0.90410959, 0.90410959, 0.90410959, 0.90410959,\n",
       "        0.90410959, 0.90410959, 0.90410959, 0.91780822, 0.91780822,\n",
       "        0.91780822, 0.91780822, 0.93150685, 0.93150685, 0.94520548,\n",
       "        0.94520548, 0.94520548, 0.95890411, 0.95890411, 0.97260274,\n",
       "        0.97260274, 0.98630137, 0.98630137, 1.        , 1.        ]),\n",
       " array([0.        , 0.37801293, 0.37918871, 0.5196943 , 0.52087008,\n",
       "        0.52322163, 0.59141681, 0.59259259, 0.63844797, 0.63962375,\n",
       "        0.67960024, 0.68018812, 0.70311581, 0.70487948, 0.72839506,\n",
       "        0.72898295, 0.75249853, 0.7654321 , 0.78248089, 0.78306878,\n",
       "        0.79423868, 0.8042328 , 0.81657848, 0.81716637, 0.82833627,\n",
       "        0.8377425 , 0.83833039, 0.84420929, 0.84479718, 0.85361552,\n",
       "        0.86125808, 0.87066432, 0.8712522 , 0.87595532, 0.88124633,\n",
       "        0.88594944, 0.89124045, 0.89594356, 0.8994709 , 0.90770135,\n",
       "        0.90828924, 0.91181658, 0.91416814, 0.91887125, 0.91887125,\n",
       "        0.92416226, 0.9271017 , 0.9271017 , 0.92886537, 0.9329806 ,\n",
       "        0.93592005, 0.93944738, 0.94121105, 0.94356261, 0.94532628,\n",
       "        0.94650206, 0.94826573, 0.94885362, 0.95061728, 0.95120517,\n",
       "        0.95473251, 0.95884774, 0.96002352, 0.96002352, 0.96061141,\n",
       "        0.96237507, 0.96413874, 0.96472663, 0.96531452, 0.96707819,\n",
       "        0.96825397, 0.97001764, 0.97119342, 0.97236919, 0.97295708,\n",
       "        0.97413286, 0.97472075, 0.97707231, 0.9776602 , 0.97883598,\n",
       "        0.98059965, 0.98118754, 0.98236332, 0.98353909, 0.98530276,\n",
       "        0.98765432, 0.9888301 , 0.98941799, 0.98941799, 0.99000588,\n",
       "        0.99118166, 0.99176955, 0.99176955, 0.99294533, 0.99294533,\n",
       "        0.99353322, 0.99470899, 0.99470899, 0.99529688, 0.99529688,\n",
       "        0.99823633, 0.99823633, 0.99941211, 0.99941211, 1.        ]),\n",
       " array([2.        , 1.        , 0.9975    , 0.995     , 0.99375   ,\n",
       "        0.99125   , 0.99      , 0.98557143, 0.985     , 0.9825    ,\n",
       "        0.98      , 0.97666667, 0.975     , 0.97083333, 0.97      ,\n",
       "        0.9675    , 0.965     , 0.96      , 0.955     , 0.95041667,\n",
       "        0.95      , 0.945     , 0.94      , 0.93875   , 0.935     ,\n",
       "        0.93      , 0.92958333, 0.925     , 0.9225    , 0.92      ,\n",
       "        0.915     , 0.91      , 0.90891667, 0.905     , 0.9       ,\n",
       "        0.895     , 0.89      , 0.885     , 0.88      , 0.87      ,\n",
       "        0.86966667, 0.865     , 0.86      , 0.855     , 0.85166667,\n",
       "        0.85      , 0.845     , 0.843     , 0.84      , 0.835     ,\n",
       "        0.83      , 0.82      , 0.815     , 0.81      , 0.805     ,\n",
       "        0.8035    , 0.8       , 0.795     , 0.79      , 0.7875    ,\n",
       "        0.785     , 0.78      , 0.775     , 0.77      , 0.765     ,\n",
       "        0.76      , 0.755     , 0.75107143, 0.75      , 0.745     ,\n",
       "        0.735     , 0.73      , 0.725     , 0.715     , 0.71      ,\n",
       "        0.705     , 0.7       , 0.695     , 0.69      , 0.685     ,\n",
       "        0.68      , 0.675     , 0.665     , 0.6425    , 0.64      ,\n",
       "        0.605     , 0.6       , 0.59      , 0.585     , 0.58      ,\n",
       "        0.57      , 0.56      , 0.55      , 0.54      , 0.53      ,\n",
       "        0.525     , 0.52      , 0.495     , 0.47      , 0.465     ,\n",
       "        0.385     , 0.36      , 0.29      , 0.25      , 0.245     ]))"
      ]
     },
     "execution_count": 541,
     "metadata": {},
     "output_type": "execute_result"
    },
    {
     "data": {
      "image/png": "[encoded data removed]",
      "text/plain": [
       "<Figure size 432x288 with 1 Axes>"
      ]
     },
     "metadata": {
      "needs_background": "light"
     },
     "output_type": "display_data"
    }
   ],
   "source": [
    "plot_roc(y_test, pred[:,1])"
   ]
  },
  {
   "cell_type": "code",
   "execution_count": 492,
   "metadata": {},
   "outputs": [],
   "source": [
    "import seaborn as sns\n",
    "def plot_cm(labels, predictions, p=0.8):\n",
    "    cm = confusion_matrix(labels, predictions > p)\n",
    "    plt.figure(figsize=(5,5))\n",
    "    sns.heatmap(cm, annot=True, fmt=\"d\")\n",
    "    plt.title('Confusion matrix @{:.2f}'.format(p))\n",
    "    plt.ylabel('Actual label')\n",
    "    plt.xlabel('Predicted label')"
   ]
  },
  {
   "cell_type": "code",
   "execution_count": 542,
   "metadata": {},
   "outputs": [
    {
     "data": {
      "image/png": "[encoded data removed]",
      "text/plain": [
       "<Figure size 360x360 with 2 Axes>"
      ]
     },
     "metadata": {
      "needs_background": "light"
     },
     "output_type": "display_data"
    }
   ],
   "source": [
    "plot_cm(y_test, pred[:, 1])"
   ]
  },
  {
   "cell_type": "code",
   "execution_count": 544,
   "metadata": {},
   "outputs": [
    {
     "data": {
      "text/plain": [
       "(1774,)"
      ]
     },
     "execution_count": 544,
     "metadata": {},
     "output_type": "execute_result"
    }
   ],
   "source": [
    "y_test.shape"
   ]
  },
  {
   "cell_type": "code",
   "execution_count": 495,
   "metadata": {},
   "outputs": [],
   "source": [
    "#feature importance\n",
    "fi = pd.DataFrame({'feature': list(X_new_train.columns),\n",
    "                   'importance': clf.feature_importances_}).\\\n",
    "                    sort_values('importance', ascending = False)"
   ]
  },
  {
   "cell_type": "code",
   "execution_count": 497,
   "metadata": {},
   "outputs": [
    {
     "data": {
      "text/html": [
       "<div>\n",
       "<style scoped>\n",
       "    .dataframe tbody tr th:only-of-type {\n",
       "        vertical-align: middle;\n",
       "    }\n",
       "\n",
       "    .dataframe tbody tr th {\n",
       "        vertical-align: top;\n",
       "    }\n",
       "\n",
       "    .dataframe thead th {\n",
       "        text-align: right;\n",
       "    }\n",
       "</style>\n",
       "<table border=\"1\" class=\"dataframe\">\n",
       "  <thead>\n",
       "    <tr style=\"text-align: right;\">\n",
       "      <th></th>\n",
       "      <th>feature</th>\n",
       "      <th>importance</th>\n",
       "    </tr>\n",
       "  </thead>\n",
       "  <tbody>\n",
       "    <tr>\n",
       "      <td>9</td>\n",
       "      <td>CPI2019</td>\n",
       "      <td>0.085694</td>\n",
       "    </tr>\n",
       "    <tr>\n",
       "      <td>7</td>\n",
       "      <td>GDP</td>\n",
       "      <td>0.049078</td>\n",
       "    </tr>\n",
       "    <tr>\n",
       "      <td>8</td>\n",
       "      <td>population</td>\n",
       "      <td>0.044292</td>\n",
       "    </tr>\n",
       "    <tr>\n",
       "      <td>10</td>\n",
       "      <td>investment_real</td>\n",
       "      <td>0.040894</td>\n",
       "    </tr>\n",
       "    <tr>\n",
       "      <td>22</td>\n",
       "      <td>government_effectiveness</td>\n",
       "      <td>0.035426</td>\n",
       "    </tr>\n",
       "    <tr>\n",
       "      <td>3</td>\n",
       "      <td>investment</td>\n",
       "      <td>0.034151</td>\n",
       "    </tr>\n",
       "    <tr>\n",
       "      <td>11</td>\n",
       "      <td>realphysicalassets</td>\n",
       "      <td>0.032277</td>\n",
       "    </tr>\n",
       "    <tr>\n",
       "      <td>4</td>\n",
       "      <td>pcapacity</td>\n",
       "      <td>0.032243</td>\n",
       "    </tr>\n",
       "    <tr>\n",
       "      <td>2</td>\n",
       "      <td>physical</td>\n",
       "      <td>0.031596</td>\n",
       "    </tr>\n",
       "    <tr>\n",
       "      <td>100</td>\n",
       "      <td>PRS_Other</td>\n",
       "      <td>0.031089</td>\n",
       "    </tr>\n",
       "    <tr>\n",
       "      <td>15</td>\n",
       "      <td>life_expectnacy</td>\n",
       "      <td>0.030992</td>\n",
       "    </tr>\n",
       "    <tr>\n",
       "      <td>12</td>\n",
       "      <td>GDP_per_capita</td>\n",
       "      <td>0.030222</td>\n",
       "    </tr>\n",
       "    <tr>\n",
       "      <td>26</td>\n",
       "      <td>voice_and_accountability</td>\n",
       "      <td>0.028176</td>\n",
       "    </tr>\n",
       "    <tr>\n",
       "      <td>101</td>\n",
       "      <td>PRS_Purchase Agreements (private &amp; public)</td>\n",
       "      <td>0.027582</td>\n",
       "    </tr>\n",
       "    <tr>\n",
       "      <td>17</td>\n",
       "      <td>electric_consumption</td>\n",
       "      <td>0.026308</td>\n",
       "    </tr>\n",
       "    <tr>\n",
       "      <td>14</td>\n",
       "      <td>GDP_deflator</td>\n",
       "      <td>0.026160</td>\n",
       "    </tr>\n",
       "    <tr>\n",
       "      <td>18</td>\n",
       "      <td>domestic_credit_to_private</td>\n",
       "      <td>0.024170</td>\n",
       "    </tr>\n",
       "    <tr>\n",
       "      <td>104</td>\n",
       "      <td>Renewables_Conventional</td>\n",
       "      <td>0.022758</td>\n",
       "    </tr>\n",
       "    <tr>\n",
       "      <td>0</td>\n",
       "      <td>period</td>\n",
       "      <td>0.022407</td>\n",
       "    </tr>\n",
       "    <tr>\n",
       "      <td>105</td>\n",
       "      <td>Renewables_Renewables</td>\n",
       "      <td>0.021384</td>\n",
       "    </tr>\n",
       "  </tbody>\n",
       "</table>\n",
       "</div>"
      ],
      "text/plain": [
       "                                        feature  importance\n",
       "9                                       CPI2019    0.085694\n",
       "7                                           GDP    0.049078\n",
       "8                                    population    0.044292\n",
       "10                              investment_real    0.040894\n",
       "22                     government_effectiveness    0.035426\n",
       "3                                    investment    0.034151\n",
       "11                           realphysicalassets    0.032277\n",
       "4                                     pcapacity    0.032243\n",
       "2                                      physical    0.031596\n",
       "100                                   PRS_Other    0.031089\n",
       "15                              life_expectnacy    0.030992\n",
       "12                               GDP_per_capita    0.030222\n",
       "26                     voice_and_accountability    0.028176\n",
       "101  PRS_Purchase Agreements (private & public)    0.027582\n",
       "17                         electric_consumption    0.026308\n",
       "14                                 GDP_deflator    0.026160\n",
       "18                   domestic_credit_to_private    0.024170\n",
       "104                     Renewables_Conventional    0.022758\n",
       "0                                        period    0.022407\n",
       "105                       Renewables_Renewables    0.021384"
      ]
     },
     "execution_count": 497,
     "metadata": {},
     "output_type": "execute_result"
    }
   ],
   "source": [
    "fi.head(20)"
   ]
  },
  {
   "cell_type": "code",
   "execution_count": 545,
   "metadata": {},
   "outputs": [],
   "source": [
    "from sklearn.linear_model import LogisticRegression\n",
    "clf_1 = LogisticRegression()"
   ]
  },
  {
   "cell_type": "code",
   "execution_count": 546,
   "metadata": {},
   "outputs": [
    {
     "name": "stderr",
     "output_type": "stream",
     "text": [
      "C:\\Anaconda\\lib\\site-packages\\sklearn\\linear_model\\logistic.py:432: FutureWarning: Default solver will be changed to 'lbfgs' in 0.22. Specify a solver to silence this warning.\n",
      "  FutureWarning)\n"
     ]
    },
    {
     "data": {
      "text/plain": [
       "LogisticRegression(C=1.0, class_weight=None, dual=False, fit_intercept=True,\n",
       "                   intercept_scaling=1, l1_ratio=None, max_iter=100,\n",
       "                   multi_class='warn', n_jobs=None, penalty='l2',\n",
       "                   random_state=None, solver='warn', tol=0.0001, verbose=0,\n",
       "                   warm_start=False)"
      ]
     },
     "execution_count": 546,
     "metadata": {},
     "output_type": "execute_result"
    }
   ],
   "source": [
    "clf_1.fit(X_new_train, y_train)"
   ]
  },
  {
   "cell_type": "code",
   "execution_count": 547,
   "metadata": {},
   "outputs": [
    {
     "name": "stderr",
     "output_type": "stream",
     "text": [
      "C:\\Anaconda\\lib\\site-packages\\sklearn\\linear_model\\logistic.py:432: FutureWarning: Default solver will be changed to 'lbfgs' in 0.22. Specify a solver to silence this warning.\n",
      "  FutureWarning)\n",
      "C:\\Anaconda\\lib\\site-packages\\sklearn\\linear_model\\logistic.py:432: FutureWarning: Default solver will be changed to 'lbfgs' in 0.22. Specify a solver to silence this warning.\n",
      "  FutureWarning)\n",
      "C:\\Anaconda\\lib\\site-packages\\sklearn\\linear_model\\logistic.py:432: FutureWarning: Default solver will be changed to 'lbfgs' in 0.22. Specify a solver to silence this warning.\n",
      "  FutureWarning)\n",
      "C:\\Anaconda\\lib\\site-packages\\sklearn\\linear_model\\logistic.py:432: FutureWarning: Default solver will be changed to 'lbfgs' in 0.22. Specify a solver to silence this warning.\n",
      "  FutureWarning)\n",
      "C:\\Anaconda\\lib\\site-packages\\sklearn\\linear_model\\logistic.py:432: FutureWarning: Default solver will be changed to 'lbfgs' in 0.22. Specify a solver to silence this warning.\n",
      "  FutureWarning)\n"
     ]
    }
   ],
   "source": [
    "pred_1 = cross_val_predict(clf_1,\n",
    "                          X_new_test,\n",
    "                          y_test,\n",
    "                          method='predict_proba',\n",
    "                          cv=5)"
   ]
  },
  {
   "cell_type": "code",
   "execution_count": 548,
   "metadata": {},
   "outputs": [
    {
     "data": {
      "text/plain": [
       "(array([0.        , 0.        , 0.        , 0.01369863, 0.01369863,\n",
       "        0.02739726, 0.02739726, 0.04109589, 0.04109589, 0.05479452,\n",
       "        0.05479452, 0.06849315, 0.06849315, 0.08219178, 0.08219178,\n",
       "        0.09589041, 0.09589041, 0.10958904, 0.10958904, 0.12328767,\n",
       "        0.12328767, 0.1369863 , 0.1369863 , 0.15068493, 0.15068493,\n",
       "        0.16438356, 0.16438356, 0.17808219, 0.17808219, 0.19178082,\n",
       "        0.19178082, 0.20547945, 0.20547945, 0.21917808, 0.21917808,\n",
       "        0.23287671, 0.23287671, 0.24657534, 0.24657534, 0.26027397,\n",
       "        0.26027397, 0.2739726 , 0.2739726 , 0.28767123, 0.28767123,\n",
       "        0.30136986, 0.30136986, 0.31506849, 0.31506849, 0.32876712,\n",
       "        0.32876712, 0.34246575, 0.34246575, 0.35616438, 0.35616438,\n",
       "        0.36986301, 0.36986301, 0.38356164, 0.38356164, 0.39726027,\n",
       "        0.39726027, 0.4109589 , 0.4109589 , 0.42465753, 0.42465753,\n",
       "        0.43835616, 0.43835616, 0.46575342, 0.46575342, 0.47945205,\n",
       "        0.47945205, 0.49315068, 0.49315068, 0.50684932, 0.50684932,\n",
       "        0.52054795, 0.52054795, 0.53424658, 0.53424658, 0.56164384,\n",
       "        0.56164384, 0.57534247, 0.57534247, 0.5890411 , 0.5890411 ,\n",
       "        0.60273973, 0.60273973, 0.61643836, 0.61643836, 0.63013699,\n",
       "        0.63013699, 0.64383562, 0.64383562, 0.65753425, 0.65753425,\n",
       "        0.67123288, 0.67123288, 0.68493151, 0.68493151, 0.69863014,\n",
       "        0.69863014, 0.7260274 , 0.7260274 , 0.73972603, 0.73972603,\n",
       "        0.75342466, 0.75342466, 0.76712329, 0.76712329, 0.78082192,\n",
       "        0.78082192, 0.79452055, 0.79452055, 0.82191781, 0.82191781,\n",
       "        0.84931507, 0.84931507, 0.8630137 , 0.8630137 , 0.87671233,\n",
       "        0.87671233, 0.89041096, 0.89041096, 0.91780822, 0.91780822,\n",
       "        0.93150685, 0.93150685, 0.95890411, 0.95890411, 0.97260274,\n",
       "        0.97260274, 1.        , 1.        ]),\n",
       " array([0.00000000e+00, 5.87889477e-04, 1.76366843e-03, 1.76366843e-03,\n",
       "        8.23045267e-03, 8.23045267e-03, 2.70429159e-02, 2.70429159e-02,\n",
       "        2.93944738e-02, 2.93944738e-02, 6.70194004e-02, 6.70194004e-02,\n",
       "        1.41681364e-01, 1.41681364e-01, 1.83421517e-01, 1.83421517e-01,\n",
       "        2.59847149e-01, 2.59847149e-01, 3.42151675e-01, 3.42151675e-01,\n",
       "        3.70370370e-01, 3.70370370e-01, 3.90946502e-01, 3.90946502e-01,\n",
       "        4.03292181e-01, 4.03292181e-01, 4.06231628e-01, 4.06231628e-01,\n",
       "        5.25573192e-01, 5.25573192e-01, 5.57319224e-01, 5.57319224e-01,\n",
       "        6.18459730e-01, 6.18459730e-01, 6.35508524e-01, 6.35508524e-01,\n",
       "        7.01352146e-01, 7.01352146e-01, 7.09582598e-01, 7.09582598e-01,\n",
       "        7.14285714e-01, 7.14285714e-01, 7.25455614e-01, 7.25455614e-01,\n",
       "        7.40740741e-01, 7.40740741e-01, 7.53674309e-01, 7.53674309e-01,\n",
       "        7.56613757e-01, 7.56613757e-01, 7.78953557e-01, 7.78953557e-01,\n",
       "        7.85420341e-01, 7.85420341e-01, 8.05996473e-01, 8.05996473e-01,\n",
       "        8.10699588e-01, 8.10699588e-01, 8.23633157e-01, 8.23633157e-01,\n",
       "        8.28336273e-01, 8.28336273e-01, 8.36566725e-01, 8.36566725e-01,\n",
       "        8.38918283e-01, 8.38918283e-01, 8.40094062e-01, 8.40094062e-01,\n",
       "        8.43033510e-01, 8.43033510e-01, 8.43621399e-01, 8.43621399e-01,\n",
       "        8.48324515e-01, 8.48324515e-01, 8.48912404e-01, 8.48912404e-01,\n",
       "        8.50676073e-01, 8.50676073e-01, 8.54203410e-01, 8.54203410e-01,\n",
       "        8.68312757e-01, 8.68312757e-01, 8.77718989e-01, 8.77718989e-01,\n",
       "        8.79482657e-01, 8.79482657e-01, 8.82422105e-01, 8.82422105e-01,\n",
       "        8.84773663e-01, 8.84773663e-01, 8.93592005e-01, 8.93592005e-01,\n",
       "        8.99470899e-01, 8.99470899e-01, 9.05349794e-01, 9.05349794e-01,\n",
       "        9.07113463e-01, 9.07113463e-01, 9.26513815e-01, 9.26513815e-01,\n",
       "        9.31804821e-01, 9.31804821e-01, 9.35332158e-01, 9.35332158e-01,\n",
       "        9.42974721e-01, 9.42974721e-01, 9.43562610e-01, 9.43562610e-01,\n",
       "        9.51205173e-01, 9.51205173e-01, 9.56496179e-01, 9.56496179e-01,\n",
       "        9.60611405e-01, 9.60611405e-01, 9.68253968e-01, 9.68253968e-01,\n",
       "        9.72957084e-01, 9.72957084e-01, 9.74132863e-01, 9.74132863e-01,\n",
       "        9.78835979e-01, 9.78835979e-01, 9.80599647e-01, 9.80599647e-01,\n",
       "        9.81187537e-01, 9.81187537e-01, 9.85302763e-01, 9.85302763e-01,\n",
       "        9.89417989e-01, 9.89417989e-01, 9.95296884e-01, 9.95296884e-01,\n",
       "        1.00000000e+00]),\n",
       " array([1.99999126, 0.99999126, 0.99997391, 0.99996936, 0.99984855,\n",
       "        0.9998424 , 0.99960778, 0.99960039, 0.99958708, 0.99958538,\n",
       "        0.99914868, 0.99914595, 0.99846425, 0.99845947, 0.99796834,\n",
       "        0.9979618 , 0.99694489, 0.99694394, 0.99562699, 0.99562026,\n",
       "        0.99513258, 0.99513048, 0.99455131, 0.99455046, 0.99427186,\n",
       "        0.99426382, 0.99419928, 0.99418697, 0.99032331, 0.99024888,\n",
       "        0.98833491, 0.9883323 , 0.98366361, 0.98355719, 0.98190866,\n",
       "        0.98183166, 0.9745684 , 0.97445406, 0.97305984, 0.97305446,\n",
       "        0.97216089, 0.97212303, 0.9704665 , 0.97040402, 0.96689587,\n",
       "        0.96687374, 0.96316055, 0.96307192, 0.96257818, 0.96257726,\n",
       "        0.95643297, 0.95580831, 0.95347305, 0.95341269, 0.94642508,\n",
       "        0.94518972, 0.94373773, 0.94372805, 0.93839914, 0.9382397 ,\n",
       "        0.93659679, 0.93658844, 0.93421732, 0.93362472, 0.93305783,\n",
       "        0.93291049, 0.93279752, 0.93211218, 0.93047953, 0.9304528 ,\n",
       "        0.93001595, 0.92978533, 0.9271276 , 0.92711318, 0.92672805,\n",
       "        0.92663602, 0.92638292, 0.92599545, 0.92383549, 0.92367748,\n",
       "        0.91422936, 0.91416296, 0.90739522, 0.90632307, 0.90540465,\n",
       "        0.90524273, 0.90298503, 0.90286361, 0.90195905, 0.90167015,\n",
       "        0.89013711, 0.88967554, 0.88599688, 0.88520617, 0.87789685,\n",
       "        0.8772652 , 0.87457631, 0.87237448, 0.84122492, 0.84057128,\n",
       "        0.83379723, 0.83232675, 0.82627832, 0.82567007, 0.80737046,\n",
       "        0.8054245 , 0.80322783, 0.80202215, 0.78605131, 0.78563292,\n",
       "        0.77017151, 0.76964044, 0.75113411, 0.74320103, 0.69289259,\n",
       "        0.68895779, 0.66065763, 0.66035628, 0.65900708, 0.65862881,\n",
       "        0.64233406, 0.64211008, 0.63413315, 0.61045212, 0.60724406,\n",
       "        0.60593533, 0.54836689, 0.53637599, 0.50242242, 0.50032179,\n",
       "        0.32565635, 0.29495191, 0.0047997 ]))"
      ]
     },
     "execution_count": 548,
     "metadata": {},
     "output_type": "execute_result"
    },
    {
     "data": {
      "image/png": "[encoded data removed]",
      "text/plain": [
       "<Figure size 432x288 with 1 Axes>"
      ]
     },
     "metadata": {
      "needs_background": "light"
     },
     "output_type": "display_data"
    }
   ],
   "source": [
    "plot_roc(y_test, pred_1[:,1])"
   ]
  },
  {
   "cell_type": "code",
   "execution_count": 549,
   "metadata": {},
   "outputs": [
    {
     "data": {
      "image/png": "[encoded data removed]",
      "text/plain": [
       "<Figure size 360x360 with 2 Axes>"
      ]
     },
     "metadata": {
      "needs_background": "light"
     },
     "output_type": "display_data"
    }
   ],
   "source": [
    "plot_cm(y_test, pred_1[:, 1])"
   ]
  },
  {
   "cell_type": "code",
   "execution_count": null,
   "metadata": {},
   "outputs": [],
   "source": []
  }
 ],
 "metadata": {
  "kernelspec": {
   "display_name": "Python 3",
   "language": "python",
   "name": "python3"
  },
  "language_info": {
   "codemirror_mode": {
    "name": "ipython",
    "version": 3
   },
   "file_extension": ".py",
   "mimetype": "text/x-python",
   "name": "python",
   "nbconvert_exporter": "python",
   "pygments_lexer": "ipython3",
   "version": "3.7.4"
  }
 },
 "nbformat": 4,
 "nbformat_minor": 2
}
